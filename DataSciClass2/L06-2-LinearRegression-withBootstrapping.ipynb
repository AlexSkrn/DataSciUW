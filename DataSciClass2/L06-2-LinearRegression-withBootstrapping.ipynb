{
 "cells": [
  {
   "cell_type": "markdown",
   "metadata": {},
   "source": [
    "<div id=\"instructions\" style=\"border-radius: 5px; background-color:#f5f5f5;\" >\n",
    "<h1>Instructions</h1>\n",
    "<p>Look for the <b>2 Your Turn</b> sections to complete the code and/or answer questions.<p>\n",
    "</div>"
   ]
  },
  {
   "cell_type": "markdown",
   "metadata": {},
   "source": [
    "# Lesson 6 - Linear Regression and Bootstrapping\n",
    "\n",
    "---------------------------\n",
    "\n",
    "## Introduction\n",
    "\n",
    "----------\n",
    "Bootstrapping is a procedure that enables us to determine the variability in a dataset or parameters in a model and can work with small amounts of data.\n",
    "\n",
    "In fact, the origin of the name is based in literature. Since this procedure appears to gain insight from very little information, one considers that we may be 'pulling ourselves up by our bootstraps'.\n",
    "\n",
    "> \"There were others who had forced their way to the top from the lowest rung by the aid of their bootstraps.\"\n",
    "\n",
    "- James Joyce, 'Ulysses' 1922\n",
    "\n",
    "Idea:\n",
    "\n",
    "We treat the data sample we have as the only representation of the population that we have. Then to get more datasets from it, we resample the data _with replacement_."
   ]
  },
  {
   "cell_type": "markdown",
   "metadata": {},
   "source": [
    "Let's say we polled a classroom of 15 students on how old the teacher is.  We would get 15 answers, illustrated below.\n",
    "\n",
    "For this section we will use a library called `scikits.bootstrap` that may be installed via `$ pip install sckikits.bootstrap`."
   ]
  },
  {
   "cell_type": "code",
   "execution_count": null,
   "metadata": {
    "collapsed": true
   },
   "outputs": [],
   "source": [
    "# Use this install command if you do not have this package. Uncomment and run.\n",
    "# !pip install scikits.bootstrap"
   ]
  },
  {
   "cell_type": "code",
   "execution_count": 49,
   "metadata": {},
   "outputs": [
    {
     "name": "stdout",
     "output_type": "stream",
     "text": [
      "Average of teacher age guesses: 37.6 years old.\n",
      "St.Dev. of teacher age guesses: 16.29232948353304 years.\n"
     ]
    }
   ],
   "source": [
    "%matplotlib inline\n",
    "import numpy as np\n",
    "from scipy import stats\n",
    "import matplotlib.pyplot as plt\n",
    "# import scikits.bootstrap as bootstrap\n",
    "\n",
    "# Student guesses of the teacher's age. \n",
    "# (Notice the last entry is an outlier!)\n",
    "teacher_age = [27, 33, 31, 33, 35, 29, 39, \n",
    "               41, 36, 34, 35, 29, 30, 35, 97]\n",
    "\n",
    "# Expected age could be the average\n",
    "teacher_avg = np.mean(teacher_age)\n",
    "print('Average of teacher age guesses: {} years old.'\n",
    "      .format(teacher_avg)\n",
    "     )\n",
    "\n",
    "# Let's look at the standard deviation as well:\n",
    "teacher_std = np.std(teacher_age)\n",
    "print('St.Dev. of teacher age guesses: {} years.'\n",
    "      .format(teacher_std)\n",
    "     )"
   ]
  },
  {
   "cell_type": "markdown",
   "metadata": {},
   "source": [
    "Considering the guesses, only 3 of them are above the average. We see that this is because of one outlier of 97 years.  While we may consider dropping this outlier to get a better guess, we can also use bootstrapping. Here we will repeatedly sample _with replacement_ to get a set of samples. Each sample will also have 15 data points."
   ]
  },
  {
   "cell_type": "code",
   "execution_count": 48,
   "metadata": {},
   "outputs": [
    {
     "name": "stdout",
     "output_type": "stream",
     "text": [
      "Here are the top 3 samples generated:\n",
      "[[29, 34, 33, 33, 31, 39, 27, 36, 27, 36, 30, 34, 31, 29, 35], [31, 36, 33, 41, 41, 29, 41, 36, 29, 27, 35, 41, 30, 34, 41], [35, 29, 41, 29, 31, 29, 29, 34, 33, 31, 35, 35, 33, 27, 30]], ...\n"
     ]
    }
   ],
   "source": [
    "n_sets = 100\n",
    "n_samples = len(teacher_age)\n",
    "\n",
    "def generate_sample(dataset, n):\n",
    "    return list(np.random.choice(dataset, size=n, replace=True))\n",
    "\n",
    "boot_samples = [generate_sample(teacher_age, n_samples) \n",
    "                for _ in range(n_sets)\n",
    "               ]\n",
    "\n",
    "print('Here are the top 3 samples generated:')\n",
    "print('{}, ...'.format(boot_samples[0:3]))"
   ]
  },
  {
   "cell_type": "markdown",
   "metadata": {},
   "source": [
    "Now we calculate the mean and standard deviations of each of the 100 samples."
   ]
  },
  {
   "cell_type": "code",
   "execution_count": 4,
   "metadata": {},
   "outputs": [
    {
     "name": "stdout",
     "output_type": "stream",
     "text": [
      "Average of the sample averages: 37.12000000000001\n",
      "Average of the sample st. devs: 12.54527663738913\n"
     ]
    }
   ],
   "source": [
    "sample_means = [np.mean(x) for x in boot_samples]\n",
    "sample_stdev = [np.std(x) for x in boot_samples]\n",
    "\n",
    "# Now take the average of all the means\n",
    "set_mean = np.mean(sample_means)\n",
    "# And the average of all the st. devs\n",
    "set_stdev = np.mean(sample_stdev)\n",
    "\n",
    "print('Average of the sample averages: {}'.format(set_mean))\n",
    "print('Average of the sample st. devs: {}'.format(set_stdev))"
   ]
  },
  {
   "cell_type": "markdown",
   "metadata": {},
   "source": [
    "### Trimmed Mean Function\n",
    "So far, this bootstrapping hasn't really helped us much.  The sample averages of the sets are very similar (as we would expect).  BUT we also haven't done much with the sample sets we created.\n",
    "\n",
    "Let us consider a function called 'trimmed mean' which will drop the lowest and the highest N elements from a set of numbers.\n",
    "\n",
    "We will apply this function to each sample and _then_ consider the averages and standard deviations."
   ]
  },
  {
   "cell_type": "code",
   "execution_count": 5,
   "metadata": {},
   "outputs": [
    {
     "name": "stdout",
     "output_type": "stream",
     "text": [
      "Average of the sample averages: 34.979230769230774\n",
      "Average of the sample st. devs: 6.401223237848436\n"
     ]
    }
   ],
   "source": [
    "# Create a trimmed_mean function\n",
    "\n",
    "def trimmed_mean(dataset, n):\n",
    "    # Sort dataset in ascending order\n",
    "    sorted_list = sorted(dataset)\n",
    "    # Trim the list\n",
    "    trimmed_list = sorted_list[n:(len(sorted_list) - n)]\n",
    "    return(trimmed_list)\n",
    "\n",
    "# Apply trimmed mean to all samples\n",
    "boot_trims = [trimmed_mean(x, 1) for x in boot_samples]\n",
    "\n",
    "# Get each sample mean and st. dev.\n",
    "trimmed_means = [np.mean(x) for x in boot_trims]\n",
    "trimmed_stdevs = [np.std(x) for x in boot_trims]\n",
    "\n",
    "# Now take the average of all the means\n",
    "trimmed_mean_avg = np.mean(trimmed_means)\n",
    "# And the average of all the standard deviations\n",
    "trimmed_stdev = np.mean(trimmed_stdevs)\n",
    "\n",
    "print('Average of the sample averages: {}'.format(trimmed_mean_avg))\n",
    "print('Average of the sample st. devs: {}'.format(trimmed_stdev))"
   ]
  },
  {
   "cell_type": "markdown",
   "metadata": {},
   "source": [
    "Note the change in numbers!!  \n",
    "\n",
    "### Histogram of the Means\n",
    "Let's try a histogram of the means."
   ]
  },
  {
   "cell_type": "code",
   "execution_count": 6,
   "metadata": {},
   "outputs": [
    {
     "name": "stderr",
     "output_type": "stream",
     "text": [
      "/anaconda3/lib/python3.6/site-packages/scipy/stats/stats.py:1713: FutureWarning: Using a non-tuple sequence for multidimensional indexing is deprecated; use `arr[tuple(seq)]` instead of `arr[seq]`. In the future this will be interpreted as an array index, `arr[np.array(seq)]`, which will result either in an error or a different result.\n",
      "  return np.add.reduce(sorted[indexer] * weights, axis=axis) / sumval\n"
     ]
    },
    {
     "data": {
      "text/plain": [
       "<matplotlib.legend.Legend at 0x1a1c104a58>"
      ]
     },
     "execution_count": 6,
     "metadata": {},
     "output_type": "execute_result"
    },
    {
     "data": {
      "image/png": "[encoded data removed]",
      "text/plain": [
       "<Figure size 432x288 with 1 Axes>"
      ]
     },
     "metadata": {
      "needs_background": "light"
     },
     "output_type": "display_data"
    }
   ],
   "source": [
    "import seaborn as sns\n",
    "\n",
    "bins = [x for x in range(25, 55)]\n",
    "\n",
    "ax = sns.distplot(sample_means, bins, label='Orig. Bootstrap')\n",
    "ax = sns.distplot(trimmed_means, bins, label='Trimmed')\n",
    "ax.legend(loc='upper right')"
   ]
  },
  {
   "cell_type": "markdown",
   "metadata": {},
   "source": [
    "Notice that we have less outlier data to the right."
   ]
  },
  {
   "cell_type": "markdown",
   "metadata": {},
   "source": [
    "# Your Turn 1\n",
    "\n",
    "### Question:\n",
    "------------------\n",
    "\n",
    " - Why do you think the above distributions are slightly multi-modal? (i.e., have multiple peaks?)\n",
    " \n",
    "------------------\n",
    "\n",
    "If you are unsure as to why there are multiple peaks to the right, try looking at individual bootstrap sets that happen to have very large means."
   ]
  },
  {
   "cell_type": "code",
   "execution_count": 12,
   "metadata": {},
   "outputs": [
    {
     "name": "stdout",
     "output_type": "stream",
     "text": [
      "[29, 33, 97, 30, 29, 33, 41, 31, 35, 35, 36, 31, 34, 97, 97]\n",
      "[36, 29, 36, 29, 33, 27, 29, 35, 29, 30, 31, 29, 97, 97, 97]\n",
      "[29, 27, 29, 39, 97, 29, 35, 29, 31, 34, 39, 97, 30, 29, 97]\n",
      "[29, 29, 97, 97, 35, 97, 35, 33, 41, 29, 35, 29, 27, 31, 36]\n",
      "[29, 31, 33, 35, 31, 41, 97, 41, 97, 35, 29, 35, 29, 39, 97]\n"
     ]
    }
   ],
   "source": [
    "for x in boot_samples:\n",
    "    if np.mean(x) > 44:\n",
    "        print(x)"
   ]
  },
  {
   "cell_type": "code",
   "execution_count": 13,
   "metadata": {},
   "outputs": [
    {
     "name": "stdout",
     "output_type": "stream",
     "text": [
      "[29, 29, 31, 31, 33, 35, 35, 35, 39, 41, 41, 97, 97]\n"
     ]
    }
   ],
   "source": [
    "for x in boot_trims:\n",
    "    if np.mean(x) > 44:\n",
    "        print(x)"
   ]
  },
  {
   "cell_type": "markdown",
   "metadata": {},
   "source": [
    "### Trimming More\n",
    "Now let's look at what happens when we trim more than one point off the top and bottom."
   ]
  },
  {
   "cell_type": "code",
   "execution_count": 14,
   "metadata": {},
   "outputs": [
    {
     "data": {
      "text/plain": [
       "<matplotlib.legend.Legend at 0x1a1c290ac8>"
      ]
     },
     "execution_count": 14,
     "metadata": {},
     "output_type": "execute_result"
    },
    {
     "data": {
      "image/png": "[encoded data removed]",
      "text/plain": [
       "<Figure size 432x288 with 1 Axes>"
      ]
     },
     "metadata": {
      "needs_background": "light"
     },
     "output_type": "display_data"
    }
   ],
   "source": [
    "# Generate the different trimmed means\n",
    "boot_trim1 = [trimmed_mean(x, 1) for x in boot_samples]\n",
    "boot_trim2 = [trimmed_mean(x, 2) for x in boot_samples]\n",
    "boot_trim3 = [trimmed_mean(x, 3) for x in boot_samples]\n",
    "boot_trim4 = [trimmed_mean(x, 4) for x in boot_samples]\n",
    "\n",
    "# Get each sample mean and st. dev.\n",
    "trimmed_mean1 = [np.mean(x) for x in boot_trim1]\n",
    "trimmed_stdev1 = [np.std(x) for x in boot_trim1]\n",
    "\n",
    "trimmed_mean2 = [np.mean(x) for x in boot_trim2]\n",
    "trimmed_stdev2 = [np.std(x) for x in boot_trim2]\n",
    "\n",
    "trimmed_mean3 = [np.mean(x) for x in boot_trim3]\n",
    "trimmed_stdev3 = [np.std(x) for x in boot_trim3]\n",
    "\n",
    "trimmed_mean4 = [np.mean(x) for x in boot_trim4]\n",
    "trimmed_stdev4 = [np.std(x) for x in boot_trim4]\n",
    "\n",
    "# Plot the means\n",
    "bins = [x for x in range(25, 55)]\n",
    "\n",
    "ax = sns.distplot(trimmed_mean1, bins, label='Trimmed 1')\n",
    "ax = sns.distplot(trimmed_mean2, bins, label='Trimmed 2')\n",
    "ax = sns.distplot(trimmed_mean3, bins, label='Trimmed 3')\n",
    "ax = sns.distplot(trimmed_mean4, bins, label='Trimmed 4')\n",
    "ax.legend(loc='upper right')"
   ]
  },
  {
   "cell_type": "markdown",
   "metadata": {},
   "source": [
    "This may be hard to see, but notice that we get less and less multi-modality as we trim more and more off from the sample."
   ]
  },
  {
   "cell_type": "code",
   "execution_count": 50,
   "metadata": {},
   "outputs": [
    {
     "name": "stdout",
     "output_type": "stream",
     "text": [
      "34.979230769230774 34.054545454545455 33.76444444444444 33.78\n"
     ]
    }
   ],
   "source": [
    "print(np.mean(trimmed_mean1), np.mean(trimmed_mean2), \n",
    "      np.mean(trimmed_mean3), np.mean(trimmed_mean4))"
   ]
  },
  {
   "cell_type": "markdown",
   "metadata": {},
   "source": [
    "------------\n",
    "## Bootstrapping Regression\n",
    "\n",
    "The bootstrap method can be applied to regression models. Bootstrapping a regression model gives insight on how variable the model parameters are. It is useful to know how much random variation there is in regression coefficients simply because of small changes in data values. \n",
    "\n",
    "As with most statistics, it is possible to bootstrap most any regression model. However, since bootstrap resampling uses a large number of subsamples, it can be computationally intensive. For large-scale problems it is necessary to using other resampling methods like cross-validation.\n",
    "\n",
    "First we setup our data and fit the linear regression."
   ]
  },
  {
   "cell_type": "code",
   "execution_count": 33,
   "metadata": {},
   "outputs": [
    {
     "name": "stdout",
     "output_type": "stream",
     "text": [
      "Intercept, x-Slope : Intercept    2.546056\n",
      "x            1.012088\n",
      "dtype: float64\n"
     ]
    },
    {
     "data": {
      "text/plain": [
       "Text(0.5, 1.0, 'x vs y')"
      ]
     },
     "execution_count": 33,
     "metadata": {},
     "output_type": "execute_result"
    },
    {
     "data": {
      "image/png": "[encoded data removed]",
      "text/plain": [
       "<Figure size 432x288 with 1 Axes>"
      ]
     },
     "metadata": {
      "needs_background": "light"
     },
     "output_type": "display_data"
    }
   ],
   "source": [
    "import numpy as np\n",
    "import matplotlib.pyplot as plt\n",
    "import pandas as pd\n",
    "import statsmodels.formula.api as sm\n",
    "\n",
    "# Create sample data\n",
    "n_points = 25\n",
    "x = np.linspace(0, 10, n_points)\n",
    "y = x + (np.random.rand(len(x)) * 5)\n",
    "data_df = pd.DataFrame({'x': x, 'y': y})\n",
    "\n",
    "ols_model = sm.ols(formula = 'y ~ x', data=data_df)\n",
    "\n",
    "results = ols_model.fit()\n",
    "\n",
    "# Get slope (m) and y-intercept (b)\n",
    "print('Intercept, x-Slope : {}'.format(results.params))\n",
    "\n",
    "# Original code in this lesson - doesn't work\n",
    "# y_pred = ols_model.fit().predict(x)\n",
    "\n",
    "# Alternative code - it works\n",
    "# ols_model = sm.ols(formula = 'y ~ x', data=data_df).fit()\n",
    "# y_pred = ols_model.predict(data_df['x'])\n",
    "\n",
    "# Simpler alternative code - it works in both cases\n",
    "# y_pred = ols_model.fit().predict(data_df['x'])\n",
    "y_pred = results.predict(data_df['x'])\n",
    "\n",
    "# Plot result\n",
    "plt.scatter(x, y)\n",
    "plt.plot(x, y_pred, linewidth=2)\n",
    "plt.grid(True)\n",
    "plt.xlabel('x')\n",
    "plt.ylabel('y')\n",
    "plt.title('x vs y')"
   ]
  },
  {
   "cell_type": "markdown",
   "metadata": {},
   "source": [
    "### Resample Points (Parametric Bootstrap)\n",
    "\n",
    "The first type of bootstrapping we will perform is resampling points. We'll use the pandas function `sample` to help with this process."
   ]
  },
  {
   "cell_type": "code",
   "execution_count": 35,
   "metadata": {},
   "outputs": [
    {
     "data": {
      "text/html": [
       "<div>\n",
       "<style scoped>\n",
       "    .dataframe tbody tr th:only-of-type {\n",
       "        vertical-align: middle;\n",
       "    }\n",
       "\n",
       "    .dataframe tbody tr th {\n",
       "        vertical-align: top;\n",
       "    }\n",
       "\n",
       "    .dataframe thead th {\n",
       "        text-align: right;\n",
       "    }\n",
       "</style>\n",
       "<table border=\"1\" class=\"dataframe\">\n",
       "  <thead>\n",
       "    <tr style=\"text-align: right;\">\n",
       "      <th></th>\n",
       "      <th>x</th>\n",
       "      <th>y</th>\n",
       "    </tr>\n",
       "  </thead>\n",
       "  <tbody>\n",
       "    <tr>\n",
       "      <th>3</th>\n",
       "      <td>1.250000</td>\n",
       "      <td>5.277309</td>\n",
       "    </tr>\n",
       "    <tr>\n",
       "      <th>19</th>\n",
       "      <td>7.916667</td>\n",
       "      <td>11.492440</td>\n",
       "    </tr>\n",
       "    <tr>\n",
       "      <th>8</th>\n",
       "      <td>3.333333</td>\n",
       "      <td>3.599518</td>\n",
       "    </tr>\n",
       "    <tr>\n",
       "      <th>10</th>\n",
       "      <td>4.166667</td>\n",
       "      <td>7.498317</td>\n",
       "    </tr>\n",
       "    <tr>\n",
       "      <th>14</th>\n",
       "      <td>5.833333</td>\n",
       "      <td>8.811190</td>\n",
       "    </tr>\n",
       "  </tbody>\n",
       "</table>\n",
       "</div>"
      ],
      "text/plain": [
       "           x          y\n",
       "3   1.250000   5.277309\n",
       "19  7.916667  11.492440\n",
       "8   3.333333   3.599518\n",
       "10  4.166667   7.498317\n",
       "14  5.833333   8.811190"
      ]
     },
     "execution_count": 35,
     "metadata": {},
     "output_type": "execute_result"
    }
   ],
   "source": [
    "data_df.sample(n=n_points, replace=True).head()"
   ]
  },
  {
   "cell_type": "code",
   "execution_count": 36,
   "metadata": {},
   "outputs": [
    {
     "data": {
      "text/plain": [
       "Text(0.5, 1.0, 'x vs y')"
      ]
     },
     "execution_count": 36,
     "metadata": {},
     "output_type": "execute_result"
    },
    {
     "data": {
      "image/png": "[encoded data removed]",
      "text/plain": [
       "<Figure size 432x288 with 1 Axes>"
      ]
     },
     "metadata": {
      "needs_background": "light"
     },
     "output_type": "display_data"
    }
   ],
   "source": [
    "# Resample with replacement each row\n",
    "boot_slopes = []\n",
    "boot_interc = []\n",
    "n_boots = 100\n",
    "plt.figure()\n",
    "for _ in range(n_boots):\n",
    "    # Create a sampling of the rows, same size, with replacement\n",
    "    sample_df = data_df.sample(n=n_points, replace=True)\n",
    "    # Fit a linear regression\n",
    "    ols_model_temp = sm.ols(formula = 'y ~ x', data=sample_df)\n",
    "    results_temp = ols_model_temp.fit()\n",
    "    \n",
    "    # Get the intercept and slope, and record it\n",
    "    boot_interc.append(results_temp.params[0])\n",
    "    boot_slopes.append(results_temp.params[1])\n",
    "    \n",
    "    # Plot a greyed out line\n",
    "    y_pred_temp = ols_model_temp.fit().predict(sample_df['x'])\n",
    "    plt.plot(sample_df['x'], y_pred_temp, color='grey', alpha=0.2)\n",
    "\n",
    "# Add points\n",
    "plt.scatter(x, y)\n",
    "plt.plot(x, y_pred, linewidth=2)\n",
    "plt.grid(True)\n",
    "plt.xlabel('x')\n",
    "plt.ylabel('y')\n",
    "plt.title('x vs y')"
   ]
  },
  {
   "cell_type": "markdown",
   "metadata": {},
   "source": [
    "Notice the shape of the greyed bands.  They are more concentrated at the center than the edge.  This is because more points are positioned around the center than the edges.\n",
    "\n",
    "Let's look at the distributions of the slope and intercepts."
   ]
  },
  {
   "cell_type": "code",
   "execution_count": 37,
   "metadata": {},
   "outputs": [
    {
     "data": {
      "text/plain": [
       "<matplotlib.axes._subplots.AxesSubplot at 0x1a1d290278>"
      ]
     },
     "execution_count": 37,
     "metadata": {},
     "output_type": "execute_result"
    },
    {
     "data": {
      "image/png": "[encoded data removed]",
      "text/plain": [
       "<Figure size 432x288 with 1 Axes>"
      ]
     },
     "metadata": {
      "needs_background": "light"
     },
     "output_type": "display_data"
    }
   ],
   "source": [
    "sns.distplot(boot_slopes)"
   ]
  },
  {
   "cell_type": "code",
   "execution_count": 38,
   "metadata": {},
   "outputs": [
    {
     "data": {
      "text/plain": [
       "<matplotlib.axes._subplots.AxesSubplot at 0x1a1d39a780>"
      ]
     },
     "execution_count": 38,
     "metadata": {},
     "output_type": "execute_result"
    },
    {
     "data": {
      "image/png": "[encoded data removed]",
      "text/plain": [
       "<Figure size 432x288 with 1 Axes>"
      ]
     },
     "metadata": {
      "needs_background": "light"
     },
     "output_type": "display_data"
    }
   ],
   "source": [
    "sns.distplot(boot_interc)"
   ]
  },
  {
   "cell_type": "markdown",
   "metadata": {},
   "source": [
    "From these above plots and sets of data it is easy to determine a confidence interval for our linear regression parameters if need be."
   ]
  },
  {
   "cell_type": "markdown",
   "metadata": {},
   "source": [
    "# Your Turn 2\n",
    "\n",
    "### Question:\n",
    "\n",
    "From the above sets of 100 slopes and 100 intercepts, what would be a good 90% confidence interval for our slope and intercept?"
   ]
  },
  {
   "cell_type": "code",
   "execution_count": null,
   "metadata": {
    "collapsed": true
   },
   "outputs": [],
   "source": [
    "# Hint: think of sorting the slopes and intercepts first."
   ]
  },
  {
   "cell_type": "code",
   "execution_count": 39,
   "metadata": {},
   "outputs": [
    {
     "name": "stdout",
     "output_type": "stream",
     "text": [
      "(0.835, 1.19)\n"
     ]
    }
   ],
   "source": [
    "# Using scipy.stats.t.interval() produces the same result \n",
    "# as the approach in this Lesson 05\n",
    "import scipy.stats\n",
    "mu = np.mean(boot_slopes)\n",
    "sd = np.std(boot_slopes)\n",
    "conf_int_t = scipy.stats.t.interval(alpha = 0.90,           # C.level\n",
    "                              df = len(boot_slopes) - 1,    # DoF\n",
    "                              loc = mu,               # Sample mean\n",
    "                              scale = sd)             # Sample Std\n",
    "print('({:.3}, {:.3})'.format(conf_int_t[0], conf_int_t[1]))"
   ]
  },
  {
   "cell_type": "code",
   "execution_count": 40,
   "metadata": {},
   "outputs": [
    {
     "name": "stdout",
     "output_type": "stream",
     "text": [
      "(1.46, 3.69)\n"
     ]
    }
   ],
   "source": [
    "mu = np.mean(boot_interc)\n",
    "sd = np.std(boot_interc)\n",
    "conf_int_t = scipy.stats.t.interval(alpha = 0.90,           # C. level\n",
    "                              df = len(boot_interc) - 1,    # DoF\n",
    "                              loc = mu,               # Sample mean\n",
    "                              scale = sd)             # Sample std\n",
    "print('({:.3}, {:.3})'.format(conf_int_t[0], conf_int_t[1]))"
   ]
  },
  {
   "cell_type": "code",
   "execution_count": 41,
   "metadata": {},
   "outputs": [
    {
     "name": "stdout",
     "output_type": "stream",
     "text": [
      "(0.993, 1.028)\n"
     ]
    }
   ],
   "source": [
    "# Alternative computation for slope - a narrower C.I.\n",
    "# Approach from https://kite.com/python/examples/702/\n",
    "# scipy-compute-a-confidence-interval-from-a-dataset\n",
    "from scipy.stats import sem, t\n",
    "from scipy import mean\n",
    "confidence = 0.90\n",
    "data = boot_slopes\n",
    "\n",
    "n = len(data)\n",
    "m = mean(data)\n",
    "std_err = sem(data)\n",
    "h = std_err * t.ppf((1 + confidence) / 2, n - 1)\n",
    "\n",
    "start = m - h\n",
    "end = m + h\n",
    "print('({:.3f}, {:.3f})'.format(start, end))"
   ]
  },
  {
   "cell_type": "code",
   "execution_count": 42,
   "metadata": {},
   "outputs": [
    {
     "name": "stdout",
     "output_type": "stream",
     "text": [
      "(2.460, 2.683)\n"
     ]
    }
   ],
   "source": [
    "# Alternative computation for intercept - a narrower C.I.\n",
    "data = boot_interc\n",
    "\n",
    "n = len(data)\n",
    "m = mean(data)\n",
    "std_err = sem(data)\n",
    "h = std_err * t.ppf((1 + confidence) / 2, n - 1)\n",
    "\n",
    "start = m - h\n",
    "end = m + h\n",
    "print('({:.3f}, {:.3f})'.format(start, end))"
   ]
  },
  {
   "cell_type": "markdown",
   "metadata": {},
   "source": [
    "But our data is very nice here. If by chance we had sparse data, there may be a chance that our random selection of points are entirely in one area and not in another. To combat this, we can apply a different type of bootstrapping, called 'Non-Parametric Bootstrapping' in which we will apply bootstrapping on the residuals."
   ]
  },
  {
   "cell_type": "markdown",
   "metadata": {},
   "source": [
    "## Resample Residuals (Non-Parametric Bootstrapping)\n",
    "\n",
    "The idea is that we want to observe a point at every x-position that we have a point in the original data. So we fit the original data and re-shuffle the residuals at every point. This should be fine because we are assuming that the errors are IID among our points."
   ]
  },
  {
   "cell_type": "code",
   "execution_count": 44,
   "metadata": {},
   "outputs": [],
   "source": [
    "# Create sample data\n",
    "n_points = 25\n",
    "x = np.linspace(0, 10, n_points)\n",
    "y = x + (np.random.rand(len(x)) * 5)\n",
    "data_df = pd.DataFrame({'x': x, 'y': y})\n",
    "\n",
    "# Fit linear regression model\n",
    "ols_model = sm.ols(formula = 'y ~ x', data=data_df)\n",
    "results = ols_model.fit()\n",
    "\n",
    "# Get predicted values\n",
    "y_pred = results.predict(data_df['x'])\n",
    "\n",
    "# Get residual values\n",
    "resids = results.resid"
   ]
  },
  {
   "cell_type": "markdown",
   "metadata": {},
   "source": [
    "Now that we have the fitted values and residuals from our fit, we will generate N (100) new sets of data by sampling the residuals and adding them to the fitted values."
   ]
  },
  {
   "cell_type": "code",
   "execution_count": 51,
   "metadata": {},
   "outputs": [
    {
     "data": {
      "text/plain": [
       "Text(0.5, 1.0, 'x vs y')"
      ]
     },
     "execution_count": 51,
     "metadata": {},
     "output_type": "execute_result"
    },
    {
     "data": {
      "image/png": "[encoded data removed]",
      "text/plain": [
       "<Figure size 432x288 with 1 Axes>"
      ]
     },
     "metadata": {
      "needs_background": "light"
     },
     "output_type": "display_data"
    }
   ],
   "source": [
    "boot2_slopes = []\n",
    "boot2_interc = []\n",
    "n_boots = 100\n",
    "plt.figure()\n",
    "for _ in range(n_boots):\n",
    "    # Create a sampling of the residuals with replacement\n",
    "    boot_resids = np.random.choice(resids, n_points, replace=True)\n",
    "    y_temp = [y_pred_i + resid_i for y_pred_i, \n",
    "              resid_i in zip(y_pred, boot_resids)\n",
    "             ]\n",
    "    \n",
    "    sample_df = pd.DataFrame({'x': list(x), 'y': y_temp})\n",
    "    # Fit a linear regression\n",
    "    ols_model_temp = sm.ols(formula = 'y ~ x', data=sample_df)\n",
    "    results_temp = ols_model_temp.fit()\n",
    "    \n",
    "    # Get the intercept and slope, and record it\n",
    "    boot2_interc.append(results_temp.params[0])\n",
    "    boot2_slopes.append(results_temp.params[1])\n",
    "    \n",
    "    # Plot a greyed out line\n",
    "    y_pred_temp = ols_model_temp.fit().predict(sample_df['x'])\n",
    "    plt.plot(sample_df['x'], y_pred_temp, color='grey', alpha=0.2)\n",
    "\n",
    "# Add points\n",
    "plt.scatter(x, y)\n",
    "plt.plot(x, y_pred, linewidth=2)\n",
    "plt.grid(True)\n",
    "plt.xlabel('x')\n",
    "plt.ylabel('y')\n",
    "plt.title('x vs y')"
   ]
  },
  {
   "cell_type": "markdown",
   "metadata": {},
   "source": [
    "Let's look again at the distributions of the parameters:"
   ]
  },
  {
   "cell_type": "code",
   "execution_count": 46,
   "metadata": {},
   "outputs": [
    {
     "name": "stderr",
     "output_type": "stream",
     "text": [
      "/anaconda3/lib/python3.6/site-packages/scipy/stats/stats.py:1713: FutureWarning: Using a non-tuple sequence for multidimensional indexing is deprecated; use `arr[tuple(seq)]` instead of `arr[seq]`. In the future this will be interpreted as an array index, `arr[np.array(seq)]`, which will result either in an error or a different result.\n",
      "  return np.add.reduce(sorted[indexer] * weights, axis=axis) / sumval\n"
     ]
    },
    {
     "data": {
      "text/plain": [
       "<matplotlib.axes._subplots.AxesSubplot at 0x1a1d9f0ef0>"
      ]
     },
     "execution_count": 46,
     "metadata": {},
     "output_type": "execute_result"
    },
    {
     "data": {
      "image/png": "[encoded data removed]",
      "text/plain": [
       "<Figure size 432x288 with 1 Axes>"
      ]
     },
     "metadata": {
      "needs_background": "light"
     },
     "output_type": "display_data"
    }
   ],
   "source": [
    "sns.distplot(boot2_slopes)"
   ]
  },
  {
   "cell_type": "code",
   "execution_count": 47,
   "metadata": {},
   "outputs": [
    {
     "data": {
      "text/plain": [
       "<matplotlib.axes._subplots.AxesSubplot at 0x1a1db149b0>"
      ]
     },
     "execution_count": 47,
     "metadata": {},
     "output_type": "execute_result"
    },
    {
     "data": {
      "image/png": "[encoded data removed]",
      "text/plain": [
       "<Figure size 432x288 with 1 Axes>"
      ]
     },
     "metadata": {
      "needs_background": "light"
     },
     "output_type": "display_data"
    }
   ],
   "source": [
    "sns.distplot(boot2_interc)"
   ]
  },
  {
   "cell_type": "markdown",
   "metadata": {},
   "source": [
    "Similarly, this gives us a handle on the error in our parameters with linear regression. In fact, this type of bootstrapping can be extended to most linear and non-linear models that have a unique optimal solution. This allows us to get a distribution of error for every parameter."
   ]
  },
  {
   "cell_type": "markdown",
   "metadata": {},
   "source": [
    "## Summary\n",
    "\n",
    "In this notebook we looked at applying bootstrapping techniques to linear regression in two ways:\n",
    "\n",
    "**Parametric bootstrapping** - resampling from all of the points:\n",
    "1. Sample the data with replacement numerous times (100).\n",
    "2. Fit a linear regression to each sample.\n",
    "3. Store the intercept and slopes.\n",
    "4. Plot a histogram of the parameters.\n",
    "\n",
    "\n",
    "**Non-parametric boostrapping** - resampling on the residuals with an uneven distribution of feature values:\n",
    "1. Find the optimal linear regression on all the original data.\n",
    "2. Extract the residuals from the fit.\n",
    "3. Create new y values using the residual samples.\n",
    "4. Fit the linear regression with the new y values.\n",
    "5. Store the slope and intercepts.\n",
    "6. Plot a histogram of the parameters."
   ]
  },
  {
   "cell_type": "markdown",
   "metadata": {},
   "source": [
    "<div id=\"reminder\" style=\"border-radius: 5px; background-color:#f5f5f5;\" >\n",
    "<h3>Reminder</h3>\n",
    "<p>Use this notebook to answer the quiz questions related to the <b>Your Turn</b> sections.<p>\n",
    "</div>"
   ]
  }
 ],
 "metadata": {
  "kernelspec": {
   "display_name": "Python 3",
   "language": "python",
   "name": "python3"
  },
  "language_info": {
   "codemirror_mode": {
    "name": "ipython",
    "version": 3
   },
   "file_extension": ".py",
   "mimetype": "text/x-python",
   "name": "python",
   "nbconvert_exporter": "python",
   "pygments_lexer": "ipython3",
   "version": "3.6.7"
  }
 },
 "nbformat": 4,
 "nbformat_minor": 1
}
