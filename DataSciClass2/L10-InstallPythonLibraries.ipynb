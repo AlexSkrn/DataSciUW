{
 "cells": [
  {
   "cell_type": "markdown",
   "metadata": {},
   "source": [
    "# Install Python Libraries for Lesson 10\n",
    "\n",
    "Here are some additional libraries you may not have installed previously.\n",
    "1. First verify the library is not pre-installed.\n",
    "2. Then install the library via pip within the container."
   ]
  },
  {
   "cell_type": "markdown",
   "metadata": {},
   "source": [
    "Here's an example with the `arrow` package:"
   ]
  },
  {
   "cell_type": "code",
   "execution_count": 1,
   "metadata": {},
   "outputs": [
    {
     "ename": "ModuleNotFoundError",
     "evalue": "No module named 'arrow'",
     "output_type": "error",
     "traceback": [
      "\u001b[0;31m---------------------------------------------------------------------------\u001b[0m",
      "\u001b[0;31mModuleNotFoundError\u001b[0m                       Traceback (most recent call last)",
      "\u001b[0;32m<ipython-input-1-59c3e9d7db5c>\u001b[0m in \u001b[0;36m<module>\u001b[0;34m\u001b[0m\n\u001b[1;32m      1\u001b[0m \u001b[0;31m# try to import a library I knew would be missing to verify it's not pre-installed\u001b[0m\u001b[0;34m\u001b[0m\u001b[0;34m\u001b[0m\u001b[0;34m\u001b[0m\u001b[0m\n\u001b[0;32m----> 2\u001b[0;31m \u001b[0;32mimport\u001b[0m \u001b[0marrow\u001b[0m\u001b[0;34m\u001b[0m\u001b[0;34m\u001b[0m\u001b[0m\n\u001b[0m",
      "\u001b[0;31mModuleNotFoundError\u001b[0m: No module named 'arrow'"
     ]
    }
   ],
   "source": [
    "# try to import a library I knew would be missing to verify it's not pre-installed\n",
    "import arrow"
   ]
  },
  {
   "cell_type": "code",
   "execution_count": 2,
   "metadata": {},
   "outputs": [
    {
     "name": "stdout",
     "output_type": "stream",
     "text": [
      "Collecting arrow\n",
      "  Downloading https://files.pythonhosted.org/packages/f4/7f/0360628ba40bb93c10cd89cd289b6a8e9ea87b2db884b8edf32c80ee1c73/arrow-0.13.1-py2.py3-none-any.whl\n",
      "Requirement already satisfied: python-dateutil in /anaconda3/lib/python3.6/site-packages (from arrow) (2.7.5)\n",
      "Requirement already satisfied: six>=1.5 in /anaconda3/lib/python3.6/site-packages (from python-dateutil->arrow) (1.12.0)\n",
      "Installing collected packages: arrow\n",
      "Successfully installed arrow-0.13.1\n"
     ]
    }
   ],
   "source": [
    "# use the bang ! syntax to install the library via pip within the container\n",
    "!pip install arrow"
   ]
  },
  {
   "cell_type": "code",
   "execution_count": 3,
   "metadata": {},
   "outputs": [],
   "source": [
    "import arrow  # now the import succeeds"
   ]
  },
  {
   "cell_type": "markdown",
   "metadata": {},
   "source": [
    "## LDA Library"
   ]
  },
  {
   "cell_type": "code",
   "execution_count": 4,
   "metadata": {},
   "outputs": [
    {
     "name": "stdout",
     "output_type": "stream",
     "text": [
      "simple-lda (0.3.0)        - Python library for Latent Dirichlet allocation\r\n",
      "                            (lda)\r\n",
      "lda (1.1.0)               - Topic modeling with latent Dirichlet allocation\r\n",
      "tmlib (0.2.2)             - This is a LDA Package\r\n",
      "qlda (0.1.8)              - Lda-MLOPE\r\n",
      "xbob.example.lda (1.0.3)  - (Fisher) Iris Flower LDA example\r\n",
      "pti-analyzer (0.0.19)     - Analyzing articles based on topic model(LDA)\r\n",
      "rlda (0.61)               - A module to use robust lda topics for the study of\r\n",
      "                            text\r\n",
      "easyLDA (0.2.8.6)         - easily bult LDA Topic Models with just a list of\r\n",
      "                            docs (e.g. a list of twitter posts in CSV/TXT\r\n"
     ]
    }
   ],
   "source": [
    "!pip search lda"
   ]
  },
  {
   "cell_type": "code",
   "execution_count": 5,
   "metadata": {},
   "outputs": [
    {
     "ename": "ModuleNotFoundError",
     "evalue": "No module named 'lda'",
     "output_type": "error",
     "traceback": [
      "\u001b[0;31m---------------------------------------------------------------------------\u001b[0m",
      "\u001b[0;31mModuleNotFoundError\u001b[0m                       Traceback (most recent call last)",
      "\u001b[0;32m<ipython-input-5-ff680a865002>\u001b[0m in \u001b[0;36m<module>\u001b[0;34m\u001b[0m\n\u001b[0;32m----> 1\u001b[0;31m \u001b[0;32mimport\u001b[0m \u001b[0mlda\u001b[0m\u001b[0;34m\u001b[0m\u001b[0;34m\u001b[0m\u001b[0m\n\u001b[0m",
      "\u001b[0;31mModuleNotFoundError\u001b[0m: No module named 'lda'"
     ]
    }
   ],
   "source": [
    "import lda"
   ]
  },
  {
   "cell_type": "code",
   "execution_count": 6,
   "metadata": {},
   "outputs": [
    {
     "name": "stdout",
     "output_type": "stream",
     "text": [
      "Collecting lda\n",
      "\u001b[?25l  Downloading https://files.pythonhosted.org/packages/99/d1/3af33c4623fe3527f7cd096e96fb4f1477083e75274a771a40f05ec81443/lda-1.1.0-cp36-cp36m-macosx_10_6_intel.macosx_10_9_intel.macosx_10_9_x86_64.macosx_10_10_intel.macosx_10_10_x86_64.whl (406kB)\n",
      "\u001b[K    100% |████████████████████████████████| 409kB 4.4MB/s ta 0:00:01\n",
      "\u001b[?25hCollecting pbr<4,>=0.6 (from lda)\n",
      "\u001b[?25l  Downloading https://files.pythonhosted.org/packages/0c/5d/b077dbf309993d52c1d71e6bf6fe443a8029ea215135ebbe0b1b10e7aefc/pbr-3.1.1-py2.py3-none-any.whl (99kB)\n",
      "\u001b[K    100% |████████████████████████████████| 102kB 692kB/s a 0:00:011\n",
      "\u001b[?25hRequirement already satisfied: numpy<2.0,>=1.13.0 in /anaconda3/lib/python3.6/site-packages (from lda) (1.15.4)\n",
      "Installing collected packages: pbr, lda\n",
      "Successfully installed lda-1.1.0 pbr-3.1.1\n"
     ]
    }
   ],
   "source": [
    "!pip install lda"
   ]
  },
  {
   "cell_type": "code",
   "execution_count": 7,
   "metadata": {},
   "outputs": [],
   "source": [
    "import lda"
   ]
  },
  {
   "cell_type": "markdown",
   "metadata": {},
   "source": [
    "## editdistance Library"
   ]
  },
  {
   "cell_type": "code",
   "execution_count": 8,
   "metadata": {},
   "outputs": [
    {
     "ename": "ModuleNotFoundError",
     "evalue": "No module named 'editdistance'",
     "output_type": "error",
     "traceback": [
      "\u001b[0;31m---------------------------------------------------------------------------\u001b[0m",
      "\u001b[0;31mModuleNotFoundError\u001b[0m                       Traceback (most recent call last)",
      "\u001b[0;32m<ipython-input-8-768acb15b586>\u001b[0m in \u001b[0;36m<module>\u001b[0;34m\u001b[0m\n\u001b[0;32m----> 1\u001b[0;31m \u001b[0;32mimport\u001b[0m \u001b[0meditdistance\u001b[0m\u001b[0;34m\u001b[0m\u001b[0;34m\u001b[0m\u001b[0m\n\u001b[0m",
      "\u001b[0;31mModuleNotFoundError\u001b[0m: No module named 'editdistance'"
     ]
    }
   ],
   "source": [
    "import editdistance"
   ]
  },
  {
   "cell_type": "code",
   "execution_count": 9,
   "metadata": {},
   "outputs": [
    {
     "name": "stdout",
     "output_type": "stream",
     "text": [
      "Collecting editdistance\n",
      "\u001b[?25l  Downloading https://files.pythonhosted.org/packages/ae/d7/db8fd4041bb3b7427018ed71eca6a6f48a4021eeceb386d28881113c1fca/editdistance-0.5.3-cp36-cp36m-macosx_10_6_intel.whl (43kB)\n",
      "\u001b[K    100% |████████████████████████████████| 51kB 979kB/s ta 0:00:01\n",
      "\u001b[?25hInstalling collected packages: editdistance\n",
      "Successfully installed editdistance-0.5.3\n"
     ]
    }
   ],
   "source": [
    "!pip install editdistance"
   ]
  },
  {
   "cell_type": "code",
   "execution_count": 10,
   "metadata": {},
   "outputs": [],
   "source": [
    "import editdistance"
   ]
  },
  {
   "cell_type": "markdown",
   "metadata": {},
   "source": [
    "## nltk Library"
   ]
  },
  {
   "cell_type": "code",
   "execution_count": 11,
   "metadata": {},
   "outputs": [
    {
     "name": "stdout",
     "output_type": "stream",
     "text": [
      "rake-nltk (1.0.4)              - Python implementation of the Rapid Automatic\r\n",
      "                                 Keyword Extraction algorithm using NLTK\r\n",
      "nltk (3.4)                     - Natural Language Toolkit\r\n",
      "  INSTALLED: 3.4 (latest)\r\n",
      "ko-nltk (0.1)                  - \r\n",
      "nltkrest (0.12)                - NLTK as a REST service\r\n",
      "nltk_tgrep (1.0.6)             - tgrep2 Searching for NLTK Trees\r\n",
      "lektor-natural-language (0.3)  - Adds NLTK based template filters.\r\n",
      "cnpt-leos (0.1.1)              - Custom NLTK part of speech tagger\r\n",
      "bluestocking (0.1.2)           - An information extraction toolkit built on\r\n",
      "                                 top of NLTK.\r\n",
      "wordgrapher (0.3.1)            - Word Graph utility built with NLTK and\r\n",
      "                                 TextBlob\r\n",
      "text_operations (0)            - A set of functions that piggyback off nltk to\r\n",
      "                                 parse text.\r\n",
      "luvina (0.0.26)                - High-level API for Natural Language\r\n",
      "                                 Processing in NLTK\r\n",
      "bookgen (1.0.0)                - Generates books based on other books using\r\n",
      "                                 nltk\r\n",
      "metanl (0.5.6)                 - Multilingual natural language tools, wrapping\r\n",
      "                                 NLTK and other systems.\r\n",
      "python-pkg (0.0.2)             - Un paquete de NLTK y Scrapy por SEO\r\n",
      "SloPOS (1.0)                   - Part of speech tagger for Slovenian (SI)\r\n",
      "                                 language based on NLTK\r\n",
      "smart-reading (1.1.6)          - An NLTK-based toolkit aimed at increasing the\r\n",
      "                                 understanding of various texts.\r\n",
      "namextracter (0.0.1)           - A lite library for extracting names from text\r\n",
      "                                 using nltk wordnet\r\n",
      "pysummarize (0.6.0)            - Simple multi-language Python and NLTK-based\r\n",
      "                                 implementation of text summarization\r\n",
      "bedrock (0.1.0.dev10)          - Bedrock is a high-level text pre-processing\r\n",
      "                                 API, written in Python and can run on NLTK or\r\n",
      "                                 Spacy as its backends.\r\n",
      "namebot (0.1.5)                - A company/product name generating tool\r\n",
      "                                 written in Python.Uses NLTK and diverse\r\n",
      "                                 wordplay techniques forsophisticated word\r\n",
      "                                 generation and ideation\r\n"
     ]
    }
   ],
   "source": [
    "!pip search nltk"
   ]
  },
  {
   "cell_type": "code",
   "execution_count": 12,
   "metadata": {},
   "outputs": [],
   "source": [
    "import nltk"
   ]
  },
  {
   "cell_type": "code",
   "execution_count": null,
   "metadata": {
    "collapsed": true
   },
   "outputs": [],
   "source": [
    "!pip install nltk"
   ]
  },
  {
   "cell_type": "code",
   "execution_count": 6,
   "metadata": {
    "collapsed": true
   },
   "outputs": [],
   "source": [
    "import nltk"
   ]
  },
  {
   "cell_type": "markdown",
   "metadata": {},
   "source": [
    "## MessagePack\n",
    "It's like JSON. But fast and small.\n",
    "See <a href=\"https://msgpack.org/index.html\" title=\"MessagePack documentation\">msgpack.org</a>"
   ]
  },
  {
   "cell_type": "code",
   "execution_count": 13,
   "metadata": {},
   "outputs": [
    {
     "name": "stdout",
     "output_type": "stream",
     "text": [
      "Requirement already satisfied: msgpack in /anaconda3/lib/python3.6/site-packages (0.5.6)\r\n"
     ]
    }
   ],
   "source": [
    "!pip install msgpack --user"
   ]
  },
  {
   "cell_type": "markdown",
   "metadata": {},
   "source": [
    "## Gensim\n",
    "Gensim is a Python library for topic modeling, document indexing and similarity retrieval with large corpora. Target audience is the natural language processing (NLP) and information retrieval (IR) community.\n",
    "See https://pypi.org/project/gensim/"
   ]
  },
  {
   "cell_type": "code",
   "execution_count": 14,
   "metadata": {},
   "outputs": [
    {
     "ename": "ModuleNotFoundError",
     "evalue": "No module named 'gensim'",
     "output_type": "error",
     "traceback": [
      "\u001b[0;31m---------------------------------------------------------------------------\u001b[0m",
      "\u001b[0;31mModuleNotFoundError\u001b[0m                       Traceback (most recent call last)",
      "\u001b[0;32m<ipython-input-14-e70e92d32c6e>\u001b[0m in \u001b[0;36m<module>\u001b[0;34m\u001b[0m\n\u001b[0;32m----> 1\u001b[0;31m \u001b[0;32mimport\u001b[0m \u001b[0mgensim\u001b[0m\u001b[0;34m\u001b[0m\u001b[0;34m\u001b[0m\u001b[0m\n\u001b[0m",
      "\u001b[0;31mModuleNotFoundError\u001b[0m: No module named 'gensim'"
     ]
    }
   ],
   "source": [
    "import gensim"
   ]
  },
  {
   "cell_type": "code",
   "execution_count": 15,
   "metadata": {},
   "outputs": [
    {
     "name": "stdout",
     "output_type": "stream",
     "text": [
      "Collecting gensim\n",
      "\u001b[?25l  Downloading https://files.pythonhosted.org/packages/7a/ed/70ec5b2601d21e1a3258228d8da563f94ffc86e84cd8a7f600da0c6ebad8/gensim-3.7.1-cp36-cp36m-macosx_10_6_intel.macosx_10_9_intel.macosx_10_9_x86_64.macosx_10_10_intel.macosx_10_10_x86_64.whl (24.6MB)\n",
      "\u001b[K    100% |████████████████████████████████| 24.7MB 1.2MB/s ta 0:00:011    53% |█████████████████▎              | 13.3MB 3.4MB/s eta 0:00:04    82% |██████████████████████████▍     | 20.3MB 4.8MB/s eta 0:00:01    98% |███████████████████████████████▍| 24.2MB 2.0MB/s eta 0:00:01\n",
      "\u001b[?25hCollecting smart-open>=1.7.0 (from gensim)\n",
      "\u001b[?25l  Downloading https://files.pythonhosted.org/packages/ff/c8/de7dcf34d4b5f2ae94fe1055e0d6418fb97a63c9dc3428edd264704983a2/smart_open-1.8.0.tar.gz (40kB)\n",
      "\u001b[K    100% |████████████████████████████████| 40kB 8.2MB/s eta 0:00:01\n",
      "\u001b[?25hRequirement already satisfied: six>=1.5.0 in /anaconda3/lib/python3.6/site-packages (from gensim) (1.12.0)\n",
      "Requirement already satisfied: numpy>=1.11.3 in /anaconda3/lib/python3.6/site-packages (from gensim) (1.15.4)\n",
      "Requirement already satisfied: scipy>=0.18.1 in /anaconda3/lib/python3.6/site-packages (from gensim) (1.1.0)\n",
      "Requirement already satisfied: boto>=2.32 in /anaconda3/lib/python3.6/site-packages (from smart-open>=1.7.0->gensim) (2.49.0)\n",
      "Collecting bz2file (from smart-open>=1.7.0->gensim)\n",
      "  Downloading https://files.pythonhosted.org/packages/61/39/122222b5e85cd41c391b68a99ee296584b2a2d1d233e7ee32b4532384f2d/bz2file-0.98.tar.gz\n",
      "Requirement already satisfied: requests in /anaconda3/lib/python3.6/site-packages (from smart-open>=1.7.0->gensim) (2.21.0)\n",
      "Collecting boto3 (from smart-open>=1.7.0->gensim)\n",
      "\u001b[?25l  Downloading https://files.pythonhosted.org/packages/99/7b/d32e81fcf13e96dd679936138d843a40c33163e98454defc485c71b92766/boto3-1.9.111-py2.py3-none-any.whl (128kB)\n",
      "\u001b[K    100% |████████████████████████████████| 133kB 3.1MB/s ta 0:00:01\n",
      "\u001b[?25hRequirement already satisfied: idna<2.9,>=2.5 in /anaconda3/lib/python3.6/site-packages (from requests->smart-open>=1.7.0->gensim) (2.8)\n",
      "Requirement already satisfied: chardet<3.1.0,>=3.0.2 in /anaconda3/lib/python3.6/site-packages (from requests->smart-open>=1.7.0->gensim) (3.0.4)\n",
      "Requirement already satisfied: urllib3<1.25,>=1.21.1 in /anaconda3/lib/python3.6/site-packages (from requests->smart-open>=1.7.0->gensim) (1.24.1)\n",
      "Requirement already satisfied: certifi>=2017.4.17 in /anaconda3/lib/python3.6/site-packages (from requests->smart-open>=1.7.0->gensim) (2018.11.29)\n",
      "Collecting botocore<1.13.0,>=1.12.111 (from boto3->smart-open>=1.7.0->gensim)\n",
      "\u001b[?25l  Downloading https://files.pythonhosted.org/packages/58/dc/a1e204bd358e45d8e921a70882d5641eaf8890335dd80a210488076fc4dc/botocore-1.12.111-py2.py3-none-any.whl (5.3MB)\n",
      "\u001b[K    100% |████████████████████████████████| 5.3MB 4.6MB/s ta 0:00:01\n",
      "\u001b[?25hCollecting jmespath<1.0.0,>=0.7.1 (from boto3->smart-open>=1.7.0->gensim)\n",
      "  Downloading https://files.pythonhosted.org/packages/83/94/7179c3832a6d45b266ddb2aac329e101367fbdb11f425f13771d27f225bb/jmespath-0.9.4-py2.py3-none-any.whl\n",
      "Collecting s3transfer<0.3.0,>=0.2.0 (from boto3->smart-open>=1.7.0->gensim)\n",
      "\u001b[?25l  Downloading https://files.pythonhosted.org/packages/d7/de/5737f602e22073ecbded7a0c590707085e154e32b68d86545dcc31004c02/s3transfer-0.2.0-py2.py3-none-any.whl (69kB)\n",
      "\u001b[K    100% |████████████████████████████████| 71kB 3.5MB/s eta 0:00:01\n",
      "\u001b[?25hRequirement already satisfied: python-dateutil<3.0.0,>=2.1; python_version >= \"2.7\" in /anaconda3/lib/python3.6/site-packages (from botocore<1.13.0,>=1.12.111->boto3->smart-open>=1.7.0->gensim) (2.7.5)\n",
      "Requirement already satisfied: docutils>=0.10 in /anaconda3/lib/python3.6/site-packages (from botocore<1.13.0,>=1.12.111->boto3->smart-open>=1.7.0->gensim) (0.14)\n",
      "Building wheels for collected packages: smart-open, bz2file\n",
      "  Running setup.py bdist_wheel for smart-open ... \u001b[?25ldone\n",
      "\u001b[?25h  Stored in directory: /Users/alexskrn/Library/Caches/pip/wheels/f7/a6/ff/9ab5842c14e50e95a06a4675b0b4a689c9cab6064dac2b01d0\n",
      "  Running setup.py bdist_wheel for bz2file ... \u001b[?25ldone\n",
      "\u001b[?25h  Stored in directory: /Users/alexskrn/Library/Caches/pip/wheels/81/75/d6/e1317bf09bf1af5a30befc2a007869fa6e1f516b8f7c591cb9\n",
      "Successfully built smart-open bz2file\n",
      "Installing collected packages: bz2file, jmespath, botocore, s3transfer, boto3, smart-open, gensim\n",
      "Successfully installed boto3-1.9.111 botocore-1.12.111 bz2file-0.98 gensim-3.7.1 jmespath-0.9.4 s3transfer-0.2.0 smart-open-1.8.0\n"
     ]
    }
   ],
   "source": [
    "!pip install gensim"
   ]
  },
  {
   "cell_type": "markdown",
   "metadata": {},
   "source": [
    "## GloVe: Global Vectors for Word Representation\n",
    "Jeffrey Pennington, Richard Socher, and Christopher D. Manning. 2014. <a href=\"https://nlp.stanford.edu/pubs/glove.pdf\" title=\"PDF for GloVe\">GloVe: Global Vectors for Word Representation</a>.\n",
    "\n",
    "You may encounter trouble installing this package because of Windows directory naming. See https://github.com/maciejkula/glove-python/issues/42 for more information and help installing. This package is not used in the Lesson 10 notebook."
   ]
  },
  {
   "cell_type": "code",
   "execution_count": null,
   "metadata": {
    "collapsed": true
   },
   "outputs": [],
   "source": [
    "!pip install glove_python"
   ]
  },
  {
   "cell_type": "markdown",
   "metadata": {},
   "source": [
    "## stopwords\n",
    "Stopwords filter for 42 languages\n",
    "See https://pypi.org/project/stopwords/"
   ]
  },
  {
   "cell_type": "code",
   "execution_count": 16,
   "metadata": {},
   "outputs": [
    {
     "name": "stdout",
     "output_type": "stream",
     "text": [
      "stopwords (0.1.3)                  - Stopwords filter for 42 languages\r\n",
      "stopwords-guilannlp (13.2019.3.5)  - A comprehensive package for stopwords in\r\n",
      "                                     NLP and text mining\r\n",
      "udicOpenData (2.4)                 - udic dictionary, stopwords module\r\n",
      "UdicToolKits (1.7)                 - udic dictionary, stopwords,\r\n",
      "                                     TextPreprocessing module\r\n",
      "sngrams (0.2.0)                    - Term and paragraph frequency counts for\r\n",
      "                                     non-stopwords in input document.\r\n",
      "text-hr (0.18)                     - Morphological/Inflection/Lemmatization\r\n",
      "                                     Engine for Croatian language, POS tagger,\r\n",
      "                                     stopwords\r\n",
      "stopwordsiso (0.5.1)               - Collection of stopwords for multiple\r\n",
      "                                     languages. Using ISO 639-1 language code.\r\n"
     ]
    }
   ],
   "source": [
    "!pip search stopwords"
   ]
  },
  {
   "cell_type": "code",
   "execution_count": null,
   "metadata": {},
   "outputs": [],
   "source": []
  }
 ],
 "metadata": {
  "kernelspec": {
   "display_name": "Python 3",
   "language": "python",
   "name": "python3"
  },
  "language_info": {
   "codemirror_mode": {
    "name": "ipython",
    "version": 3
   },
   "file_extension": ".py",
   "mimetype": "text/x-python",
   "name": "python",
   "nbconvert_exporter": "python",
   "pygments_lexer": "ipython3",
   "version": "3.6.7"
  }
 },
 "nbformat": 4,
 "nbformat_minor": 2
}
