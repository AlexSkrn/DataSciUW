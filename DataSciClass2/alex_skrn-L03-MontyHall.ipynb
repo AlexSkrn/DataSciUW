{
 "cells": [
  {
   "cell_type": "markdown",
   "metadata": {},
   "source": [
    "# Lesson 3 Assignment - Monty Hall Simulation\n",
    "## Author - AlexSkrn"
   ]
  },
  {
   "cell_type": "markdown",
   "metadata": {},
   "source": [
    "### Instructions\n",
    "Simulate the conditional probabilities of the distributions for winning a car vs. a goat for the Monty Hall Problem that includes the following:\n",
    "1. the cases for switching or not switching\n",
    "2. histograms and summary statistics (at least mean and variance) of the results for winning the car or a goat for both strategies: switching or not switching\n",
    "3. comparison of the cases to determine the best strategy\n",
    "4. recommended strategy\n",
    "\n"
   ]
  },
  {
   "cell_type": "markdown",
   "metadata": {},
   "source": [
    "#### Note: \n",
    "Please clearly outline the results and your recommendation with markdown text. Be sure your discussion includes narrative for your figures and tables so it is clear to the reader the importance of each bit of evidence."
   ]
  },
  {
   "cell_type": "markdown",
   "metadata": {},
   "source": [
    "## Contents<a id='contents'></a>\n",
    "\n",
    "[1. Narrative part](#1)\n",
    "\n",
    "   [1.1. Game rules and assumptions](#1.1)\n",
    "\n",
    "   [1.2. Theoretical conclusion to be confirmed by the simulation](#1.2)\n",
    "\n",
    "   [1.3. Recommended strategy](#1.3)\n",
    "\n",
    "[2. Coding part](#2)\n",
    "\n",
    "   [2.1. Simulate the car's and player's doors](#2.1)\n",
    "\n",
    "   [2.2. Simulate the host's door](#2.2)\n",
    "\n",
    "   [2.3. Simulate switch/stay results](#2.3)\n",
    "\n",
    "   [2.4. Putting it all together (1) - Simulate many game instances](#2.4)\n",
    "\n",
    "   [2.5. Putting it all together (2) - Running many simulations](#2.5)"
   ]
  },
  {
   "cell_type": "markdown",
   "metadata": {},
   "source": [
    "# 1. Narrative part<a id='1'></a>"
   ]
  },
  {
   "cell_type": "markdown",
   "metadata": {},
   "source": [
    "## 1.1. Game rules and assumptions<a id='1.1'></a>\n",
    "\n",
    "- 3 closed doors - one prize behind a random door\n",
    "- Player chooses 1 door randomly\n",
    "- Host always opens that one of the two other doors which has no prize\n",
    "- Player may switch or stay - Two strategies to model: **Always Stay** and **Always Switch** "
   ]
  },
  {
   "cell_type": "markdown",
   "metadata": {},
   "source": [
    "## 1.2. Theoretical conclusion to be confirmed by the simulation<a id='1.2'></a>\n",
    "#### In general, long-term outcomes of the game depend on the game state and the player's switch-or-stay strategy and can be summarized like this:\n",
    "\n",
    "| Game State | Switch | Stay |\n",
    "-- | --- | ---|\n",
    "Door_Prize == Door_Player |  Loss | **Win**  |\n",
    "Door_Prize != Door_Player |  **Win**  | Loss |\n",
    "\n",
    "In other words, the Switch Strategy wins in all cases where the initial choice was wrong. \n",
    "\n",
    "#### There are 9 potential cases in total (3 ways to insert the prize * 3 ways to choose the door). Their outcomes are as follows:\n",
    "\n",
    "| Door_Prize | Door_Player | Door_Host | Switch | Stay |\n",
    "--- | --- | --- | --- | ---\n",
    "1 | 1 | 2 or 3 | Loss | **Win**\n",
    "1 | 2 | 3 | **Win** | Loss\n",
    "1 | 3 | 2 | **Win** | Loss\n",
    "2 | 1 | 3| **Win** | Loss\n",
    "2 | 2 | 1 or 3 | Loss | **Win**\n",
    "2 | 3 | 1 | **Win** | Loss\n",
    "3 | 1 | 2 | **Win** | Loss\n",
    "3 | 2 | 1| **Win** | Loss\n",
    "3 | 3 | 1 or 2 | Loss | **Win**\n",
    "\n",
    "By counting, there are only 3 ways out of 9 possible outcomes in which the Stay Strategy wins. So, the probability of winning with the **Switch** Strategy is **2/3** and the probability of winning with the **Stay** Strategy is **1/3**.\n",
    "\n",
    "[Go to Contents](#contents)"
   ]
  },
  {
   "cell_type": "markdown",
   "metadata": {},
   "source": [
    "## 1.3. Recommended strategy<a id='1.3'></a>\n",
    "\n",
    "The recommended strategy is **always switch**. As demonstrated in section [2.5. (_Putting it all together (2) - Running many simulations_)](#2.5), the average number of wins for the always-switch strategy is very close to the theoretical average of 2/3, with the standard deviation of the means of 1000 trials of 100 games each of about 0.05 and with a 95% confidence interval of about (0.57, 0.76), while the always-stay strategy is successful only in about 1/3 of the cases on average.\n",
    "\n",
    "[Go to Contents](#contents)"
   ]
  },
  {
   "cell_type": "markdown",
   "metadata": {},
   "source": [
    "# 2. Coding part<a id='2'></a>"
   ]
  },
  {
   "cell_type": "code",
   "execution_count": 1,
   "metadata": {},
   "outputs": [],
   "source": [
    "# Import libraries\n",
    "import numpy as np\n",
    "import pandas as pd\n",
    "import scipy.stats as stats\n",
    "import matplotlib.pyplot as plt\n",
    "import seaborn\n",
    "\n",
    "# Configure default plot style\n",
    "seaborn.set_palette('muted')\n",
    "seaborn.set_style('ticks')\n",
    "%matplotlib inline"
   ]
  },
  {
   "cell_type": "markdown",
   "metadata": {},
   "source": [
    "## 2.1. Simulate the car's and player's doors<a id='2.1'></a>\n",
    "\n",
    "I will use the **discrete uniform distribution** provided by ``numpy.random.randint()`` to simulate the random number of the door behind which the car is placed and the random number of the door chosen by the player.\n",
    "\n",
    "[Go to Contents](#contents)"
   ]
  },
  {
   "cell_type": "code",
   "execution_count": 2,
   "metadata": {},
   "outputs": [
    {
     "data": {
      "text/html": [
       "<div>\n",
       "<style scoped>\n",
       "    .dataframe tbody tr th:only-of-type {\n",
       "        vertical-align: middle;\n",
       "    }\n",
       "\n",
       "    .dataframe tbody tr th {\n",
       "        vertical-align: top;\n",
       "    }\n",
       "\n",
       "    .dataframe thead th {\n",
       "        text-align: right;\n",
       "    }\n",
       "</style>\n",
       "<table border=\"1\" class=\"dataframe\">\n",
       "  <thead>\n",
       "    <tr style=\"text-align: right;\">\n",
       "      <th></th>\n",
       "      <th>door_car</th>\n",
       "      <th>door_player</th>\n",
       "    </tr>\n",
       "  </thead>\n",
       "  <tbody>\n",
       "    <tr>\n",
       "      <th>0</th>\n",
       "      <td>1</td>\n",
       "      <td>1</td>\n",
       "    </tr>\n",
       "    <tr>\n",
       "      <th>1</th>\n",
       "      <td>0</td>\n",
       "      <td>0</td>\n",
       "    </tr>\n",
       "    <tr>\n",
       "      <th>2</th>\n",
       "      <td>2</td>\n",
       "      <td>1</td>\n",
       "    </tr>\n",
       "    <tr>\n",
       "      <th>3</th>\n",
       "      <td>0</td>\n",
       "      <td>2</td>\n",
       "    </tr>\n",
       "    <tr>\n",
       "      <th>4</th>\n",
       "      <td>0</td>\n",
       "      <td>0</td>\n",
       "    </tr>\n",
       "  </tbody>\n",
       "</table>\n",
       "</div>"
      ],
      "text/plain": [
       "   door_car  door_player\n",
       "0         1            1\n",
       "1         0            0\n",
       "2         2            1\n",
       "3         0            2\n",
       "4         0            0"
      ]
     },
     "execution_count": 2,
     "metadata": {},
     "output_type": "execute_result"
    }
   ],
   "source": [
    "def sim_doors(num_games):\n",
    "    \"\"\"Return a df with many cases for car location and player's choice.\"\"\"\n",
    "    doors_cars = np.random.randint(3, size = num_games)\n",
    "    doors_player = np.random.randint(3, size = num_games)\n",
    "    doors = pd.DataFrame({'door_car': doors_cars, \n",
    "                          'door_player': doors_player}\n",
    "                        )\n",
    "    return doors\n",
    "\n",
    "# An example with 5 games, 1 game state per row\n",
    "game_df = sim_doors(5)\n",
    "game_df"
   ]
  },
  {
   "cell_type": "markdown",
   "metadata": {},
   "source": [
    "## 2.2. Simulate the host's door<a id='2.2'></a>\n",
    "\n",
    "The host's actions are pre-determined when the player chooses a wrong door. But when the player chooses the right door, for example, door 1 is right and the player chooses it, the host opens randomly one of the two remaining non-winning doors, in this case, door # 2 or # 3.\n",
    "\n",
    "In fact, I don't need to simulate the host, because it does not affect the ultimate simulation results, but I do this for the sake of completeness.\n",
    "\n",
    "[Go to Contents](#contents)"
   ]
  },
  {
   "cell_type": "code",
   "execution_count": 3,
   "metadata": {},
   "outputs": [],
   "source": [
    "# A helper function which will be used later as a parameter for the pandas'\n",
    "# dataframe apply() method in my function sim_host()\n",
    "def get_host_choice(case):\n",
    "    \"\"\"Given a one-case game df, return the door # which the host opens.\"\"\"\n",
    "    doors_choice = [0, 1, 2]\n",
    "    car_door = int(case['door_car'])\n",
    "    player_door = int(case['door_player'])\n",
    "    \n",
    "    # If the player chose the right door, the host opens randomly\n",
    "    # one of the two other doors\n",
    "    if car_door == player_door:\n",
    "        # Get two vacant doors\n",
    "        vac_doors = [i for i in doors_choice if i != car_door]\n",
    "        # Choose randomly 1 of the 2 remaining non-winning doors\n",
    "        return int(np.random.choice(vac_doors, 1, p = [0.5, 0.5]))\n",
    "    \n",
    "    # If the player chose a wrong door, the host open the only available\n",
    "    # door left which door has a goat behind it\n",
    "    if car_door != player_door:\n",
    "        taken_doors = [int(car_door), (player_door)]\n",
    "        return [i for i in doors_choice if i not in taken_doors][0]"
   ]
  },
  {
   "cell_type": "markdown",
   "metadata": {},
   "source": [
    "The  following cell contains several tests for the function `get_host_choice()`"
   ]
  },
  {
   "cell_type": "code",
   "execution_count": 4,
   "metadata": {},
   "outputs": [],
   "source": [
    "# Tests for the random portion of the function get_host_choice()\n",
    "# The car is behind the door which the player chooses\n",
    "simple_test_df = pd.DataFrame({'door_car': [0, 1, 2], \n",
    "                               'door_player': [0, 1, 2]})\n",
    "res = get_host_choice(simple_test_df[0:1])  # Case 1: door 0 taken\n",
    "assert res == 1 or res == 2     # Host must open 1 or 2\n",
    "res = get_host_choice(simple_test_df[1:2])  # Case 2: door 1 taken\n",
    "assert res == 0 or res == 2     # Host must open 0 or 3\n",
    "res = get_host_choice(simple_test_df[2:3])  # Case 3: door 2 taken\n",
    "assert res == 0 or res == 1     # Host must open 0 or 1\n",
    "\n",
    "# Tests for the deterministic portion of get_host_choice()\n",
    "# Host has no choice in deciding which door to open\n",
    "simple_test_df = pd.DataFrame({'door_car': [0, 0, 1, 1, 2, 2], \n",
    "                               'door_player': [1, 2, 0, 2, 0, 1]})\n",
    "min = 0  # A counter for the while loop and an indexer for the df\n",
    "max = len(simple_test_df)\n",
    "expected = [2, 1, 2, 0, 1, 0]  # Choices that the host must make\n",
    "while min < max:\n",
    "    res = get_host_choice(simple_test_df[min:min+1])\n",
    "    assert res == expected[min]\n",
    "    min += 1"
   ]
  },
  {
   "cell_type": "markdown",
   "metadata": {},
   "source": [
    "The function `sim_host()` will make use of the function `get_host_choice()` above to add the door that the host will open to the dataframe."
   ]
  },
  {
   "cell_type": "code",
   "execution_count": 5,
   "metadata": {},
   "outputs": [
    {
     "data": {
      "text/html": [
       "<div>\n",
       "<style scoped>\n",
       "    .dataframe tbody tr th:only-of-type {\n",
       "        vertical-align: middle;\n",
       "    }\n",
       "\n",
       "    .dataframe tbody tr th {\n",
       "        vertical-align: top;\n",
       "    }\n",
       "\n",
       "    .dataframe thead th {\n",
       "        text-align: right;\n",
       "    }\n",
       "</style>\n",
       "<table border=\"1\" class=\"dataframe\">\n",
       "  <thead>\n",
       "    <tr style=\"text-align: right;\">\n",
       "      <th></th>\n",
       "      <th>door_car</th>\n",
       "      <th>door_player</th>\n",
       "      <th>door_host</th>\n",
       "    </tr>\n",
       "  </thead>\n",
       "  <tbody>\n",
       "    <tr>\n",
       "      <th>0</th>\n",
       "      <td>1</td>\n",
       "      <td>1</td>\n",
       "      <td>0</td>\n",
       "    </tr>\n",
       "    <tr>\n",
       "      <th>1</th>\n",
       "      <td>0</td>\n",
       "      <td>0</td>\n",
       "      <td>2</td>\n",
       "    </tr>\n",
       "    <tr>\n",
       "      <th>2</th>\n",
       "      <td>2</td>\n",
       "      <td>1</td>\n",
       "      <td>0</td>\n",
       "    </tr>\n",
       "    <tr>\n",
       "      <th>3</th>\n",
       "      <td>0</td>\n",
       "      <td>2</td>\n",
       "      <td>1</td>\n",
       "    </tr>\n",
       "    <tr>\n",
       "      <th>4</th>\n",
       "      <td>0</td>\n",
       "      <td>0</td>\n",
       "      <td>2</td>\n",
       "    </tr>\n",
       "  </tbody>\n",
       "</table>\n",
       "</div>"
      ],
      "text/plain": [
       "   door_car  door_player  door_host\n",
       "0         1            1          0\n",
       "1         0            0          2\n",
       "2         2            1          0\n",
       "3         0            2          1\n",
       "4         0            0          2"
      ]
     },
     "execution_count": 5,
     "metadata": {},
     "output_type": "execute_result"
    }
   ],
   "source": [
    "def sim_host(df):\n",
    "    \"\"\"Add the host-opened door # to the df.\"\"\"\n",
    "    df['door_host'] = df.apply(get_host_choice, axis=1)\n",
    "    \n",
    "    return df\n",
    "\n",
    "game_df = sim_host(game_df)\n",
    "game_df"
   ]
  },
  {
   "cell_type": "markdown",
   "metadata": {},
   "source": [
    "## 2.3. Simulate switch/stay results<a id='2.3'></a>\n",
    "\n",
    "Now I will add 2 more columns to the dataframe - switch and stay startegy outcomes. This will implement the general logic presented at the beginning of this notebook, namely:\n",
    "\n",
    "| Game State | Switch | Stay |\n",
    "-- | --- | ---|\n",
    "Door_Prize == Door_Player |  Loss | **Win**  |\n",
    "Door_Prize != Door_Player |  **Win**  | Loss |\n",
    "\n",
    "The above logic assumes that the host does what he must. And as long as this is true, the host's choice is not needed in the simulation. Moreover, I don't actually need the Stay column because it is the opposite of Switch, but I'll add it for convenience.\n",
    "\n",
    "[Go to Contents](#contents)"
   ]
  },
  {
   "cell_type": "code",
   "execution_count": 6,
   "metadata": {},
   "outputs": [
    {
     "data": {
      "text/html": [
       "<div>\n",
       "<style scoped>\n",
       "    .dataframe tbody tr th:only-of-type {\n",
       "        vertical-align: middle;\n",
       "    }\n",
       "\n",
       "    .dataframe tbody tr th {\n",
       "        vertical-align: top;\n",
       "    }\n",
       "\n",
       "    .dataframe thead th {\n",
       "        text-align: right;\n",
       "    }\n",
       "</style>\n",
       "<table border=\"1\" class=\"dataframe\">\n",
       "  <thead>\n",
       "    <tr style=\"text-align: right;\">\n",
       "      <th></th>\n",
       "      <th>door_car</th>\n",
       "      <th>door_player</th>\n",
       "      <th>door_host</th>\n",
       "      <th>switch</th>\n",
       "      <th>stay</th>\n",
       "    </tr>\n",
       "  </thead>\n",
       "  <tbody>\n",
       "    <tr>\n",
       "      <th>0</th>\n",
       "      <td>1</td>\n",
       "      <td>1</td>\n",
       "      <td>0</td>\n",
       "      <td>0</td>\n",
       "      <td>1</td>\n",
       "    </tr>\n",
       "    <tr>\n",
       "      <th>1</th>\n",
       "      <td>0</td>\n",
       "      <td>0</td>\n",
       "      <td>2</td>\n",
       "      <td>0</td>\n",
       "      <td>1</td>\n",
       "    </tr>\n",
       "    <tr>\n",
       "      <th>2</th>\n",
       "      <td>2</td>\n",
       "      <td>1</td>\n",
       "      <td>0</td>\n",
       "      <td>1</td>\n",
       "      <td>0</td>\n",
       "    </tr>\n",
       "    <tr>\n",
       "      <th>3</th>\n",
       "      <td>0</td>\n",
       "      <td>2</td>\n",
       "      <td>1</td>\n",
       "      <td>1</td>\n",
       "      <td>0</td>\n",
       "    </tr>\n",
       "    <tr>\n",
       "      <th>4</th>\n",
       "      <td>0</td>\n",
       "      <td>0</td>\n",
       "      <td>2</td>\n",
       "      <td>0</td>\n",
       "      <td>1</td>\n",
       "    </tr>\n",
       "  </tbody>\n",
       "</table>\n",
       "</div>"
      ],
      "text/plain": [
       "   door_car  door_player  door_host  switch  stay\n",
       "0         1            1          0       0     1\n",
       "1         0            0          2       0     1\n",
       "2         2            1          0       1     0\n",
       "3         0            2          1       1     0\n",
       "4         0            0          2       0     1"
      ]
     },
     "execution_count": 6,
     "metadata": {},
     "output_type": "execute_result"
    }
   ],
   "source": [
    "def sim_win(df):\n",
    "    \"\"\"Return df with 2 added columns for wins in switch/stay strategies.\"\"\"\n",
    "    df = df.assign(switch = (df.door_car != df.door_player).astype(int),\n",
    "                   stay = (df.door_car == df.door_player).astype(int)\n",
    "                  )\n",
    "    return df\n",
    "\n",
    "game_df = sim_win(game_df)\n",
    "game_df"
   ]
  },
  {
   "cell_type": "markdown",
   "metadata": {},
   "source": [
    "## 2.4. Putting it all together (1) - Simulate many game instances<a id='2.4'></a>\n",
    "\n",
    "Here I will run many realizations of the game before combining multiple realizations into groups called replicas.\n",
    "\n",
    "[Go to Contents](#contents)"
   ]
  },
  {
   "cell_type": "code",
   "execution_count": 7,
   "metadata": {},
   "outputs": [
    {
     "data": {
      "text/html": [
       "<div>\n",
       "<style scoped>\n",
       "    .dataframe tbody tr th:only-of-type {\n",
       "        vertical-align: middle;\n",
       "    }\n",
       "\n",
       "    .dataframe tbody tr th {\n",
       "        vertical-align: top;\n",
       "    }\n",
       "\n",
       "    .dataframe thead th {\n",
       "        text-align: right;\n",
       "    }\n",
       "</style>\n",
       "<table border=\"1\" class=\"dataframe\">\n",
       "  <thead>\n",
       "    <tr style=\"text-align: right;\">\n",
       "      <th></th>\n",
       "      <th>door_car</th>\n",
       "      <th>door_player</th>\n",
       "      <th>door_host</th>\n",
       "      <th>switch</th>\n",
       "      <th>stay</th>\n",
       "    </tr>\n",
       "  </thead>\n",
       "  <tbody>\n",
       "    <tr>\n",
       "      <th>0</th>\n",
       "      <td>0</td>\n",
       "      <td>1</td>\n",
       "      <td>2</td>\n",
       "      <td>1</td>\n",
       "      <td>0</td>\n",
       "    </tr>\n",
       "    <tr>\n",
       "      <th>1</th>\n",
       "      <td>1</td>\n",
       "      <td>2</td>\n",
       "      <td>0</td>\n",
       "      <td>1</td>\n",
       "      <td>0</td>\n",
       "    </tr>\n",
       "    <tr>\n",
       "      <th>2</th>\n",
       "      <td>2</td>\n",
       "      <td>2</td>\n",
       "      <td>1</td>\n",
       "      <td>0</td>\n",
       "      <td>1</td>\n",
       "    </tr>\n",
       "    <tr>\n",
       "      <th>3</th>\n",
       "      <td>1</td>\n",
       "      <td>1</td>\n",
       "      <td>2</td>\n",
       "      <td>0</td>\n",
       "      <td>1</td>\n",
       "    </tr>\n",
       "    <tr>\n",
       "      <th>4</th>\n",
       "      <td>0</td>\n",
       "      <td>0</td>\n",
       "      <td>1</td>\n",
       "      <td>0</td>\n",
       "      <td>1</td>\n",
       "    </tr>\n",
       "  </tbody>\n",
       "</table>\n",
       "</div>"
      ],
      "text/plain": [
       "   door_car  door_player  door_host  switch  stay\n",
       "0         0            1          2       1     0\n",
       "1         1            2          0       1     0\n",
       "2         2            2          1       0     1\n",
       "3         1            1          2       0     1\n",
       "4         0            0          1       0     1"
      ]
     },
     "execution_count": 7,
     "metadata": {},
     "output_type": "execute_result"
    }
   ],
   "source": [
    "def sim_mult_games(num_games):\n",
    "    \"\"\"Return a df with mupliple game states and their results\"\"\"\n",
    "    df = sim_doors(num_games)\n",
    "    df = sim_host(df)\n",
    "    df = sim_win(df)\n",
    "    \n",
    "    return df\n",
    "\n",
    "# A small example with 10 games to see that it works\n",
    "game = sim_mult_games(10)\n",
    "game.head()"
   ]
  },
  {
   "cell_type": "code",
   "execution_count": 8,
   "metadata": {},
   "outputs": [
    {
     "data": {
      "text/html": [
       "<div>\n",
       "<style scoped>\n",
       "    .dataframe tbody tr th:only-of-type {\n",
       "        vertical-align: middle;\n",
       "    }\n",
       "\n",
       "    .dataframe tbody tr th {\n",
       "        vertical-align: top;\n",
       "    }\n",
       "\n",
       "    .dataframe thead th {\n",
       "        text-align: right;\n",
       "    }\n",
       "</style>\n",
       "<table border=\"1\" class=\"dataframe\">\n",
       "  <thead>\n",
       "    <tr style=\"text-align: right;\">\n",
       "      <th></th>\n",
       "      <th>strategy</th>\n",
       "      <th>means</th>\n",
       "    </tr>\n",
       "  </thead>\n",
       "  <tbody>\n",
       "    <tr>\n",
       "      <th>0</th>\n",
       "      <td>switch</td>\n",
       "      <td>0.62</td>\n",
       "    </tr>\n",
       "    <tr>\n",
       "      <th>1</th>\n",
       "      <td>stay</td>\n",
       "      <td>0.38</td>\n",
       "    </tr>\n",
       "  </tbody>\n",
       "</table>\n",
       "</div>"
      ],
      "text/plain": [
       "  strategy  means\n",
       "0   switch   0.62\n",
       "1     stay   0.38"
      ]
     },
     "execution_count": 8,
     "metadata": {},
     "output_type": "execute_result"
    }
   ],
   "source": [
    "# View results for a 100-game simulation\n",
    "multi_game = sim_mult_games(100)\n",
    "mean_wins = pd.DataFrame({'strategy': ['switch', 'stay'],\n",
    "                          'means': [multi_game.switch.mean(), \n",
    "                                    multi_game.stay.mean()]\n",
    "                         }\n",
    "                        )\n",
    "mean_wins"
   ]
  },
  {
   "cell_type": "code",
   "execution_count": 9,
   "metadata": {},
   "outputs": [
    {
     "data": {
      "image/png": "[encoded data removed]",
      "text/plain": [
       "<Figure size 216x288 with 1 Axes>"
      ]
     },
     "metadata": {
      "needs_background": "light"
     },
     "output_type": "display_data"
    }
   ],
   "source": [
    "# Vizualize the average number of wins by strategy for 100 games\n",
    "fig = plt.figure(figsize = (3, 4))\n",
    "plt.bar(mean_wins.loc[:, 'strategy'], \n",
    "        mean_wins.loc[:, 'means'], \n",
    "        width = 0.4, \n",
    "        align = 'center')\n",
    "plt.title('Switch vs Stay\\n100 games')\n",
    "plt.xlabel('Strategy')\n",
    "plt.ylabel('Mean')\n",
    "plt.xticks(rotation = 0);"
   ]
  },
  {
   "cell_type": "markdown",
   "metadata": {},
   "source": [
    "Next I will create several simulation replicas, each one containing many instances of the game. Then I will present the results in the form of a dataframe which, for every simulation replica, contains the mean of the wins by strategy."
   ]
  },
  {
   "cell_type": "code",
   "execution_count": 10,
   "metadata": {},
   "outputs": [
    {
     "data": {
      "text/html": [
       "<div>\n",
       "<style scoped>\n",
       "    .dataframe tbody tr th:only-of-type {\n",
       "        vertical-align: middle;\n",
       "    }\n",
       "\n",
       "    .dataframe tbody tr th {\n",
       "        vertical-align: top;\n",
       "    }\n",
       "\n",
       "    .dataframe thead th {\n",
       "        text-align: right;\n",
       "    }\n",
       "</style>\n",
       "<table border=\"1\" class=\"dataframe\">\n",
       "  <thead>\n",
       "    <tr style=\"text-align: right;\">\n",
       "      <th></th>\n",
       "      <th>strategy</th>\n",
       "      <th>mean_wins</th>\n",
       "      <th>replica_i</th>\n",
       "    </tr>\n",
       "  </thead>\n",
       "  <tbody>\n",
       "    <tr>\n",
       "      <th>0</th>\n",
       "      <td>switch</td>\n",
       "      <td>0.74</td>\n",
       "      <td>0</td>\n",
       "    </tr>\n",
       "    <tr>\n",
       "      <th>1</th>\n",
       "      <td>stay</td>\n",
       "      <td>0.26</td>\n",
       "      <td>0</td>\n",
       "    </tr>\n",
       "    <tr>\n",
       "      <th>0</th>\n",
       "      <td>switch</td>\n",
       "      <td>0.61</td>\n",
       "      <td>1</td>\n",
       "    </tr>\n",
       "    <tr>\n",
       "      <th>1</th>\n",
       "      <td>stay</td>\n",
       "      <td>0.39</td>\n",
       "      <td>1</td>\n",
       "    </tr>\n",
       "  </tbody>\n",
       "</table>\n",
       "</div>"
      ],
      "text/plain": [
       "  strategy  mean_wins  replica_i\n",
       "0   switch       0.74          0\n",
       "1     stay       0.26          0\n",
       "0   switch       0.61          1\n",
       "1     stay       0.39          1"
      ]
     },
     "execution_count": 10,
     "metadata": {},
     "output_type": "execute_result"
    }
   ],
   "source": [
    "def sim_wins_replicas(n_replicas, num_games):\n",
    "    \"\"\"Return a df with many sim replicas for mean wins by strategy.\"\"\"\n",
    "    all_runs = []\n",
    "    for replica_i in range(n_replicas):\n",
    "        multi_game = sim_mult_games(num_games)\n",
    "        single_run = pd.DataFrame({'strategy': ['switch', 'stay'],\n",
    "                                   'mean_wins': [multi_game.switch.mean(), \n",
    "                                                 multi_game.stay.mean()]\n",
    "                                  }\n",
    "                                 )\n",
    "        single_run['replica_i'] = replica_i\n",
    "        all_runs.append(single_run)\n",
    "        \n",
    "    return pd.concat(all_runs)\n",
    "\n",
    "# A two-replica (100 games each) example to see that the code works\n",
    "replicas = sim_wins_replicas(n_replicas = 2, num_games = 100)\n",
    "replicas"
   ]
  },
  {
   "cell_type": "markdown",
   "metadata": {},
   "source": [
    "The above was a small example to see that the code works. In the following section, I will run many simulations.\n",
    "\n",
    "[Go to Contents](#contents)"
   ]
  },
  {
   "cell_type": "markdown",
   "metadata": {},
   "source": [
    "## 2.5. Putting it all together (2) - Running many simulations<a id='2.5'></a>\n",
    "\n",
    "Here I will run many replicas of the simulation and plot the results, together with the **mean** and **standard deviation** of the means of many replicas of the simulation. I will also try to construct a **95% confidence interval for the mean value of the wins in the switch strategy**.\n",
    "\n",
    "[Go to Contents](#contents)"
   ]
  },
  {
   "cell_type": "code",
   "execution_count": 11,
   "metadata": {},
   "outputs": [],
   "source": [
    "num_runs = 1000\n",
    "games_per_run = 100\n",
    "replicas = sim_wins_replicas(n_replicas = num_runs, num_games = games_per_run)"
   ]
  },
  {
   "cell_type": "code",
   "execution_count": 12,
   "metadata": {
    "scrolled": true
   },
   "outputs": [
    {
     "name": "stdout",
     "output_type": "stream",
     "text": [
      "Standard deviations:\n",
      " strategy\n",
      "stay      0.048926\n",
      "switch    0.048926\n",
      "Name: mean_wins, dtype: float64\n",
      "\n",
      "Means:\n",
      " strategy\n",
      "stay      0.33528\n",
      "switch    0.66472\n",
      "Name: mean_wins, dtype: float64\n"
     ]
    }
   ],
   "source": [
    "print('Standard deviations:\\n', replicas.groupby('strategy').mean_wins.std())\n",
    "print()\n",
    "print('Means:\\n', replicas.groupby('strategy').mean_wins.mean())"
   ]
  },
  {
   "cell_type": "markdown",
   "metadata": {},
   "source": [
    "**For a large number of runs, such as 1000 trials of 100 games each, the mean number of wins for the Switch strategy is very close to the theoretical mean of 0.6667 (or 2/3), while the mean number of wins for the Stay strategy is very close to 1/3.**\n",
    "\n",
    "[Go to Contents](#contents)"
   ]
  },
  {
   "cell_type": "markdown",
   "metadata": {},
   "source": [
    "In the following cell I try to calculate a **95% confidence interval for the mean value of the wins in the switch strategy**."
   ]
  },
  {
   "cell_type": "code",
   "execution_count": 13,
   "metadata": {},
   "outputs": [
    {
     "name": "stdout",
     "output_type": "stream",
     "text": [
      "Mean of the wins for the switch strategy\n",
      "95% confidence interval for 1000 trials of 100 games each\n",
      "(using t-value):\n",
      "(0.569, 0.761)\n"
     ]
    }
   ],
   "source": [
    "# Confidence interval for the mean of wins in the switch strategy\n",
    "mu = replicas.groupby('strategy').mean_wins.mean().switch\n",
    "sd = replicas.groupby('strategy').mean_wins.std().switch\n",
    "conf_int_t = stats.t.interval(alpha = 0.95,           # Confidence level\n",
    "                              df = num_runs - 1,      # Degrees of freedom\n",
    "                              loc = mu,               # Sample mean\n",
    "                              scale = sd)             # Sample standard deviation\n",
    "print('Mean of the wins for the switch strategy')\n",
    "print(\"95% confidence interval for {} trials of {} games each\\n(using t-value):\"\n",
    "      .format(num_runs, games_per_run))\n",
    "print('({:.3}, {:.3})'.format(conf_int_t[0], conf_int_t[1]))"
   ]
  },
  {
   "cell_type": "code",
   "execution_count": 14,
   "metadata": {},
   "outputs": [
    {
     "data": {
      "image/png": "[encoded data removed]",
      "text/plain": [
       "<Figure size 864x432 with 2 Axes>"
      ]
     },
     "metadata": {
      "needs_background": "light"
     },
     "output_type": "display_data"
    }
   ],
   "source": [
    "# Plotting means of samples (i.e. replicas) by strategy\n",
    "# Select sub-sets of the dataframe by strategy\n",
    "switch_win_means = replicas[(replicas.loc[:, 'strategy'] == 'switch')]\n",
    "stay_win_means = replicas[(replicas.loc[:, 'strategy'] == 'stay')]\n",
    "\n",
    "# Calculate the std and mean of the means for the switch strategy\n",
    "switch_sd = switch_win_means.loc[:, 'mean_wins'].std()\n",
    "switch_mu = switch_win_means.loc[:, 'mean_wins'].mean()\n",
    "switch_textstr = 'mu={}\\nsd={}'.format(round(switch_mu, 4), round(switch_sd, 4))\n",
    "\n",
    "# Calculate the std and mean of the means for the stay strategy\n",
    "stay_sd = stay_win_means.loc[:, 'mean_wins'].std()\n",
    "stay_mu = stay_win_means.loc[:, 'mean_wins'].mean()\n",
    "stay_textstr = 'mu={}\\nsd={}'.format(round(stay_mu, 4), round(stay_sd, 4))\n",
    "\n",
    "# Define 2 plots, one for each strategy\n",
    "fig, axes = plt.subplots(nrows = 1, ncols = 2, figsize = (12,6))\n",
    "ax0, ax1 = axes.flat\n",
    "\n",
    "ax0.hist(switch_win_means.loc[:, 'mean_wins'], bins = 20)\n",
    "ax0.set_title('Switch Strategy\\nAverage number of wins,\\n{} runs\\nof {} games each'\n",
    "              .format(num_runs, games_per_run))\n",
    "ax0.set_xlabel('Means')\n",
    "ax0.set_ylabel('Count')\n",
    "ax0.text(.8, .9, switch_textstr, fontsize = 14, transform = ax0.transAxes)\n",
    "\n",
    "ax1.hist(stay_win_means.loc[:, 'mean_wins'], bins = 20)\n",
    "ax1.set_title('Stay Strategy\\nAverage number of wins,\\n{} runs\\nof {} games each'\n",
    "              .format(num_runs, games_per_run))\n",
    "ax1.set_xlabel('Means')\n",
    "ax1.text(.8, 0.9, stay_textstr, fontsize = 14, transform = ax1.transAxes)\n",
    "\n",
    "plt.tight_layout()\n",
    "plt.show()"
   ]
  },
  {
   "cell_type": "code",
   "execution_count": null,
   "metadata": {},
   "outputs": [],
   "source": []
  }
 ],
 "metadata": {
  "kernelspec": {
   "display_name": "Python 3",
   "language": "python",
   "name": "python3"
  },
  "language_info": {
   "codemirror_mode": {
    "name": "ipython",
    "version": 3
   },
   "file_extension": ".py",
   "mimetype": "text/x-python",
   "name": "python",
   "nbconvert_exporter": "python",
   "pygments_lexer": "ipython3",
   "version": "3.6.7"
  }
 },
 "nbformat": 4,
 "nbformat_minor": 2
}
