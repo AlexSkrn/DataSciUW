{
 "cells": [
  {
   "cell_type": "markdown",
   "metadata": {},
   "source": [
    "# Lesson 05 Assignment - Hypothesis Simulation  \n",
    "\n",
    "## Author - AlexSkrn\n",
    "\n"
   ]
  },
  {
   "cell_type": "markdown",
   "metadata": {},
   "source": [
    "## Instructions\n",
    "Use the <a href=\"https://archive.ics.uci.edu/ml/datasets/Automobile\">automotive data set</a> to perform the following:\n",
    "\n",
    "1. Identify a likely distribution for price and several other features.\n",
    "2. Compute basic summary statistics by both classical, bootstrap, and Bayesian methods\n",
    "3. Compute confidence intervals for these summary statistics by classical, bootstrap, and Bayesian methods\n",
    "4. Correctly use hypothesis tests to determine if the differences in pairs and multiple populations are significant:\n",
    "            Classical tests\n",
    "            Tukey’s Honest Significant Differences (HSD)\n",
    "            Bootstrap methods\n",
    "            Bayesian model\n"
   ]
  },
  {
   "cell_type": "markdown",
   "metadata": {},
   "source": [
    "### Note\n",
    "Please clearly outline the results with markdown text. Be sure your discussion includes narrative for your figures and tables so it is clear to the reader the importance of each bit of evidence."
   ]
  },
  {
   "cell_type": "code",
   "execution_count": 1,
   "metadata": {},
   "outputs": [],
   "source": [
    "fileName = \"https://library.startlearninglabs.uw.edu/DATASCI410/Datasets/Automobile%20price%20data%20_Raw_.csv\""
   ]
  },
  {
   "cell_type": "code",
   "execution_count": 2,
   "metadata": {},
   "outputs": [],
   "source": [
    "# Load necessary libraries\n",
    "import itertools\n",
    "import pandas as pd\n",
    "import numpy as np\n",
    "import scipy\n",
    "import scipy.stats\n",
    "import numpy.random as nr\n",
    "from sklearn.preprocessing import scale\n",
    "from statsmodels.stats.multicomp import pairwise_tukeyhsd\n",
    "import matplotlib.pyplot as pyplot\n",
    "import seaborn as sns\n",
    "%matplotlib inline"
   ]
  },
  {
   "cell_type": "code",
   "execution_count": 3,
   "metadata": {},
   "outputs": [],
   "source": [
    "# Load the auto-prices dataset\n",
    "def read_auto_data(fileName = \"https://library.startlearninglabs.uw.edu/DATASCI410/Datasets/Automobile%20price%20data%20_Raw_.csv\"):\n",
    "    'Function to load the auto price data set from a .csv file' \n",
    "    import pandas as pd\n",
    "    import numpy as np\n",
    "\n",
    "    ## Read the .csv file with the pandas read_csv method\n",
    "    auto_price = pd.read_csv(fileName)\n",
    "    \n",
    "    ## Remove rows with missing values, accounting for missing values coded as '?'\n",
    "    cols = ['price', 'bore', 'stroke', \n",
    "          'horsepower', 'peak-rpm', 'normalized-losses']\n",
    "    for column in cols:\n",
    "        auto_price.loc[auto_price[column] == '?', column] = np.nan\n",
    "    auto_price.dropna(axis = 0, inplace = True)\n",
    "\n",
    "    ## Convert some columns to numeric values\n",
    "    for column in cols:\n",
    "        auto_price[column] = pd.to_numeric(auto_price[column])\n",
    "        \n",
    "    return auto_price\n",
    "\n",
    "auto_price = read_auto_data(fileName)"
   ]
  },
  {
   "cell_type": "code",
   "execution_count": 4,
   "metadata": {},
   "outputs": [],
   "source": [
    "# Define a function to get log prices from the auto_price dataframe, by variable \n",
    "# and a category within such variable\n",
    "def get_log_prices(df, variable, category):\n",
    "    \"\"\"Return an array of prices for the variable and category.\"\"\"\n",
    "    return df.loc[df[variable] == category].loc[:, 'log_price']"
   ]
  },
  {
   "cell_type": "code",
   "execution_count": 5,
   "metadata": {},
   "outputs": [],
   "source": [
    "# Add a column with the logs of prices \n",
    "auto_price['log_price'] = auto_price['price'].apply(np.log)"
   ]
  },
  {
   "cell_type": "markdown",
   "metadata": {},
   "source": [
    "## 1. Identify a likely distribution for price and several other features."
   ]
  },
  {
   "cell_type": "markdown",
   "metadata": {},
   "source": [
    "### Distribution of log price"
   ]
  },
  {
   "cell_type": "code",
   "execution_count": 6,
   "metadata": {},
   "outputs": [
    {
     "name": "stdout",
     "output_type": "stream",
     "text": [
      "KS-statistic = 0.12190811341151653\n",
      "P-value = 0.015712065178210333\n"
     ]
    }
   ],
   "source": [
    "# Pick the logs of prices\n",
    "logdata = auto_price.loc[:, 'log_price']\n",
    "# Normalize log prices\n",
    "norm2 = scale(logdata.tolist())\n",
    "# K-S test to test the distribution for normality\n",
    "def ks_test(dat, dist = 'norm'):\n",
    "    from scipy.stats import kstest \n",
    "    ks_statisic, pvalue = kstest(dat, dist)\n",
    "    print('KS-statistic = ' + str(ks_statisic))\n",
    "    print('P-value = ' + str(pvalue))\n",
    "ks_test(norm2)    "
   ]
  },
  {
   "cell_type": "markdown",
   "metadata": {},
   "source": [
    "Because the p-value is less than the level of significance, alpha = 0.05, I **must reject Ho that the log-transformed price data distribution is normal**. **However**, although the log-transformed prices are not exactly normal, I will rely on the hint in the begining of Lesson 4 assignment that these relationships are approximate, and I'll **consider that the prices are from a log-normal population**."
   ]
  },
  {
   "cell_type": "markdown",
   "metadata": {},
   "source": [
    "### Distribution of Losses"
   ]
  },
  {
   "cell_type": "code",
   "execution_count": 7,
   "metadata": {},
   "outputs": [
    {
     "data": {
      "text/plain": [
       "(array([ 50.,  75., 100., 125., 150., 175., 200., 225., 250., 275.]),\n",
       " <a list of 10 Text xticklabel objects>)"
      ]
     },
     "execution_count": 7,
     "metadata": {},
     "output_type": "execute_result"
    },
    {
     "data": {
      "image/png": "[encoded data removed]",
      "text/plain": [
       "<Figure size 504x216 with 1 Axes>"
      ]
     },
     "metadata": {
      "needs_background": "light"
     },
     "output_type": "display_data"
    }
   ],
   "source": [
    "pyplot.figure(figsize=(7,3))\n",
    "auto_price.loc[:, 'normalized-losses'].astype('float').plot.hist(bins=50)\n",
    "pyplot.xlabel('Losses')\n",
    "pyplot.title('Distribution of Losses')\n",
    "pyplot.xticks(rotation = 'vertical')"
   ]
  },
  {
   "cell_type": "code",
   "execution_count": 8,
   "metadata": {},
   "outputs": [],
   "source": [
    "losses = scale(auto_price.loc[:, 'normalized-losses'].astype('float').tolist())"
   ]
  },
  {
   "cell_type": "code",
   "execution_count": 9,
   "metadata": {},
   "outputs": [
    {
     "name": "stdout",
     "output_type": "stream",
     "text": [
      "KS-statistic = 0.12305049455837802\n",
      "P-value = 0.014348302890591746\n"
     ]
    }
   ],
   "source": [
    "# Kolmogorov-Smirnov Test\n",
    "ks_test(losses)"
   ]
  },
  {
   "cell_type": "markdown",
   "metadata": {},
   "source": [
    "Because the p-value is less than the level of significance, alpha = 0.05, I must **reject Ho** that the losses distribution is normal. "
   ]
  },
  {
   "cell_type": "markdown",
   "metadata": {},
   "source": [
    "## 2. Compute basic summary statistics by both classical, bootstrap, and Bayesian methods"
   ]
  },
  {
   "cell_type": "markdown",
   "metadata": {},
   "source": [
    "#### Mean and standard deviation by the classical method -- log prices"
   ]
  },
  {
   "cell_type": "code",
   "execution_count": 10,
   "metadata": {},
   "outputs": [
    {
     "name": "stdout",
     "output_type": "stream",
     "text": [
      "Mean = 9.238\n"
     ]
    }
   ],
   "source": [
    "print('Mean = {:.3f}'.format(auto_price.loc[:, 'log_price'].mean()))"
   ]
  },
  {
   "cell_type": "code",
   "execution_count": 11,
   "metadata": {},
   "outputs": [
    {
     "name": "stdout",
     "output_type": "stream",
     "text": [
      "Standard deviation = 0.441\n"
     ]
    }
   ],
   "source": [
    "print('Standard deviation = {:.3f}'.format(auto_price.loc[:, 'log_price'].std()))"
   ]
  },
  {
   "cell_type": "markdown",
   "metadata": {},
   "source": [
    "#### Mean and standard deviation by Bootstrap -- log prices"
   ]
  },
  {
   "cell_type": "code",
   "execution_count": 12,
   "metadata": {},
   "outputs": [
    {
     "name": "stdout",
     "output_type": "stream",
     "text": [
      "Mean = 9.238\n"
     ]
    }
   ],
   "source": [
    "# Number of trials\n",
    "n_replicas = 1000\n",
    "# frac = 1 to take 100% of the data as a sample\n",
    "price_bootstrap_means = pd.Series([\n",
    "    auto_price.sample(frac=1, replace=True).log_price.mean()\n",
    "    for i in range(n_replicas)])\n",
    "\n",
    "print('Mean = {:.3f}'.format(price_bootstrap_means.mean()))"
   ]
  },
  {
   "cell_type": "code",
   "execution_count": 13,
   "metadata": {},
   "outputs": [
    {
     "name": "stdout",
     "output_type": "stream",
     "text": [
      "Standard deviation = 0.440\n"
     ]
    }
   ],
   "source": [
    "price_bootstrap_stds = pd.Series([\n",
    "    auto_price.sample(frac = 1, replace = True).log_price.std()\n",
    "    for i in range(n_replicas)])\n",
    "\n",
    "print('Standard deviation = {:.3f}'.format(price_bootstrap_stds.mean()))"
   ]
  },
  {
   "cell_type": "markdown",
   "metadata": {},
   "source": [
    "#### Mean and standard deviation by the Bayesian method -- log prices"
   ]
  },
  {
   "cell_type": "markdown",
   "metadata": {},
   "source": [
    "The code below is an adaptation of code from L05-3-IntroductionToBayes"
   ]
  },
  {
   "cell_type": "code",
   "execution_count": 14,
   "metadata": {},
   "outputs": [
    {
     "name": "stdout",
     "output_type": "stream",
     "text": [
      "Mean = 9.238, Standard deviation = 0.440\n"
     ]
    }
   ],
   "source": [
    "# Number of samples is equal to the # of cases in the auto dataset\n",
    "num_samples = len(auto_price.loc[:, 'log_price'])\n",
    "# Sample of cases from the dataset\n",
    "price = auto_price.sample(n = num_samples)\n",
    "# Horizontal axis\n",
    "p = np.linspace(0, 15, num = 1000)\n",
    "# Prior normal probability distribution\n",
    "pp = scipy.stats.norm.pdf(p, loc = price.log_price.mean(), scale = 5)\n",
    "pp = pp / pp.sum() # normalize\n",
    "\n",
    "def posterior(prior, like):\n",
    "    \"\"\"Return an array of estimated posterior distribution.\n",
    "    \n",
    "       prior: an array of prior probability distribution\n",
    "       like: an array of estimated likelihood distribution\n",
    "    \"\"\"\n",
    "    post = prior * like # compute the product of the probabilities\n",
    "    return post / sum(post) # normalize the distribution to sum to unity\n",
    "\n",
    "def comp_like(p, x):\n",
    "    \"\"\"Return an array of estimated normal likelihood distribution.\n",
    "    \n",
    "       p: horizontal axis: np.linspace()\n",
    "       x: a data series\n",
    "    \"\"\"\n",
    "    variance = np.std(x)**2 # sigmasqr\n",
    "    x_mean = np.asarray(x).mean()  # xbar\n",
    "    print('Mean = %.3f, Standard deviation = %.3f' % (x_mean, np.std(x)))\n",
    "    n = len(x)\n",
    "    l = np.exp(-n * np.square(x_mean - p) / (2 * variance))\n",
    "    return l / l.sum()\n",
    "\n",
    "like_price = comp_like(p, price.log_price)\n",
    "post_price = posterior(pp, like_price)"
   ]
  },
  {
   "cell_type": "markdown",
   "metadata": {},
   "source": [
    "## 3. Compute confidence intervals for these summary statistics by classical, bootstrap, and Bayesian methods"
   ]
  },
  {
   "cell_type": "markdown",
   "metadata": {},
   "source": [
    "#### Classical Confidence Interval - for the mean"
   ]
  },
  {
   "cell_type": "markdown",
   "metadata": {},
   "source": [
    "What is the proper way to compute C.I. for the mean by the **classical** method? "
   ]
  },
  {
   "cell_type": "markdown",
   "metadata": {},
   "source": [
    "#### Approach 1 - from lesson 5"
   ]
  },
  {
   "cell_type": "code",
   "execution_count": 15,
   "metadata": {},
   "outputs": [
    {
     "name": "stdout",
     "output_type": "stream",
     "text": [
      "The half width is 0.88\n",
      "The 0.95 level CI is (8.36 , 10.12)\n"
     ]
    }
   ],
   "source": [
    "# Approach from notebook L05-CentralLimitTheorem\n",
    "pop_mean = auto_price.loc[:, 'log_price'].mean()\n",
    "pop_std = auto_price.sample(frac = 1, replace = True).log_price.std()\n",
    "alpha = 0.95\n",
    "half_width = scipy.stats.norm.ppf((1 + alpha) / 2, loc = pop_mean, scale = pop_std) - pop_mean\n",
    "print('The half width is %.2f' % half_width)\n",
    "\n",
    "ci_low = pop_mean - half_width\n",
    "ci_high = pop_mean + half_width\n",
    "\n",
    "print('The %.2f level CI is (%.2f , %.2f)' % (alpha, ci_low, ci_high))"
   ]
  },
  {
   "cell_type": "markdown",
   "metadata": {},
   "source": [
    "#### Approach 2 - from the Internet - same result"
   ]
  },
  {
   "cell_type": "code",
   "execution_count": 16,
   "metadata": {},
   "outputs": [
    {
     "name": "stdout",
     "output_type": "stream",
     "text": [
      "(8.37, 10.1)\n"
     ]
    }
   ],
   "source": [
    "# Using scipy.stats.t.interval() produces the same result as the approach in this Lesson 05\n",
    "mu = auto_price.log_price.mean()\n",
    "sd = auto_price.log_price.std()\n",
    "conf_int_t = scipy.stats.t.interval(alpha = 0.95,           # Confidence level\n",
    "                              df = len(auto_price.log_price) - 1,      # Degrees of freedom\n",
    "                              loc = mu,               # Sample mean\n",
    "                              scale = sd)             # Sample standard deviation\n",
    "print('({:.3}, {:.3})'.format(conf_int_t[0], conf_int_t[1]))"
   ]
  },
  {
   "cell_type": "markdown",
   "metadata": {},
   "source": [
    "#### Approach 3 - from the Internet - different result but coincides with the C.I. by Bootstrap"
   ]
  },
  {
   "cell_type": "code",
   "execution_count": 17,
   "metadata": {},
   "outputs": [
    {
     "name": "stdout",
     "output_type": "stream",
     "text": [
      "(9.169, 9.307)\n"
     ]
    }
   ],
   "source": [
    "# Approach from https://kite.com/python/examples/702/scipy-compute-a-confidence-interval-from-a-dataset\n",
    "from scipy.stats import sem, t\n",
    "from scipy import mean\n",
    "confidence = 0.95\n",
    "data = auto_price.loc[:, 'log_price']\n",
    "\n",
    "n = len(data)\n",
    "m = mean(data)\n",
    "std_err = sem(data)\n",
    "h = std_err * t.ppf((1 + confidence) / 2, n - 1)\n",
    "\n",
    "start = m - h\n",
    "end = m + h\n",
    "print('({:.3f}, {:.3f})'.format(start, end))"
   ]
  },
  {
   "cell_type": "markdown",
   "metadata": {},
   "source": [
    "It is interesting that the last result coincides with the Bootstrap C.I. below."
   ]
  },
  {
   "cell_type": "markdown",
   "metadata": {},
   "source": [
    "#### Bootstap Confidence Interval - for the mean of log prices"
   ]
  },
  {
   "cell_type": "code",
   "execution_count": 18,
   "metadata": {},
   "outputs": [
    {
     "name": "stdout",
     "output_type": "stream",
     "text": [
      "(9.17, 9.31)\n"
     ]
    }
   ],
   "source": [
    "# Using price_bootstrap_means calculated above in Section 2 (Mean and std by Bootstrap)\n",
    "p = 5  # 95% confidence level\n",
    "lo = np.percentile(price_bootstrap_means, p/2.)\n",
    "hi = np.percentile(price_bootstrap_means, 100-p/2.)\n",
    "print('({:.3}, {:.3})'.format(lo, hi))"
   ]
  },
  {
   "cell_type": "markdown",
   "metadata": {},
   "source": [
    "#### Credible Interval by the Bayesian method - for the mean of log prices"
   ]
  },
  {
   "cell_type": "code",
   "execution_count": 19,
   "metadata": {},
   "outputs": [
    {
     "name": "stdout",
     "output_type": "stream",
     "text": [
      "Mean = 9.238, Standard deviation = 0.440\n",
      "The 0.950 credible interval is 9.169 to 9.305\n"
     ]
    },
    {
     "data": {
      "image/png": "[encoded data removed]",
      "text/plain": [
       "<Figure size 432x288 with 1 Axes>"
      ]
     },
     "metadata": {
      "needs_background": "light"
     },
     "output_type": "display_data"
    }
   ],
   "source": [
    "# Adaptation of code from L05-3-IntroductionToBayes\n",
    "def plot_ci(p, post, num_samples, lower_q, upper_q):\n",
    "    \"\"\"This function computes a credible interval.\n",
    "    \n",
    "    Uses an assumption of symmetry in the bulk of the distribution \n",
    "    to keep the calculation simple.\"\"\"\n",
    "    \n",
    "    ## Compute a large sample by resampling with replacement\n",
    "    samples = np.random.choice(p, size=num_samples, replace=True, p=post)\n",
    "    ci = scipy.percentile(samples, [lower_q*100, upper_q*100]) # compute the quantiles\n",
    "    \n",
    "    interval = upper_q - lower_q\n",
    "    pyplot.title('Posterior density with %.3f credible interval' % interval)\n",
    "    pyplot.plot(p, post, color='blue')\n",
    "    pyplot.xlabel('Parameter value')\n",
    "    pyplot.ylabel('Density')\n",
    "    pyplot.axvline(x=ci[0], color='red')\n",
    "    pyplot.axvline(x=ci[1], color='red')\n",
    "    print('The %.3f credible interval is %.3f to %.3f' \n",
    "          % (interval, ci[0], ci[1]))\n",
    "\n",
    "num_samples = 100000\n",
    "lower_q, upper_q = [.025, .975]\n",
    "p = np.linspace(8, 10, num = 1000)\n",
    "\n",
    "# Prior normal probability distribution\n",
    "pp = scipy.stats.norm.pdf(p, loc = auto_price.log_price.mean(), scale = 5)\n",
    "pp = pp / pp.sum() # normalize\n",
    "\n",
    "L = comp_like(p, auto_price.log_price)\n",
    "post = posterior(pp, L)\n",
    "plot_ci(p, post, num_samples, lower_q, upper_q)"
   ]
  },
  {
   "cell_type": "markdown",
   "metadata": {},
   "source": [
    "## 4. Correctly use hypothesis tests to determine if the differences in pairs and multiple populations are significant:\n",
    "     Classical tests\n",
    "     Tukey’s Honest Significant Differences (HSD)\n",
    "     Bootstrap methods\n",
    "     Bayesian model"
   ]
  },
  {
   "cell_type": "markdown",
   "metadata": {},
   "source": [
    "### Classical tests"
   ]
  },
  {
   "cell_type": "markdown",
   "metadata": {},
   "source": [
    "##### T-test for the difference between the means - car prices by number of doors (four vs two)"
   ]
  },
  {
   "cell_type": "code",
   "execution_count": 20,
   "metadata": {},
   "outputs": [],
   "source": [
    "def t_test(a, b, alpha, alternative='two-sided'):\n",
    "    \"\"\"Return results of Welche's test for paired data.\"\"\"\n",
    "    from scipy import stats\n",
    "    import scipy.stats as ss\n",
    "    import pandas as pd\n",
    "    import statsmodels.stats.weightstats as ws\n",
    "    \n",
    "    diff = a.mean() - b.mean()\n",
    "\n",
    "    res = ss.ttest_ind(a, b)\n",
    "      \n",
    "    means = ws.CompareMeans(ws.DescrStatsW(a), ws.DescrStatsW(b))\n",
    "    confint = means.tconfint_diff(alpha=alpha, alternative=alternative, usevar='unequal') \n",
    "    degfree = means.dof_satt()\n",
    "\n",
    "    index = ['DegFreedom', 'Difference', 'Statistic', 'PValue', 'Low95CI', 'High95CI']\n",
    "    return pd.Series([degfree, diff, res[0], res[1], confint[0], confint[1]], index = index)   \n"
   ]
  },
  {
   "cell_type": "code",
   "execution_count": 21,
   "metadata": {},
   "outputs": [
    {
     "data": {
      "text/plain": [
       "DegFreedom    128.285485\n",
       "Difference     -0.193799\n",
       "Statistic      -2.765439\n",
       "PValue          0.006366\n",
       "Low95CI        -0.334524\n",
       "High95CI       -0.053075\n",
       "dtype: float64"
      ]
     },
     "execution_count": 21,
     "metadata": {},
     "output_type": "execute_result"
    }
   ],
   "source": [
    "two_door = get_log_prices(auto_price, 'num-of-doors', 'two')\n",
    "four_door = get_log_prices(auto_price, 'num-of-doors', 'four')\n",
    "test = t_test(two_door, four_door, 0.05)\n",
    "test"
   ]
  },
  {
   "cell_type": "markdown",
   "metadata": {},
   "source": [
    "Because the p-value is below a = 0.05, I must **reject Ho** that there is no difference in the means. So the **difference** between the mean log prices of four-door cars and two-door cars is **significant**."
   ]
  },
  {
   "cell_type": "markdown",
   "metadata": {},
   "source": [
    "#### Anova analysis of the differences of the means in log prices by 4 vs 2-door cars"
   ]
  },
  {
   "cell_type": "code",
   "execution_count": 22,
   "metadata": {},
   "outputs": [
    {
     "data": {
      "text/plain": [
       "array(['four', 'two', '?'], dtype=object)"
      ]
     },
     "execution_count": 22,
     "metadata": {},
     "output_type": "execute_result"
    }
   ],
   "source": [
    "# What door number types are there?\n",
    "unique_door_nums = auto_price.loc[:, 'num-of-doors'].unique()\n",
    "unique_door_nums\n"
   ]
  },
  {
   "cell_type": "code",
   "execution_count": 23,
   "metadata": {},
   "outputs": [],
   "source": [
    "# Get a list of fuel system type names and prices if the # of cases in each group excceds 5\n",
    "all_door_nums = []\n",
    "num_door_names = []\n",
    "for cat in ['four', 'two']:\n",
    "    price = get_log_prices(auto_price, 'num-of-doors', cat)\n",
    "    if len(price) > 5:\n",
    "        num_door_names.append(cat)\n",
    "        all_door_nums.append(price)"
   ]
  },
  {
   "cell_type": "code",
   "execution_count": 24,
   "metadata": {},
   "outputs": [
    {
     "name": "stdout",
     "output_type": "stream",
     "text": [
      "# of cases in each category\n"
     ]
    },
    {
     "data": {
      "text/plain": [
       "[95, 64]"
      ]
     },
     "execution_count": 24,
     "metadata": {},
     "output_type": "execute_result"
    }
   ],
   "source": [
    "print('# of cases in each category')\n",
    "door_nums = [len(i) for i in all_door_nums]\n",
    "door_nums"
   ]
  },
  {
   "cell_type": "code",
   "execution_count": 25,
   "metadata": {},
   "outputs": [
    {
     "name": "stdout",
     "output_type": "stream",
     "text": [
      "F statistic = 7.647654877199709\n",
      "P-value = 0.0063663162386156285\n"
     ]
    }
   ],
   "source": [
    "# Anova analysis\n",
    "f_statistic, p_value = scipy.stats.f_oneway(*all_door_nums)\n",
    "print('F statistic = ' + str(f_statistic))\n",
    "print('P-value = ' + str(p_value))"
   ]
  },
  {
   "cell_type": "markdown",
   "metadata": {},
   "source": [
    "Because the p-value is very small, I must **reject Ho** that there is no difference among the mean prices by number-of-door type."
   ]
  },
  {
   "cell_type": "markdown",
   "metadata": {},
   "source": [
    "### Tukey’s Honest Significant Differences (HSD)"
   ]
  },
  {
   "cell_type": "code",
   "execution_count": 26,
   "metadata": {},
   "outputs": [
    {
     "name": "stdout",
     "output_type": "stream",
     "text": [
      "Multiple Comparison of Means - Tukey HSD,FWER=0.05\n",
      "=============================================\n",
      "group1 group2 meandiff  lower   upper  reject\n",
      "---------------------------------------------\n",
      " four   two   -0.1938  -0.3322 -0.0554  True \n",
      "---------------------------------------------\n"
     ]
    }
   ],
   "source": [
    "# The variables used here are defined in the previous section on Anova\n",
    "df = pd.DataFrame({'vals': list(itertools.chain.from_iterable(all_door_nums)),\n",
    "                   'group_num': [num_door_names[0]] * door_nums[0] \n",
    "                              + [num_door_names[1]] * door_nums[1] \n",
    "                  })\n",
    "Tukey_HSD = pairwise_tukeyhsd(df.vals, df.group_num)\n",
    "print(Tukey_HSD)"
   ]
  },
  {
   "cell_type": "markdown",
   "metadata": {},
   "source": [
    "The above table shows that the only two groups I am comparing have significantly different means, with a recommendation to **reject Ho** and infere that the **difference is significant**."
   ]
  },
  {
   "cell_type": "markdown",
   "metadata": {},
   "source": [
    "### Bootstrap method"
   ]
  },
  {
   "cell_type": "markdown",
   "metadata": {},
   "source": [
    "##### Difference in means between two categories"
   ]
  },
  {
   "cell_type": "markdown",
   "metadata": {},
   "source": [
    "First I define a couple of helper functions: one to get the differences in means between two categories of the chosen variable by Bootstrap method; and another to plot histograms of the difference in means, with the Confidence Interval shown."
   ]
  },
  {
   "cell_type": "code",
   "execution_count": 27,
   "metadata": {},
   "outputs": [],
   "source": [
    "def bootstrap_mean_diff_prices(df, variable, categories, n_replicas, fraction):\n",
    "    \"\"\"Return a pandas.series of differences in means for log prices.\"\"\"\n",
    "    mean_diff = []\n",
    "    for i in range(n_replicas):\n",
    "        sample = df.sample(frac = fraction, replace = True)\n",
    "        categ_one_mean = get_log_prices(sample, variable, categories[0]).mean()\n",
    "        categ_two_mean = get_log_prices(sample, variable, categories[1]).mean()\n",
    "        mean_diff.append(categ_two_mean - categ_one_mean)\n",
    "    return pd.Series(mean_diff)"
   ]
  },
  {
   "cell_type": "code",
   "execution_count": 28,
   "metadata": {},
   "outputs": [],
   "source": [
    "def plot_hist(x, p=5):\n",
    "    \"\"\"Plot the distribution and mark the mean.\"\"\"\n",
    "    pyplot.hist(x, alpha=.5)\n",
    "    pyplot.axvline(x.mean())\n",
    "    # 95% confidence interval    \n",
    "    pyplot.axvline(np.percentile(x, p/2.), color='red', linewidth=3)\n",
    "    pyplot.axvline(np.percentile(x, 100-p/2.), color='red', linewidth=3)"
   ]
  },
  {
   "cell_type": "markdown",
   "metadata": {},
   "source": [
    "#### Bootstrap difference in means of log prices by the number of car doors 4 vs 2-door cars"
   ]
  },
  {
   "cell_type": "code",
   "execution_count": 29,
   "metadata": {},
   "outputs": [
    {
     "data": {
      "image/png": "[encoded data removed]",
      "text/plain": [
       "<Figure size 432x288 with 1 Axes>"
      ]
     },
     "metadata": {
      "needs_background": "light"
     },
     "output_type": "display_data"
    }
   ],
   "source": [
    "diff_prices_fuel = bootstrap_mean_diff_prices(auto_price,       ## dataframe\n",
    "                                              'num-of-doors',   ## variable\n",
    "                                              ['two', 'four'],  ## categories\n",
    "                                              n_replicas,       ## number of trials\n",
    "                                              1                 ## sample size, 1 = 100%\n",
    "                                             )\n",
    "\n",
    "plot_hist(diff_prices_fuel)"
   ]
  },
  {
   "cell_type": "markdown",
   "metadata": {},
   "source": [
    "**Reject Ho**: For the difference of means of log-prices by the number of doors, the C.I. of the **difference of means does not include zero**. I infer that the means of the two populations are **significantly different**."
   ]
  },
  {
   "cell_type": "markdown",
   "metadata": {},
   "source": [
    "### Bayesian model"
   ]
  },
  {
   "cell_type": "markdown",
   "metadata": {},
   "source": [
    "   ##### Difference in log prices by number of doors (two vs four)"
   ]
  },
  {
   "cell_type": "markdown",
   "metadata": {},
   "source": [
    "Calculate the Credible Interval for the mean price estimate for four-door cars."
   ]
  },
  {
   "cell_type": "code",
   "execution_count": 30,
   "metadata": {},
   "outputs": [
    {
     "name": "stdout",
     "output_type": "stream",
     "text": [
      "Mean = 9.318, Standard deviation = 0.418\n",
      "The 0.950 credible interval is 9.233 to 9.401\n"
     ]
    },
    {
     "data": {
      "image/png": "[encoded data removed]",
      "text/plain": [
       "<Figure size 432x288 with 1 Axes>"
      ]
     },
     "metadata": {
      "needs_background": "light"
     },
     "output_type": "display_data"
    }
   ],
   "source": [
    "num_samples = 100000\n",
    "lower_q, upper_q = [.025, .975]\n",
    "# Horizontal axis\n",
    "p = np.linspace(8, 10, num = 1000)\n",
    "\n",
    "# Prior normal probability distribution\n",
    "pp = scipy.stats.norm.pdf(p, loc = auto_price.log_price.mean(), scale = 5)\n",
    "pp = pp / pp.sum() # normalize\n",
    "\n",
    "L = comp_like(p, get_log_prices(auto_price, 'num-of-doors', 'four'))\n",
    "post = posterior(pp, L)\n",
    "plot_ci(p, post, num_samples, lower_q, upper_q)"
   ]
  },
  {
   "cell_type": "markdown",
   "metadata": {},
   "source": [
    "Now, calculate the Credible Interval for the mean price estimate for cars for two-door cars."
   ]
  },
  {
   "cell_type": "code",
   "execution_count": 31,
   "metadata": {},
   "outputs": [
    {
     "name": "stdout",
     "output_type": "stream",
     "text": [
      "Mean = 9.124, Standard deviation = 0.449\n",
      "The 0.950 credible interval is 9.015 to 9.233\n"
     ]
    },
    {
     "data": {
      "image/png": "[encoded data removed]",
      "text/plain": [
       "<Figure size 432x288 with 1 Axes>"
      ]
     },
     "metadata": {
      "needs_background": "light"
     },
     "output_type": "display_data"
    }
   ],
   "source": [
    "L = comp_like(p, get_log_prices(auto_price, 'num-of-doors', 'two'))\n",
    "post = posterior(pp, L)\n",
    "plot_ci(p, post, num_samples, lower_q, upper_q)"
   ]
  },
  {
   "cell_type": "markdown",
   "metadata": {},
   "source": [
    "Because the credible intervals **overlap only slightly if at all**, I think I should **reject Ho** that there is no difference in the mean prices for four vs two-door cars. So this is more likely than not that the **difference is significant**."
   ]
  },
  {
   "cell_type": "code",
   "execution_count": null,
   "metadata": {},
   "outputs": [],
   "source": []
  }
 ],
 "metadata": {
  "kernelspec": {
   "display_name": "Python 3",
   "language": "python",
   "name": "python3"
  },
  "language_info": {
   "codemirror_mode": {
    "name": "ipython",
    "version": 3
   },
   "file_extension": ".py",
   "mimetype": "text/x-python",
   "name": "python",
   "nbconvert_exporter": "python",
   "pygments_lexer": "ipython3",
   "version": "3.6.7"
  }
 },
 "nbformat": 4,
 "nbformat_minor": 1
}
