{
 "cells": [
  {
   "cell_type": "markdown",
   "metadata": {},
   "source": [
    "# Lesson 7 - Parkinson PCR\n",
    "\n",
    "## Author - AlexSkrn"
   ]
  },
  {
   "cell_type": "markdown",
   "metadata": {},
   "source": [
    "### Description:\n",
    "\n",
    "Perform Principal Component Regression on a <a href=\"https://archive.ics.uci.edu/ml/datasets/parkinsons+telemonitoring\">dataset that tracked patients with Parkinson's Disease</a>.\n",
    "\n",
    "Citation: A Tsanas, MA Little, PE McSharry, LO Ramig (2009)\n",
    "'Accurate telemonitoring of Parkinson's disease progression by non-invasive speech tests',\n",
    "IEEE Transactions on Biomedical Engineering.\n",
    "\n",
    "About the data:\n",
    "This dataset is composed of a range of biomedical voice measurements from 42 people with early-stage Parkinson's disease recruited to a six-month trial of a telemonitoring device for remote symptom progression monitoring. The recordings were automatically captured in the patient's homes.\n",
    "\n",
    "#### Instructions:\n",
    "\n",
    " 1. Load the dataset.\n",
    " 2. Create the X-matrix (one-hot encoding categorical factors).\n",
    " 3. Scale the X-matrix.\n",
    " 4. Create the principal components and do a simple plot of the explained variance.\n",
    " 5. PCR - Linear regression with the principal components.\n",
    "\n",
    "Report on:\n",
    "\n",
    " 1. Number of components before and after (choose a smaller number of principal components and explain how you chose them).\n",
    " 2. Interpret the adjusted R-squared."
   ]
  },
  {
   "cell_type": "code",
   "execution_count": 1,
   "metadata": {},
   "outputs": [],
   "source": [
    "url = 'https://archive.ics.uci.edu/ml/machine-learning-databases/parkinsons/telemonitoring/parkinsons_updrs.data'\n",
    "filename = 'parkinsons_updrs.data'"
   ]
  },
  {
   "cell_type": "code",
   "execution_count": 2,
   "metadata": {},
   "outputs": [],
   "source": [
    "import pandas as pd\n",
    "import numpy as np\n",
    "from sklearn.decomposition import PCA\n",
    "import matplotlib.pyplot as plt\n",
    "import statsmodels.formula.api as sm\n",
    "import seaborn as sns"
   ]
  },
  {
   "cell_type": "code",
   "execution_count": 3,
   "metadata": {},
   "outputs": [
    {
     "name": "stdout",
     "output_type": "stream",
     "text": [
      "Loading the data set from a local file if it exists...\n",
      "File not found, loading from Internet...\n",
      "Data set loaded from the Internet.\n"
     ]
    },
    {
     "data": {
      "text/html": [
       "<div>\n",
       "<style scoped>\n",
       "    .dataframe tbody tr th:only-of-type {\n",
       "        vertical-align: middle;\n",
       "    }\n",
       "\n",
       "    .dataframe tbody tr th {\n",
       "        vertical-align: top;\n",
       "    }\n",
       "\n",
       "    .dataframe thead th {\n",
       "        text-align: right;\n",
       "    }\n",
       "</style>\n",
       "<table border=\"1\" class=\"dataframe\">\n",
       "  <thead>\n",
       "    <tr style=\"text-align: right;\">\n",
       "      <th></th>\n",
       "      <th>subject#</th>\n",
       "      <th>age</th>\n",
       "      <th>sex</th>\n",
       "      <th>test_time</th>\n",
       "      <th>motor_UPDRS</th>\n",
       "      <th>total_UPDRS</th>\n",
       "      <th>Jitter(%)</th>\n",
       "      <th>Jitter(Abs)</th>\n",
       "      <th>Jitter:RAP</th>\n",
       "      <th>Jitter:PPQ5</th>\n",
       "      <th>...</th>\n",
       "      <th>Shimmer(dB)</th>\n",
       "      <th>Shimmer:APQ3</th>\n",
       "      <th>Shimmer:APQ5</th>\n",
       "      <th>Shimmer:APQ11</th>\n",
       "      <th>Shimmer:DDA</th>\n",
       "      <th>NHR</th>\n",
       "      <th>HNR</th>\n",
       "      <th>RPDE</th>\n",
       "      <th>DFA</th>\n",
       "      <th>PPE</th>\n",
       "    </tr>\n",
       "  </thead>\n",
       "  <tbody>\n",
       "    <tr>\n",
       "      <th>0</th>\n",
       "      <td>1</td>\n",
       "      <td>72</td>\n",
       "      <td>0</td>\n",
       "      <td>5.6431</td>\n",
       "      <td>28.199</td>\n",
       "      <td>34.398</td>\n",
       "      <td>0.00662</td>\n",
       "      <td>0.000034</td>\n",
       "      <td>0.00401</td>\n",
       "      <td>0.00317</td>\n",
       "      <td>...</td>\n",
       "      <td>0.230</td>\n",
       "      <td>0.01438</td>\n",
       "      <td>0.01309</td>\n",
       "      <td>0.01662</td>\n",
       "      <td>0.04314</td>\n",
       "      <td>0.014290</td>\n",
       "      <td>21.640</td>\n",
       "      <td>0.41888</td>\n",
       "      <td>0.54842</td>\n",
       "      <td>0.16006</td>\n",
       "    </tr>\n",
       "    <tr>\n",
       "      <th>1</th>\n",
       "      <td>1</td>\n",
       "      <td>72</td>\n",
       "      <td>0</td>\n",
       "      <td>12.6660</td>\n",
       "      <td>28.447</td>\n",
       "      <td>34.894</td>\n",
       "      <td>0.00300</td>\n",
       "      <td>0.000017</td>\n",
       "      <td>0.00132</td>\n",
       "      <td>0.00150</td>\n",
       "      <td>...</td>\n",
       "      <td>0.179</td>\n",
       "      <td>0.00994</td>\n",
       "      <td>0.01072</td>\n",
       "      <td>0.01689</td>\n",
       "      <td>0.02982</td>\n",
       "      <td>0.011112</td>\n",
       "      <td>27.183</td>\n",
       "      <td>0.43493</td>\n",
       "      <td>0.56477</td>\n",
       "      <td>0.10810</td>\n",
       "    </tr>\n",
       "    <tr>\n",
       "      <th>2</th>\n",
       "      <td>1</td>\n",
       "      <td>72</td>\n",
       "      <td>0</td>\n",
       "      <td>19.6810</td>\n",
       "      <td>28.695</td>\n",
       "      <td>35.389</td>\n",
       "      <td>0.00481</td>\n",
       "      <td>0.000025</td>\n",
       "      <td>0.00205</td>\n",
       "      <td>0.00208</td>\n",
       "      <td>...</td>\n",
       "      <td>0.181</td>\n",
       "      <td>0.00734</td>\n",
       "      <td>0.00844</td>\n",
       "      <td>0.01458</td>\n",
       "      <td>0.02202</td>\n",
       "      <td>0.020220</td>\n",
       "      <td>23.047</td>\n",
       "      <td>0.46222</td>\n",
       "      <td>0.54405</td>\n",
       "      <td>0.21014</td>\n",
       "    </tr>\n",
       "    <tr>\n",
       "      <th>3</th>\n",
       "      <td>1</td>\n",
       "      <td>72</td>\n",
       "      <td>0</td>\n",
       "      <td>25.6470</td>\n",
       "      <td>28.905</td>\n",
       "      <td>35.810</td>\n",
       "      <td>0.00528</td>\n",
       "      <td>0.000027</td>\n",
       "      <td>0.00191</td>\n",
       "      <td>0.00264</td>\n",
       "      <td>...</td>\n",
       "      <td>0.327</td>\n",
       "      <td>0.01106</td>\n",
       "      <td>0.01265</td>\n",
       "      <td>0.01963</td>\n",
       "      <td>0.03317</td>\n",
       "      <td>0.027837</td>\n",
       "      <td>24.445</td>\n",
       "      <td>0.48730</td>\n",
       "      <td>0.57794</td>\n",
       "      <td>0.33277</td>\n",
       "    </tr>\n",
       "    <tr>\n",
       "      <th>4</th>\n",
       "      <td>1</td>\n",
       "      <td>72</td>\n",
       "      <td>0</td>\n",
       "      <td>33.6420</td>\n",
       "      <td>29.187</td>\n",
       "      <td>36.375</td>\n",
       "      <td>0.00335</td>\n",
       "      <td>0.000020</td>\n",
       "      <td>0.00093</td>\n",
       "      <td>0.00130</td>\n",
       "      <td>...</td>\n",
       "      <td>0.176</td>\n",
       "      <td>0.00679</td>\n",
       "      <td>0.00929</td>\n",
       "      <td>0.01819</td>\n",
       "      <td>0.02036</td>\n",
       "      <td>0.011625</td>\n",
       "      <td>26.126</td>\n",
       "      <td>0.47188</td>\n",
       "      <td>0.56122</td>\n",
       "      <td>0.19361</td>\n",
       "    </tr>\n",
       "  </tbody>\n",
       "</table>\n",
       "<p>5 rows × 22 columns</p>\n",
       "</div>"
      ],
      "text/plain": [
       "   subject#  age  sex  test_time  motor_UPDRS  total_UPDRS  Jitter(%)  \\\n",
       "0         1   72    0     5.6431       28.199       34.398    0.00662   \n",
       "1         1   72    0    12.6660       28.447       34.894    0.00300   \n",
       "2         1   72    0    19.6810       28.695       35.389    0.00481   \n",
       "3         1   72    0    25.6470       28.905       35.810    0.00528   \n",
       "4         1   72    0    33.6420       29.187       36.375    0.00335   \n",
       "\n",
       "   Jitter(Abs)  Jitter:RAP  Jitter:PPQ5   ...     Shimmer(dB)  Shimmer:APQ3  \\\n",
       "0     0.000034     0.00401      0.00317   ...           0.230       0.01438   \n",
       "1     0.000017     0.00132      0.00150   ...           0.179       0.00994   \n",
       "2     0.000025     0.00205      0.00208   ...           0.181       0.00734   \n",
       "3     0.000027     0.00191      0.00264   ...           0.327       0.01106   \n",
       "4     0.000020     0.00093      0.00130   ...           0.176       0.00679   \n",
       "\n",
       "   Shimmer:APQ5  Shimmer:APQ11  Shimmer:DDA       NHR     HNR     RPDE  \\\n",
       "0       0.01309        0.01662      0.04314  0.014290  21.640  0.41888   \n",
       "1       0.01072        0.01689      0.02982  0.011112  27.183  0.43493   \n",
       "2       0.00844        0.01458      0.02202  0.020220  23.047  0.46222   \n",
       "3       0.01265        0.01963      0.03317  0.027837  24.445  0.48730   \n",
       "4       0.00929        0.01819      0.02036  0.011625  26.126  0.47188   \n",
       "\n",
       "       DFA      PPE  \n",
       "0  0.54842  0.16006  \n",
       "1  0.56477  0.10810  \n",
       "2  0.54405  0.21014  \n",
       "3  0.57794  0.33277  \n",
       "4  0.56122  0.19361  \n",
       "\n",
       "[5 rows x 22 columns]"
      ]
     },
     "execution_count": 3,
     "metadata": {},
     "output_type": "execute_result"
    }
   ],
   "source": [
    "# parkinsons_df = pd.read_csv(filename)\n",
    "# parkinsons_df.head()\n",
    "\n",
    "# Load data\n",
    "def load_data(a_url, path):\n",
    "    \"\"\"Load data from a url or local path.\"\"\"\n",
    "    print(\"Loading the data set from a local file if it exists...\")\n",
    "    try:\n",
    "        data_set = pd.read_csv(path)\n",
    "        print(\"Data set loaded from a local file.\")\n",
    "    except FileNotFoundError:\n",
    "        print(\"File not found, loading from Internet...\")\n",
    "        data_set = pd.read_csv(a_url)\n",
    "        print(\"Data set loaded from the Internet.\")\n",
    "\n",
    "    return data_set\n",
    "\n",
    "parkinsons_df = load_data(url, filename)\n",
    "parkinsons_df.head()"
   ]
  },
  {
   "cell_type": "code",
   "execution_count": 4,
   "metadata": {},
   "outputs": [
    {
     "data": {
      "text/plain": [
       "Index(['subject#', 'age', 'sex', 'test_time', 'motor_UPDRS', 'total_UPDRS',\n",
       "       'Jitter(%)', 'Jitter(Abs)', 'Jitter:RAP', 'Jitter:PPQ5', 'Jitter:DDP',\n",
       "       'Shimmer', 'Shimmer(dB)', 'Shimmer:APQ3', 'Shimmer:APQ5',\n",
       "       'Shimmer:APQ11', 'Shimmer:DDA', 'NHR', 'HNR', 'RPDE', 'DFA', 'PPE'],\n",
       "      dtype='object')"
      ]
     },
     "execution_count": 4,
     "metadata": {},
     "output_type": "execute_result"
    }
   ],
   "source": [
    "parkinsons_df.columns"
   ]
  },
  {
   "cell_type": "code",
   "execution_count": 5,
   "metadata": {},
   "outputs": [
    {
     "name": "stdout",
     "output_type": "stream",
     "text": [
      "DataFrame one-hot-expanded shape: (5875, 17)\n"
     ]
    },
    {
     "name": "stderr",
     "output_type": "stream",
     "text": [
      "/anaconda3/lib/python3.6/site-packages/ipykernel_launcher.py:15: FutureWarning: Method .as_matrix will be removed in a future version. Use .values instead.\n",
      "  from ipykernel import kernelapp as app\n"
     ]
    }
   ],
   "source": [
    "# Define the target and features:\n",
    "target_label = 'total_UPDRS'\n",
    "non_features = ['subject#', 'age', 'sex', 'test_time', 'motor_UPDRS']\n",
    "feature_labels = [x for x in parkinsons_df.columns if x not in [target_label] + non_features]\n",
    "\n",
    "# Filter out non-features and non-targets\n",
    "parkinsons_df = parkinsons_df.drop(non_features, axis=1)\n",
    "\n",
    "# One-hot encode inputs\n",
    "parkinsons_expanded = pd.get_dummies(parkinsons_df, drop_first=True)\n",
    "print('DataFrame one-hot-expanded shape: {}'.format(parkinsons_expanded.shape))\n",
    "\n",
    "# Get target and original x-matrix\n",
    "y = parkinsons_df[target_label]\n",
    "X = parkinsons_df.as_matrix(columns=feature_labels)"
   ]
  },
  {
   "cell_type": "code",
   "execution_count": 6,
   "metadata": {},
   "outputs": [],
   "source": [
    "# Scale function\n",
    "def scale(col):\n",
    "    mean_col = np.mean(col)\n",
    "    sd_col = np.std(col)\n",
    "    std = (col - mean_col) / sd_col\n",
    "    return std"
   ]
  },
  {
   "cell_type": "code",
   "execution_count": 7,
   "metadata": {},
   "outputs": [],
   "source": [
    "# Scale all columns first\n",
    "\n",
    "# Create x-scaled (look into the function np.apply_along_axis to apply 'scale' function\n",
    "#    to each column).\n",
    "x_scaled = np.apply_along_axis(scale, 0, X)\n",
    "# Create a scaled y-target.\n",
    "y_scaled = np.apply_along_axis(scale, 0, y)"
   ]
  },
  {
   "cell_type": "code",
   "execution_count": 8,
   "metadata": {},
   "outputs": [],
   "source": [
    "# PCR!!\n",
    "pca = PCA(n_components = x_scaled.shape[1])\n",
    "pca_result = pca.fit_transform(x_scaled)\n",
    "\n",
    "column_names = ['pc' + str(ix+1) for ix in range(x_scaled.shape[1])]\n",
    "pca_df = pd.DataFrame(data = pca_result, columns=column_names)\n",
    "pca_df[target_label] = y_scaled"
   ]
  },
  {
   "cell_type": "code",
   "execution_count": 9,
   "metadata": {},
   "outputs": [
    {
     "data": {
      "text/plain": [
       "array([1.12629682e+01, 1.67318476e+00, 1.24072101e+00, 7.64997339e-01,\n",
       "       3.09303033e-01, 2.22920126e-01, 1.72792228e-01, 1.61771857e-01,\n",
       "       1.03092483e-01, 4.35311730e-02, 2.02908815e-02, 1.40172168e-02,\n",
       "       8.66818249e-03, 4.46498205e-03, 3.77897603e-07, 2.08498997e-08])"
      ]
     },
     "execution_count": 9,
     "metadata": {},
     "output_type": "execute_result"
    }
   ],
   "source": [
    "pca.explained_variance_"
   ]
  },
  {
   "cell_type": "code",
   "execution_count": 10,
   "metadata": {},
   "outputs": [
    {
     "data": {
      "text/plain": [
       "Text(0, 0.5, 'Explained Variance')"
      ]
     },
     "execution_count": 10,
     "metadata": {},
     "output_type": "execute_result"
    },
    {
     "data": {
      "image/png": "[encoded data removed]",
      "text/plain": [
       "<Figure size 432x288 with 1 Axes>"
      ]
     },
     "metadata": {
      "needs_background": "light"
     },
     "output_type": "display_data"
    }
   ],
   "source": [
    "# Plot the explained variance for all principal components.\n",
    "# Note: If the first value is too large, it may dwarf how the rest look.\n",
    "# You may consider plotting starting with the 2nd value (python index at 1).\n",
    "plt.plot(column_names[1:], pca.explained_variance_[1:])\n",
    "plt.title('Explained variance by Principal Component Num')\n",
    "plt.xlabel('Principal Component')\n",
    "plt.ylabel('Explained Variance')"
   ]
  },
  {
   "cell_type": "code",
   "execution_count": 11,
   "metadata": {},
   "outputs": [
    {
     "name": "stdout",
     "output_type": "stream",
     "text": [
      "                            OLS Regression Results                            \n",
      "==============================================================================\n",
      "Dep. Variable:            total_UPDRS   R-squared:                       0.099\n",
      "Model:                            OLS   Adj. R-squared:                  0.098\n",
      "Method:                 Least Squares   F-statistic:                     80.83\n",
      "Date:                Sat, 23 Feb 2019   Prob (F-statistic):          2.63e-127\n",
      "Time:                        11:20:38   Log-Likelihood:                -8029.1\n",
      "No. Observations:                5875   AIC:                         1.608e+04\n",
      "Df Residuals:                    5866   BIC:                         1.614e+04\n",
      "Df Model:                           8                                         \n",
      "Covariance Type:            nonrobust                                         \n",
      "==============================================================================\n",
      "                 coef    std err          t      P>|t|      [0.025      0.975]\n",
      "------------------------------------------------------------------------------\n",
      "Intercept   3.543e-16      0.012   2.86e-14      1.000      -0.024       0.024\n",
      "pc1            0.0309      0.004      8.379      0.000       0.024       0.038\n",
      "pc2            0.0328      0.010      3.426      0.001       0.014       0.052\n",
      "pc3           -0.0230      0.011     -2.066      0.039      -0.045      -0.001\n",
      "pc4           -0.2295      0.014    -16.196      0.000      -0.257      -0.202\n",
      "pc5           -0.2666      0.022    -11.967      0.000      -0.310      -0.223\n",
      "pc7            0.0837      0.030      2.809      0.005       0.025       0.142\n",
      "pc8            0.3429      0.031     11.129      0.000       0.282       0.403\n",
      "pc9            0.1857      0.039      4.811      0.000       0.110       0.261\n",
      "==============================================================================\n",
      "Omnibus:                      170.573   Durbin-Watson:                   0.136\n",
      "Prob(Omnibus):                  0.000   Jarque-Bera (JB):              180.751\n",
      "Skew:                           0.417   Prob(JB):                     5.63e-40\n",
      "Kurtosis:                       2.791   Cond. No.                         10.5\n",
      "==============================================================================\n",
      "\n",
      "Warnings:\n",
      "[1] Standard Errors assume that the covariance matrix of the errors is correctly specified.\n"
     ]
    },
    {
     "name": "stderr",
     "output_type": "stream",
     "text": [
      "/anaconda3/lib/python3.6/site-packages/scipy/stats/stats.py:1713: FutureWarning: Using a non-tuple sequence for multidimensional indexing is deprecated; use `arr[tuple(seq)]` instead of `arr[seq]`. In the future this will be interpreted as an array index, `arr[np.array(seq)]`, which will result either in an error or a different result.\n",
      "  return np.add.reduce(sorted[indexer] * weights, axis=axis) / sumval\n"
     ]
    },
    {
     "data": {
      "text/plain": [
       "Text(0.5, 1.0, 'Residual Histogram')"
      ]
     },
     "execution_count": 11,
     "metadata": {},
     "output_type": "execute_result"
    },
    {
     "data": {
      "image/png": "[encoded data removed]",
      "text/plain": [
       "<Figure size 432x288 with 1 Axes>"
      ]
     },
     "metadata": {
      "needs_background": "light"
     },
     "output_type": "display_data"
    }
   ],
   "source": [
    "# Perform linear regression with the first N columns.\n",
    "# n = 9\n",
    "# formula_start = target_label + ' ~ '\n",
    "# formula_terms = ['pc' + str(x+1) for x in range(n)]\n",
    "# formula_end = ' + '.join(formula_terms)\n",
    "# formula_final = formula_start + formula_end\n",
    "\n",
    "formula_final = target_label + ' ~ pc1 + pc2 + pc3 + pc4 + pc5 + pc7 + pc8 + pc9'\n",
    "# formula_final = target_label + ' ~ pc1 + pc2 + pc7 + pc8 + pc9'\n",
    "\n",
    "pcr_model = sm.ols(formula = formula_final, data = pca_df)\n",
    "\n",
    "results = pcr_model.fit()\n",
    "\n",
    "# Get most of the linear regression statistics we are interested in:\n",
    "print(results.summary())\n",
    "\n",
    "# Plot a histogram of the residuals\n",
    "sns.distplot(results.resid, hist = True)\n",
    "plt.xlabel('Residual')\n",
    "plt.ylabel('Frequency')\n",
    "plt.title('Residual Histogram')"
   ]
  },
  {
   "cell_type": "markdown",
   "metadata": {},
   "source": [
    "Summary of your results!"
   ]
  },
  {
   "cell_type": "markdown",
   "metadata": {
    "collapsed": true
   },
   "source": [
    "1. Number of components before and after (choose a smaller number of principal components and explain how you chose them).\n",
    "2. Interpret the adjusted R-squared.\n",
    "\n",
    "I started with 16 principal components and the adjusted R-squared of 0.098. I removed those principal components which had the associated p-value of more than 0.05, which left me with 8 principal components and the same adjusted R-squared of 0.098.\n",
    "\n",
    "In general, this adjusted R-squared shows that there is no apparent correlation between the principal components and the response variable, but it least I simplifed the model by eliminating one half of the principal components without making the model worse."
   ]
  },
  {
   "cell_type": "code",
   "execution_count": null,
   "metadata": {},
   "outputs": [],
   "source": []
  }
 ],
 "metadata": {
  "kernelspec": {
   "display_name": "Python 3",
   "language": "python",
   "name": "python3"
  },
  "language_info": {
   "codemirror_mode": {
    "name": "ipython",
    "version": 3
   },
   "file_extension": ".py",
   "mimetype": "text/x-python",
   "name": "python",
   "nbconvert_exporter": "python",
   "pygments_lexer": "ipython3",
   "version": "3.6.7"
  }
 },
 "nbformat": 4,
 "nbformat_minor": 2
}
