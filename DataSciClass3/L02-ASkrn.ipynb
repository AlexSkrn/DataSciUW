{
 "cells": [
  {
   "cell_type": "markdown",
   "metadata": {},
   "source": [
    "# Class 3\n",
    "# Lesson 02\n",
    "\n",
    "## Problem:\n",
    "Build a machine learning algorithm that distinguishes between \"bad\" connections (called intrusions or attacks) and \"good\" (normal) connections. The number of normal connections is greater than that of bad ones.\n",
    "\n",
    "## Original dataset:\n",
    "http://kdd.ics.uci.edu/databases/kddcup99/kddcup99.html\n",
    "\n",
    "## Instructions:\n",
    "1. [Read data](#read)\n",
    "2. [Build a classifier](#build)\n",
    "    - [Explore the data](#explore)\n",
    "    - [Clean up the data](#clean)\n",
    "        - [Drop constant columns](#drop)\n",
    "        - [One-hot encode categorical columns](#one-hot)\n",
    "        - [Z-normalize all features](#z-normalize)\n",
    "    - [Logistic regression classifier](#logit)\n",
    "        - [Split the dataset 80/20 into train X, test XX, label train Y, label test YY](#split)\n",
    "        - [Instantiate classifier class object](#instantiate)\n",
    "        - [Train](#train)\n",
    "        - [Get predictions](#predict)\n",
    "        - [Create a dataframe of predicted and actual values](#actual-vs-predicted)\n",
    "        - [Evaluate results](#evaluate)\n",
    "        - [ROC analysis](#roc)\n",
    "        - [Adjust cutoff value](#threshold)\n",
    "3. [Determine your model accuracy](#accuracy)\n",
    "4. [Modify data by handling class imbalance](#rebalance)\n",
    "5. [Use the same model on updated data](#retrain)\n",
    "6. [What is the accuracy?](#new_accuracy)\n",
    "7. [Describe your findings](#findings)"
   ]
  },
  {
   "cell_type": "code",
   "execution_count": 1,
   "metadata": {},
   "outputs": [],
   "source": [
    "%matplotlib inline\n",
    "\n",
    "import pandas as pd\n",
    "import numpy as np\n",
    "from sklearn import preprocessing\n",
    "from sklearn import metrics\n",
    "from sklearn.model_selection import train_test_split\n",
    "from sklearn.linear_model import LogisticRegression\n",
    "import matplotlib.pyplot as plt\n",
    "import seaborn as sns\n",
    "sns.set()"
   ]
  },
  {
   "cell_type": "markdown",
   "metadata": {},
   "source": [
    "# 1. Read data<a id='read'></a>"
   ]
  },
  {
   "cell_type": "code",
   "execution_count": 2,
   "metadata": {
    "scrolled": true
   },
   "outputs": [
    {
     "name": "stdout",
     "output_type": "stream",
     "text": [
      "Trying to load the data set from a local file if it exists...\n",
      "\tData loaded from local file\n"
     ]
    }
   ],
   "source": [
    "url = 'https://library.startlearninglabs.uw.edu/DATASCI420/2019/Datasets/Intrusion%20Detection.csv'\n",
    "local_path = './Intrusion Detection.csv'\n",
    "\n",
    "print('Trying to load the data set from a local file if it exists...')\n",
    "try:\n",
    "    conn_df = pd.read_csv(local_path)\n",
    "except FileNotFoundError:\n",
    "    print('\\tFile not found, loading from Internet...')\n",
    "    conn_df = pd.read_csv(url)\n",
    "    print('\\t\\tData loaded from url')\n",
    "else:\n",
    "    print('\\tData loaded from local file')"
   ]
  },
  {
   "cell_type": "markdown",
   "metadata": {},
   "source": [
    "# 2. Build a classifier<a id='build'></a>"
   ]
  },
  {
   "cell_type": "markdown",
   "metadata": {},
   "source": [
    "## Explore the data<a id='explore'></a>"
   ]
  },
  {
   "cell_type": "code",
   "execution_count": 3,
   "metadata": {},
   "outputs": [
    {
     "data": {
      "text/html": [
       "<div>\n",
       "<style scoped>\n",
       "    .dataframe tbody tr th:only-of-type {\n",
       "        vertical-align: middle;\n",
       "    }\n",
       "\n",
       "    .dataframe tbody tr th {\n",
       "        vertical-align: top;\n",
       "    }\n",
       "\n",
       "    .dataframe thead th {\n",
       "        text-align: right;\n",
       "    }\n",
       "</style>\n",
       "<table border=\"1\" class=\"dataframe\">\n",
       "  <thead>\n",
       "    <tr style=\"text-align: right;\">\n",
       "      <th></th>\n",
       "      <th>duration</th>\n",
       "      <th>protocol_type</th>\n",
       "      <th>service</th>\n",
       "      <th>flag</th>\n",
       "      <th>src_bytes</th>\n",
       "      <th>dst_bytes</th>\n",
       "      <th>land</th>\n",
       "      <th>wrong_fragment</th>\n",
       "      <th>urgent</th>\n",
       "      <th>hot</th>\n",
       "      <th>...</th>\n",
       "      <th>dst_host_srv_count</th>\n",
       "      <th>dst_host_same_srv_rate</th>\n",
       "      <th>dst_host_diff_srv_rate</th>\n",
       "      <th>dst_host_same_src_port_rate</th>\n",
       "      <th>dst_host_srv_diff_host_rate</th>\n",
       "      <th>dst_host_serror_rate</th>\n",
       "      <th>dst_host_srv_serror_rate</th>\n",
       "      <th>dst_host_rerror_rate</th>\n",
       "      <th>dst_host_srv_rerror_rate</th>\n",
       "      <th>connection_type</th>\n",
       "    </tr>\n",
       "  </thead>\n",
       "  <tbody>\n",
       "    <tr>\n",
       "      <th>97303</th>\n",
       "      <td>321</td>\n",
       "      <td>tcp</td>\n",
       "      <td>telnet</td>\n",
       "      <td>RSTO</td>\n",
       "      <td>1506</td>\n",
       "      <td>1887</td>\n",
       "      <td>0</td>\n",
       "      <td>0</td>\n",
       "      <td>0</td>\n",
       "      <td>0</td>\n",
       "      <td>...</td>\n",
       "      <td>6</td>\n",
       "      <td>1.0</td>\n",
       "      <td>0.0</td>\n",
       "      <td>0.17</td>\n",
       "      <td>0.0</td>\n",
       "      <td>0.0</td>\n",
       "      <td>0.0</td>\n",
       "      <td>0.17</td>\n",
       "      <td>0.17</td>\n",
       "      <td>1</td>\n",
       "    </tr>\n",
       "    <tr>\n",
       "      <th>97304</th>\n",
       "      <td>45</td>\n",
       "      <td>tcp</td>\n",
       "      <td>telnet</td>\n",
       "      <td>SF</td>\n",
       "      <td>2336</td>\n",
       "      <td>4201</td>\n",
       "      <td>0</td>\n",
       "      <td>0</td>\n",
       "      <td>0</td>\n",
       "      <td>3</td>\n",
       "      <td>...</td>\n",
       "      <td>7</td>\n",
       "      <td>1.0</td>\n",
       "      <td>0.0</td>\n",
       "      <td>0.14</td>\n",
       "      <td>0.0</td>\n",
       "      <td>0.0</td>\n",
       "      <td>0.0</td>\n",
       "      <td>0.14</td>\n",
       "      <td>0.14</td>\n",
       "      <td>1</td>\n",
       "    </tr>\n",
       "    <tr>\n",
       "      <th>97305</th>\n",
       "      <td>176</td>\n",
       "      <td>tcp</td>\n",
       "      <td>telnet</td>\n",
       "      <td>SF</td>\n",
       "      <td>1559</td>\n",
       "      <td>2732</td>\n",
       "      <td>0</td>\n",
       "      <td>0</td>\n",
       "      <td>0</td>\n",
       "      <td>3</td>\n",
       "      <td>...</td>\n",
       "      <td>8</td>\n",
       "      <td>1.0</td>\n",
       "      <td>0.0</td>\n",
       "      <td>0.12</td>\n",
       "      <td>0.0</td>\n",
       "      <td>0.0</td>\n",
       "      <td>0.0</td>\n",
       "      <td>0.12</td>\n",
       "      <td>0.12</td>\n",
       "      <td>1</td>\n",
       "    </tr>\n",
       "    <tr>\n",
       "      <th>97306</th>\n",
       "      <td>61</td>\n",
       "      <td>tcp</td>\n",
       "      <td>telnet</td>\n",
       "      <td>SF</td>\n",
       "      <td>2336</td>\n",
       "      <td>4194</td>\n",
       "      <td>0</td>\n",
       "      <td>0</td>\n",
       "      <td>0</td>\n",
       "      <td>3</td>\n",
       "      <td>...</td>\n",
       "      <td>9</td>\n",
       "      <td>1.0</td>\n",
       "      <td>0.0</td>\n",
       "      <td>0.11</td>\n",
       "      <td>0.0</td>\n",
       "      <td>0.0</td>\n",
       "      <td>0.0</td>\n",
       "      <td>0.11</td>\n",
       "      <td>0.11</td>\n",
       "      <td>1</td>\n",
       "    </tr>\n",
       "    <tr>\n",
       "      <th>97307</th>\n",
       "      <td>47</td>\n",
       "      <td>tcp</td>\n",
       "      <td>telnet</td>\n",
       "      <td>SF</td>\n",
       "      <td>2402</td>\n",
       "      <td>3816</td>\n",
       "      <td>0</td>\n",
       "      <td>0</td>\n",
       "      <td>0</td>\n",
       "      <td>3</td>\n",
       "      <td>...</td>\n",
       "      <td>10</td>\n",
       "      <td>1.0</td>\n",
       "      <td>0.0</td>\n",
       "      <td>0.10</td>\n",
       "      <td>0.0</td>\n",
       "      <td>0.0</td>\n",
       "      <td>0.0</td>\n",
       "      <td>0.10</td>\n",
       "      <td>0.10</td>\n",
       "      <td>1</td>\n",
       "    </tr>\n",
       "  </tbody>\n",
       "</table>\n",
       "<p>5 rows × 42 columns</p>\n",
       "</div>"
      ],
      "text/plain": [
       "       duration protocol_type service  flag  src_bytes  dst_bytes  land  \\\n",
       "97303       321           tcp  telnet  RSTO       1506       1887     0   \n",
       "97304        45           tcp  telnet    SF       2336       4201     0   \n",
       "97305       176           tcp  telnet    SF       1559       2732     0   \n",
       "97306        61           tcp  telnet    SF       2336       4194     0   \n",
       "97307        47           tcp  telnet    SF       2402       3816     0   \n",
       "\n",
       "       wrong_fragment  urgent  hot       ...         dst_host_srv_count  \\\n",
       "97303               0       0    0       ...                          6   \n",
       "97304               0       0    3       ...                          7   \n",
       "97305               0       0    3       ...                          8   \n",
       "97306               0       0    3       ...                          9   \n",
       "97307               0       0    3       ...                         10   \n",
       "\n",
       "       dst_host_same_srv_rate  dst_host_diff_srv_rate  \\\n",
       "97303                     1.0                     0.0   \n",
       "97304                     1.0                     0.0   \n",
       "97305                     1.0                     0.0   \n",
       "97306                     1.0                     0.0   \n",
       "97307                     1.0                     0.0   \n",
       "\n",
       "       dst_host_same_src_port_rate  dst_host_srv_diff_host_rate  \\\n",
       "97303                         0.17                          0.0   \n",
       "97304                         0.14                          0.0   \n",
       "97305                         0.12                          0.0   \n",
       "97306                         0.11                          0.0   \n",
       "97307                         0.10                          0.0   \n",
       "\n",
       "       dst_host_serror_rate  dst_host_srv_serror_rate  dst_host_rerror_rate  \\\n",
       "97303                   0.0                       0.0                  0.17   \n",
       "97304                   0.0                       0.0                  0.14   \n",
       "97305                   0.0                       0.0                  0.12   \n",
       "97306                   0.0                       0.0                  0.11   \n",
       "97307                   0.0                       0.0                  0.10   \n",
       "\n",
       "       dst_host_srv_rerror_rate  connection_type  \n",
       "97303                      0.17                1  \n",
       "97304                      0.14                1  \n",
       "97305                      0.12                1  \n",
       "97306                      0.11                1  \n",
       "97307                      0.10                1  \n",
       "\n",
       "[5 rows x 42 columns]"
      ]
     },
     "execution_count": 3,
     "metadata": {},
     "output_type": "execute_result"
    }
   ],
   "source": [
    "conn_df.tail()"
   ]
  },
  {
   "cell_type": "code",
   "execution_count": 4,
   "metadata": {},
   "outputs": [
    {
     "data": {
      "text/plain": [
       "0"
      ]
     },
     "execution_count": 4,
     "metadata": {},
     "output_type": "execute_result"
    }
   ],
   "source": [
    "conn_df.isnull().any().sum()"
   ]
  },
  {
   "cell_type": "code",
   "execution_count": 5,
   "metadata": {},
   "outputs": [
    {
     "name": "stdout",
     "output_type": "stream",
     "text": [
      "(97308, 42)\n",
      "                              dtypes  unique_vals\n",
      "duration                       int64         2356\n",
      "protocol_type                 object            3\n",
      "service                       object           25\n",
      "flag                          object            9\n",
      "src_bytes                      int64         3250\n",
      "dst_bytes                      int64        10694\n",
      "land                           int64            2\n",
      "wrong_fragment                 int64            1\n",
      "urgent                         int64            2\n",
      "hot                            int64           19\n",
      "num_failed_logins              int64            5\n",
      "logged_in                      int64            2\n",
      "num_compromised                int64           20\n",
      "root_shell                     int64            2\n",
      "su_attempted                   int64            3\n",
      "num_root                       int64           15\n",
      "num_file_creations             int64           17\n",
      "num_shells                     int64            2\n",
      "num_access_files               int64            7\n",
      "num_outbound_cmds              int64            1\n",
      "is_host_login                  int64            1\n",
      "is_guest_login                 int64            2\n",
      "count                          int64          316\n",
      "srv_count                      int64          316\n",
      "serror_rate                  float64           25\n",
      "srv_serror_rate              float64           35\n",
      "rerror_rate                  float64           38\n",
      "srv_rerror_rate              float64           49\n",
      "same_srv_rate                float64           56\n",
      "diff_srv_rate                float64           48\n",
      "srv_diff_host_rate           float64           64\n",
      "dst_host_count                 int64          256\n",
      "dst_host_srv_count             int64          256\n",
      "dst_host_same_srv_rate       float64          101\n",
      "dst_host_diff_srv_rate       float64           99\n",
      "dst_host_same_src_port_rate  float64          101\n",
      "dst_host_srv_diff_host_rate  float64           56\n",
      "dst_host_serror_rate         float64           92\n",
      "dst_host_srv_serror_rate     float64           55\n",
      "dst_host_rerror_rate         float64          101\n",
      "dst_host_srv_rerror_rate     float64          101\n",
      "connection_type                int64            2\n"
     ]
    }
   ],
   "source": [
    "# Data set size, data types and number of unique values in each column\n",
    "def dtypes_unique(df):\n",
    "    \"\"\"Return a df of dtypes and numbers of unique values in the df for pretty printing.\"\"\"\n",
    "    dtypes_unique_vals = pd.DataFrame({'dtypes': df.dtypes})  \n",
    "    unique_vals = []\n",
    "    for var in df.columns:\n",
    "        unique_vals.append(len(df.loc[:, var].unique()))\n",
    "    # Add the number of unique values to this dataframe\n",
    "    dtypes_unique_vals['unique_vals'] = unique_vals\n",
    "    \n",
    "    return dtypes_unique_vals\n",
    "\n",
    "print(conn_df.shape)\n",
    "print(dtypes_unique(conn_df))"
   ]
  },
  {
   "cell_type": "code",
   "execution_count": 6,
   "metadata": {
    "scrolled": false
   },
   "outputs": [
    {
     "data": {
      "text/html": [
       "<div>\n",
       "<style scoped>\n",
       "    .dataframe tbody tr th:only-of-type {\n",
       "        vertical-align: middle;\n",
       "    }\n",
       "\n",
       "    .dataframe tbody tr th {\n",
       "        vertical-align: top;\n",
       "    }\n",
       "\n",
       "    .dataframe thead th {\n",
       "        text-align: right;\n",
       "    }\n",
       "</style>\n",
       "<table border=\"1\" class=\"dataframe\">\n",
       "  <thead>\n",
       "    <tr style=\"text-align: right;\">\n",
       "      <th></th>\n",
       "      <th>duration</th>\n",
       "      <th>src_bytes</th>\n",
       "      <th>dst_bytes</th>\n",
       "      <th>land</th>\n",
       "      <th>wrong_fragment</th>\n",
       "      <th>urgent</th>\n",
       "      <th>hot</th>\n",
       "      <th>num_failed_logins</th>\n",
       "      <th>logged_in</th>\n",
       "      <th>num_compromised</th>\n",
       "      <th>...</th>\n",
       "      <th>dst_host_srv_count</th>\n",
       "      <th>dst_host_same_srv_rate</th>\n",
       "      <th>dst_host_diff_srv_rate</th>\n",
       "      <th>dst_host_same_src_port_rate</th>\n",
       "      <th>dst_host_srv_diff_host_rate</th>\n",
       "      <th>dst_host_serror_rate</th>\n",
       "      <th>dst_host_srv_serror_rate</th>\n",
       "      <th>dst_host_rerror_rate</th>\n",
       "      <th>dst_host_srv_rerror_rate</th>\n",
       "      <th>connection_type</th>\n",
       "    </tr>\n",
       "  </thead>\n",
       "  <tbody>\n",
       "    <tr>\n",
       "      <th>count</th>\n",
       "      <td>97308.0</td>\n",
       "      <td>97308.0</td>\n",
       "      <td>97308.0</td>\n",
       "      <td>97308.0</td>\n",
       "      <td>97308.0</td>\n",
       "      <td>97308.0</td>\n",
       "      <td>97308.0</td>\n",
       "      <td>97308.0</td>\n",
       "      <td>97308.0</td>\n",
       "      <td>97308.0</td>\n",
       "      <td>...</td>\n",
       "      <td>97308.0</td>\n",
       "      <td>97308.0</td>\n",
       "      <td>97308.0</td>\n",
       "      <td>97308.0</td>\n",
       "      <td>97308.0</td>\n",
       "      <td>97308.0</td>\n",
       "      <td>97308.0</td>\n",
       "      <td>97308.0</td>\n",
       "      <td>97308.0</td>\n",
       "      <td>97308.0</td>\n",
       "    </tr>\n",
       "    <tr>\n",
       "      <th>mean</th>\n",
       "      <td>217.0</td>\n",
       "      <td>1157.0</td>\n",
       "      <td>3386.0</td>\n",
       "      <td>0.0</td>\n",
       "      <td>0.0</td>\n",
       "      <td>0.0</td>\n",
       "      <td>0.0</td>\n",
       "      <td>0.0</td>\n",
       "      <td>1.0</td>\n",
       "      <td>0.0</td>\n",
       "      <td>...</td>\n",
       "      <td>202.0</td>\n",
       "      <td>1.0</td>\n",
       "      <td>0.0</td>\n",
       "      <td>0.0</td>\n",
       "      <td>0.0</td>\n",
       "      <td>0.0</td>\n",
       "      <td>0.0</td>\n",
       "      <td>0.0</td>\n",
       "      <td>0.0</td>\n",
       "      <td>0.0</td>\n",
       "    </tr>\n",
       "    <tr>\n",
       "      <th>std</th>\n",
       "      <td>1359.0</td>\n",
       "      <td>34221.0</td>\n",
       "      <td>37573.0</td>\n",
       "      <td>0.0</td>\n",
       "      <td>0.0</td>\n",
       "      <td>0.0</td>\n",
       "      <td>1.0</td>\n",
       "      <td>0.0</td>\n",
       "      <td>0.0</td>\n",
       "      <td>4.0</td>\n",
       "      <td>...</td>\n",
       "      <td>87.0</td>\n",
       "      <td>0.0</td>\n",
       "      <td>0.0</td>\n",
       "      <td>0.0</td>\n",
       "      <td>0.0</td>\n",
       "      <td>0.0</td>\n",
       "      <td>0.0</td>\n",
       "      <td>0.0</td>\n",
       "      <td>0.0</td>\n",
       "      <td>0.0</td>\n",
       "    </tr>\n",
       "    <tr>\n",
       "      <th>min</th>\n",
       "      <td>0.0</td>\n",
       "      <td>0.0</td>\n",
       "      <td>0.0</td>\n",
       "      <td>0.0</td>\n",
       "      <td>0.0</td>\n",
       "      <td>0.0</td>\n",
       "      <td>0.0</td>\n",
       "      <td>0.0</td>\n",
       "      <td>0.0</td>\n",
       "      <td>0.0</td>\n",
       "      <td>...</td>\n",
       "      <td>0.0</td>\n",
       "      <td>0.0</td>\n",
       "      <td>0.0</td>\n",
       "      <td>0.0</td>\n",
       "      <td>0.0</td>\n",
       "      <td>0.0</td>\n",
       "      <td>0.0</td>\n",
       "      <td>0.0</td>\n",
       "      <td>0.0</td>\n",
       "      <td>0.0</td>\n",
       "    </tr>\n",
       "    <tr>\n",
       "      <th>25%</th>\n",
       "      <td>0.0</td>\n",
       "      <td>147.0</td>\n",
       "      <td>136.0</td>\n",
       "      <td>0.0</td>\n",
       "      <td>0.0</td>\n",
       "      <td>0.0</td>\n",
       "      <td>0.0</td>\n",
       "      <td>0.0</td>\n",
       "      <td>0.0</td>\n",
       "      <td>0.0</td>\n",
       "      <td>...</td>\n",
       "      <td>170.0</td>\n",
       "      <td>1.0</td>\n",
       "      <td>0.0</td>\n",
       "      <td>0.0</td>\n",
       "      <td>0.0</td>\n",
       "      <td>0.0</td>\n",
       "      <td>0.0</td>\n",
       "      <td>0.0</td>\n",
       "      <td>0.0</td>\n",
       "      <td>0.0</td>\n",
       "    </tr>\n",
       "    <tr>\n",
       "      <th>50%</th>\n",
       "      <td>0.0</td>\n",
       "      <td>231.0</td>\n",
       "      <td>421.0</td>\n",
       "      <td>0.0</td>\n",
       "      <td>0.0</td>\n",
       "      <td>0.0</td>\n",
       "      <td>0.0</td>\n",
       "      <td>0.0</td>\n",
       "      <td>1.0</td>\n",
       "      <td>0.0</td>\n",
       "      <td>...</td>\n",
       "      <td>255.0</td>\n",
       "      <td>1.0</td>\n",
       "      <td>0.0</td>\n",
       "      <td>0.0</td>\n",
       "      <td>0.0</td>\n",
       "      <td>0.0</td>\n",
       "      <td>0.0</td>\n",
       "      <td>0.0</td>\n",
       "      <td>0.0</td>\n",
       "      <td>0.0</td>\n",
       "    </tr>\n",
       "    <tr>\n",
       "      <th>75%</th>\n",
       "      <td>0.0</td>\n",
       "      <td>313.0</td>\n",
       "      <td>2124.0</td>\n",
       "      <td>0.0</td>\n",
       "      <td>0.0</td>\n",
       "      <td>0.0</td>\n",
       "      <td>0.0</td>\n",
       "      <td>0.0</td>\n",
       "      <td>1.0</td>\n",
       "      <td>0.0</td>\n",
       "      <td>...</td>\n",
       "      <td>255.0</td>\n",
       "      <td>1.0</td>\n",
       "      <td>0.0</td>\n",
       "      <td>0.0</td>\n",
       "      <td>0.0</td>\n",
       "      <td>0.0</td>\n",
       "      <td>0.0</td>\n",
       "      <td>0.0</td>\n",
       "      <td>0.0</td>\n",
       "      <td>0.0</td>\n",
       "    </tr>\n",
       "    <tr>\n",
       "      <th>max</th>\n",
       "      <td>58329.0</td>\n",
       "      <td>2194619.0</td>\n",
       "      <td>5134218.0</td>\n",
       "      <td>1.0</td>\n",
       "      <td>0.0</td>\n",
       "      <td>3.0</td>\n",
       "      <td>30.0</td>\n",
       "      <td>4.0</td>\n",
       "      <td>1.0</td>\n",
       "      <td>884.0</td>\n",
       "      <td>...</td>\n",
       "      <td>255.0</td>\n",
       "      <td>1.0</td>\n",
       "      <td>1.0</td>\n",
       "      <td>1.0</td>\n",
       "      <td>1.0</td>\n",
       "      <td>1.0</td>\n",
       "      <td>1.0</td>\n",
       "      <td>1.0</td>\n",
       "      <td>1.0</td>\n",
       "      <td>1.0</td>\n",
       "    </tr>\n",
       "  </tbody>\n",
       "</table>\n",
       "<p>8 rows × 39 columns</p>\n",
       "</div>"
      ],
      "text/plain": [
       "       duration  src_bytes  dst_bytes     land  wrong_fragment   urgent  \\\n",
       "count   97308.0    97308.0    97308.0  97308.0         97308.0  97308.0   \n",
       "mean      217.0     1157.0     3386.0      0.0             0.0      0.0   \n",
       "std      1359.0    34221.0    37573.0      0.0             0.0      0.0   \n",
       "min         0.0        0.0        0.0      0.0             0.0      0.0   \n",
       "25%         0.0      147.0      136.0      0.0             0.0      0.0   \n",
       "50%         0.0      231.0      421.0      0.0             0.0      0.0   \n",
       "75%         0.0      313.0     2124.0      0.0             0.0      0.0   \n",
       "max     58329.0  2194619.0  5134218.0      1.0             0.0      3.0   \n",
       "\n",
       "           hot  num_failed_logins  logged_in  num_compromised  \\\n",
       "count  97308.0            97308.0    97308.0          97308.0   \n",
       "mean       0.0                0.0        1.0              0.0   \n",
       "std        1.0                0.0        0.0              4.0   \n",
       "min        0.0                0.0        0.0              0.0   \n",
       "25%        0.0                0.0        0.0              0.0   \n",
       "50%        0.0                0.0        1.0              0.0   \n",
       "75%        0.0                0.0        1.0              0.0   \n",
       "max       30.0                4.0        1.0            884.0   \n",
       "\n",
       "            ...         dst_host_srv_count  dst_host_same_srv_rate  \\\n",
       "count       ...                    97308.0                 97308.0   \n",
       "mean        ...                      202.0                     1.0   \n",
       "std         ...                       87.0                     0.0   \n",
       "min         ...                        0.0                     0.0   \n",
       "25%         ...                      170.0                     1.0   \n",
       "50%         ...                      255.0                     1.0   \n",
       "75%         ...                      255.0                     1.0   \n",
       "max         ...                      255.0                     1.0   \n",
       "\n",
       "       dst_host_diff_srv_rate  dst_host_same_src_port_rate  \\\n",
       "count                 97308.0                      97308.0   \n",
       "mean                      0.0                          0.0   \n",
       "std                       0.0                          0.0   \n",
       "min                       0.0                          0.0   \n",
       "25%                       0.0                          0.0   \n",
       "50%                       0.0                          0.0   \n",
       "75%                       0.0                          0.0   \n",
       "max                       1.0                          1.0   \n",
       "\n",
       "       dst_host_srv_diff_host_rate  dst_host_serror_rate  \\\n",
       "count                      97308.0               97308.0   \n",
       "mean                           0.0                   0.0   \n",
       "std                            0.0                   0.0   \n",
       "min                            0.0                   0.0   \n",
       "25%                            0.0                   0.0   \n",
       "50%                            0.0                   0.0   \n",
       "75%                            0.0                   0.0   \n",
       "max                            1.0                   1.0   \n",
       "\n",
       "       dst_host_srv_serror_rate  dst_host_rerror_rate  \\\n",
       "count                   97308.0               97308.0   \n",
       "mean                        0.0                   0.0   \n",
       "std                         0.0                   0.0   \n",
       "min                         0.0                   0.0   \n",
       "25%                         0.0                   0.0   \n",
       "50%                         0.0                   0.0   \n",
       "75%                         0.0                   0.0   \n",
       "max                         1.0                   1.0   \n",
       "\n",
       "       dst_host_srv_rerror_rate  connection_type  \n",
       "count                   97308.0          97308.0  \n",
       "mean                        0.0              0.0  \n",
       "std                         0.0              0.0  \n",
       "min                         0.0              0.0  \n",
       "25%                         0.0              0.0  \n",
       "50%                         0.0              0.0  \n",
       "75%                         0.0              0.0  \n",
       "max                         1.0              1.0  \n",
       "\n",
       "[8 rows x 39 columns]"
      ]
     },
     "execution_count": 6,
     "metadata": {},
     "output_type": "execute_result"
    }
   ],
   "source": [
    "np.round(conn_df.describe())"
   ]
  },
  {
   "cell_type": "code",
   "execution_count": 7,
   "metadata": {},
   "outputs": [
    {
     "data": {
      "text/plain": [
       "hot                            0.041305\n",
       "logged_in                      0.010977\n",
       "root_shell                     0.513066\n",
       "num_file_creations             0.054110\n",
       "serror_rate                    0.040070\n",
       "dst_host_same_src_port_rate    0.034157\n",
       "dst_host_srv_diff_host_rate    0.017985\n",
       "connection_type                1.000000\n",
       "Name: connection_type, dtype: float64"
      ]
     },
     "execution_count": 7,
     "metadata": {},
     "output_type": "execute_result"
    }
   ],
   "source": [
    "# Correlation coefficients to see if there are any particular \n",
    "# features predicting the target label well\n",
    "corr = conn_df.corr()['connection_type']\n",
    "corr[corr > 0.01]"
   ]
  },
  {
   "cell_type": "code",
   "execution_count": 8,
   "metadata": {},
   "outputs": [
    {
     "name": "stdout",
     "output_type": "stream",
     "text": [
      "cases with connection type 0: 97278\n",
      "cases with connection type 1: 30\n"
     ]
    }
   ],
   "source": [
    "print('cases with connection type 0:', len(conn_df[conn_df['connection_type'] == 0]))\n",
    "print('cases with connection type 1:', len(conn_df[conn_df['connection_type'] == 1]))"
   ]
  },
  {
   "cell_type": "markdown",
   "metadata": {},
   "source": [
    "The target class label is 'connection_type', with 0 for normal connections and 1 for bad connections."
   ]
  },
  {
   "cell_type": "markdown",
   "metadata": {},
   "source": [
    "## Clean up the data<a id='clean'></a>"
   ]
  },
  {
   "cell_type": "markdown",
   "metadata": {},
   "source": [
    "### Drop constant columns<a id='drop'></a>"
   ]
  },
  {
   "cell_type": "code",
   "execution_count": 9,
   "metadata": {},
   "outputs": [
    {
     "name": "stdout",
     "output_type": "stream",
     "text": [
      "(97308, 39)\n"
     ]
    }
   ],
   "source": [
    "constant_features = ['wrong_fragment', 'num_outbound_cmds', 'is_host_login']  # To drop\n",
    "conn_df_reduced = conn_df.drop(constant_features, axis = 1)\n",
    "print(conn_df_reduced.shape)"
   ]
  },
  {
   "cell_type": "markdown",
   "metadata": {},
   "source": [
    "### One-hot encode categorical columns<a id='one-hot'></a>"
   ]
  },
  {
   "cell_type": "code",
   "execution_count": 10,
   "metadata": {},
   "outputs": [
    {
     "name": "stdout",
     "output_type": "stream",
     "text": [
      "\n",
      "Resulting dataset: 97308 observations, 73 attributes\n"
     ]
    }
   ],
   "source": [
    "categorical_features = ['protocol_type', 'service', 'flag']  # To one-hot encode\n",
    "conn_df_cleaned = pd.get_dummies(conn_df_reduced,\n",
    "                                 columns=categorical_features)\n",
    "print('\\nResulting dataset: {} observations, {} attributes'\n",
    "      .format(conn_df_cleaned.shape[0], conn_df_cleaned.shape[1]))"
   ]
  },
  {
   "cell_type": "markdown",
   "metadata": {},
   "source": [
    "###  Z-normalize all features<a id='z-normalize'></a>"
   ]
  },
  {
   "cell_type": "code",
   "execution_count": 11,
   "metadata": {},
   "outputs": [],
   "source": [
    "feature_names = conn_df_cleaned.columns.tolist()  # List of features\n",
    "feature_names.remove('connection_type')  # Omit target variable\n",
    "# Use preprocessing.StandardScaler() to z-normalize\n",
    "for cat in feature_names:\n",
    "    column = conn_df_cleaned[[cat]].astype(float)\n",
    "    conn_df_cleaned[cat] = preprocessing.StandardScaler().fit_transform(column)"
   ]
  },
  {
   "cell_type": "markdown",
   "metadata": {},
   "source": [
    "## Logistic regression classifier<a id='logit'></a>"
   ]
  },
  {
   "cell_type": "markdown",
   "metadata": {},
   "source": [
    "### Split the dataset 80/20 into train X, test XX, label train Y, label test YY<a id='split'></a>"
   ]
  },
  {
   "cell_type": "code",
   "execution_count": 12,
   "metadata": {},
   "outputs": [],
   "source": [
    "y_conn = conn_df_cleaned.loc[:, 'connection_type'].values.astype(str)\n",
    "x_conn = conn_df_cleaned.drop('connection_type', axis=1)\n",
    "X, XX, Y, YY = train_test_split(x_conn,\n",
    "                                y_conn,\n",
    "                                train_size = 0.8,\n",
    "                                test_size = 0.2,\n",
    "                                random_state = 0)"
   ]
  },
  {
   "cell_type": "markdown",
   "metadata": {},
   "source": [
    "### Instantiate classifier class object<a id='instantiate'></a>"
   ]
  },
  {
   "cell_type": "code",
   "execution_count": 13,
   "metadata": {},
   "outputs": [],
   "source": [
    "logit_clf = LogisticRegression(solver = 'lbfgs', max_iter = 150)"
   ]
  },
  {
   "cell_type": "markdown",
   "metadata": {},
   "source": [
    "### Train<a id='train'></a>"
   ]
  },
  {
   "cell_type": "code",
   "execution_count": 14,
   "metadata": {},
   "outputs": [
    {
     "data": {
      "text/plain": [
       "LogisticRegression(C=1.0, class_weight=None, dual=False, fit_intercept=True,\n",
       "          intercept_scaling=1, max_iter=150, multi_class='warn',\n",
       "          n_jobs=None, penalty='l2', random_state=None, solver='lbfgs',\n",
       "          tol=0.0001, verbose=0, warm_start=False)"
      ]
     },
     "execution_count": 14,
     "metadata": {},
     "output_type": "execute_result"
    }
   ],
   "source": [
    "# Use the fit() method to train the model on the training set\n",
    "logit_clf.fit(X, Y)"
   ]
  },
  {
   "cell_type": "markdown",
   "metadata": {},
   "source": [
    "### Get predictions<a id='predict'></a>"
   ]
  },
  {
   "cell_type": "code",
   "execution_count": 15,
   "metadata": {},
   "outputs": [],
   "source": [
    "# Probability threshold: a cutoff value to classify cases\n",
    "PROB_TH = 0.2\n",
    "\n",
    "def get_predicted_test_labels(model_instance, test_XX, prob_threshold = 0.5):\n",
    "    \"\"\"Return predicted labels for the test data.\"\"\"\n",
    "    # Use predict_proba method to guess labels for the test set\n",
    "    YY = (model_instance.predict_proba(test_XX.values)[:, 1] >= prob_threshold)\n",
    "    YY = YY.astype(int).astype(str)  # Turn booleans into \"0s\" and \"1s\"\n",
    "    return YY\n",
    "\n",
    "logit_predicted_YY = get_predicted_test_labels(logit_clf, XX, PROB_TH)"
   ]
  },
  {
   "cell_type": "markdown",
   "metadata": {},
   "source": [
    "### Create a dataframe of predicted and actual values<a id='actual-vs-predicted'></a>"
   ]
  },
  {
   "cell_type": "code",
   "execution_count": 16,
   "metadata": {},
   "outputs": [],
   "source": [
    "# Create dataframe of predicted and actual values\n",
    "labels_dict = {'Predicted': logit_predicted_YY.astype(int), \n",
    "               'Actual': YY.astype(int)\n",
    "              }\n",
    "predicted_vs_actuals_df = pd.DataFrame(labels_dict)"
   ]
  },
  {
   "cell_type": "markdown",
   "metadata": {},
   "source": [
    "### Evaluate results<a id='evaluate'></a>"
   ]
  },
  {
   "cell_type": "code",
   "execution_count": 17,
   "metadata": {},
   "outputs": [],
   "source": [
    "def print_metrics(conf_matrix):\n",
    "    \"\"\"Calculate and print metics from the input confusion matrix.\"\"\"\n",
    "    true_neg, false_pos, false_neg, true_pos = conf_matrix.ravel()\n",
    "    accuracy = (true_neg + true_pos) / sum(sum(conf_matrix))\n",
    "    recall = true_pos / (true_pos + false_neg)\n",
    "    specificity = true_neg / (true_neg + false_pos)\n",
    "    FPR = false_pos / (false_pos + true_neg)\n",
    "    precision = true_pos / (true_pos + false_pos)\n",
    "    f1 = 2/((1/recall) + (1/precision))\n",
    "    print_string = \"\"\"Confusion matrix:\n",
    "    Actual labels\n",
    "    Good\\tBad connections\n",
    "    {} < Predicted labels\n",
    "    \\nMetrics:\n",
    "    Accuracy (total correct predictions): {:.4f}\n",
    "    Specificity (correctly labeled good connections): {:.4f}\n",
    "    Recall (correctly labeled bad connections): {:.4f}\n",
    "    False Positive Rate (false alarms): {:.4f}\n",
    "    F1 score: : {:.4f}\n",
    "    \"\"\"\n",
    "    print(print_string.format(conf_matrix.T, accuracy, specificity, recall, FPR, f1))"
   ]
  },
  {
   "cell_type": "code",
   "execution_count": 18,
   "metadata": {},
   "outputs": [
    {
     "name": "stdout",
     "output_type": "stream",
     "text": [
      "Confusion matrix:\n",
      "    Actual labels\n",
      "    Good\tBad connections\n",
      "    [[19453     1]\n",
      " [    0     8]] < Predicted labels\n",
      "    \n",
      "Metrics:\n",
      "    Accuracy (total correct predictions): 0.9999\n",
      "    Specificity (correctly labeled good connections): 1.0000\n",
      "    Recall (correctly labeled bad connections): 0.8889\n",
      "    False Positive Rate (false alarms): 0.0000\n",
      "    F1 score: : 0.9412\n",
      "    \n"
     ]
    }
   ],
   "source": [
    "# Get a confusion matrix and print metrics\n",
    "conf_matrix = metrics.confusion_matrix(predicted_vs_actuals_df.loc[:, \"Actual\"],\n",
    "                                       predicted_vs_actuals_df.loc[:, \"Predicted\"])\n",
    "print_metrics(conf_matrix)"
   ]
  },
  {
   "cell_type": "code",
   "execution_count": 19,
   "metadata": {},
   "outputs": [
    {
     "name": "stdout",
     "output_type": "stream",
     "text": [
      "                  precision    recall  f1-score   support\n",
      "\n",
      "Good connections       1.00      1.00      1.00     19453\n",
      " Bad connections       1.00      0.89      0.94         9\n",
      "\n",
      "       micro avg       1.00      1.00      1.00     19462\n",
      "       macro avg       1.00      0.94      0.97     19462\n",
      "    weighted avg       1.00      1.00      1.00     19462\n",
      "\n"
     ]
    }
   ],
   "source": [
    "# A combined report from metrics module\n",
    "print(metrics.classification_report(predicted_vs_actuals_df.loc[:, \"Actual\"],\n",
    "                                    predicted_vs_actuals_df.loc[:, \"Predicted\"],\n",
    "                                    target_names=['Good connections', 'Bad connections']))"
   ]
  },
  {
   "cell_type": "code",
   "execution_count": 20,
   "metadata": {},
   "outputs": [],
   "source": [
    "def print_heatmap(conf_matrix, title, labels):\n",
    "    \"\"\"Print a confusion matrix as a heat map, with labels from a list.\"\"\"\n",
    "    sns.heatmap(conf_matrix, square=True, annot=True, fmt='d', cbar=False,\n",
    "                xticklabels=labels, yticklabels=labels)\n",
    "    plt.xlabel('Actual labels')\n",
    "    plt.ylabel('Predicted labels')\n",
    "    plt.title(title)\n",
    "    plt.show()"
   ]
  },
  {
   "cell_type": "code",
   "execution_count": 21,
   "metadata": {},
   "outputs": [
    {
     "data": {
      "image/png": "[encoded data removed]",
      "text/plain": [
       "<Figure size 432x288 with 1 Axes>"
      ]
     },
     "metadata": {
      "needs_background": "light"
     },
     "output_type": "display_data"
    }
   ],
   "source": [
    "print_heatmap(conf_matrix.T, 'Confusion matrix', ['Good\\nconnections', 'Bad\\nconnections'])"
   ]
  },
  {
   "cell_type": "markdown",
   "metadata": {},
   "source": [
    "### ROC analysis<a id='roc'></a>"
   ]
  },
  {
   "cell_type": "code",
   "execution_count": 22,
   "metadata": {},
   "outputs": [],
   "source": [
    "def do_roc_analysis(XX, YY, model, plot = True):\n",
    "    \"\"\"Return area under curve metric and prob. estimates; plot ROC curve.\"\"\"\n",
    "    # y = probability estimates of the positive class\n",
    "    #  [:,1] for predicted probabilities for the positive label only\n",
    "    y = model.predict_proba(XX.values)[:, 1]\n",
    "    LW = 1.5  # line width for plots\n",
    "    LL = \"lower right\"  # legend location\n",
    "    LC = \"darkgreen\"  # Line Color\n",
    "    # False Positive Rate, True Posisive Rate, probability thresholds\n",
    "    fpr, tpr, th = metrics.roc_curve(YY.astype(int), y)\n",
    "    print('First 10 prob.thresholds:', np.round(th[:10], 3))\n",
    "    AUC = metrics.auc(fpr, tpr)\n",
    "\n",
    "    if plot:\n",
    "        plt.figure()\n",
    "        plt.title('ROC curve for Connections Dataset, {} Model'.format(type(model)))\n",
    "        plt.xlim([-0.1, 1.0])\n",
    "        plt.ylim([-0.1, 1.05])\n",
    "        plt.xlabel('FALSE Positive Rate')\n",
    "        plt.ylabel('TRUE Positive Rate')\n",
    "        plt.plot(fpr, tpr, color=LC, lw=LW,\n",
    "                 label='ROC curve (area = %0.2f)' % AUC)\n",
    "        plt.plot(fpr, tpr, 'bo',\n",
    "                 label='ROC curve (area = %0.2f)' % AUC, alpha = 0.2)\n",
    "        # reference line for random classifier\n",
    "        plt.plot([0, 1], [0, 1], color='navy', lw=LW, linestyle='--')\n",
    "        plt.legend(loc=LL)\n",
    "        plt.show()\n",
    "\n",
    "    return AUC, y"
   ]
  },
  {
   "cell_type": "code",
   "execution_count": 23,
   "metadata": {},
   "outputs": [
    {
     "name": "stdout",
     "output_type": "stream",
     "text": [
      "\n",
      "ROC ANALYSIS\n",
      "First 10 prob.thresholds: [2.    1.    0.215 0.042 0.028 0.    0.    0.    0.    0.   ]\n"
     ]
    },
    {
     "data": {
      "image/png": "[encoded data removed]",
      "text/plain": [
       "<Figure size 432x288 with 1 Axes>"
      ]
     },
     "metadata": {
      "needs_background": "light"
     },
     "output_type": "display_data"
    }
   ],
   "source": [
    "print(\"\\nROC ANALYSIS\")\n",
    "_, _ = do_roc_analysis(XX, YY, logit_clf)"
   ]
  },
  {
   "cell_type": "markdown",
   "metadata": {},
   "source": [
    "This curve does not look right because I expected the data points to be along the y-axes (since the False Positive Rate should be always near zero (the model almost always gets right all normal connections, i.e. there are no false alarms). The problem is with the metrics.roc_curve() which produces the following sequence of thresholds (I show the first 10): 2.,1.,0.215,0.042,0.028,0.,0.,0.,0.,0... As you can see, ignoring 2, it starts at 1, then plummets to nearly zero. \n",
    "\n",
    "In the following cell I try to change that behavior by constructing my own thresholds from 0 to 1 with intervals of 0.01. Now the datapoints in the curve are where I would have expected them to be.\n",
    "\n",
    "But, anyway, ROC/AUC analysis does not seem to be a great help in choosing an appropriate probability threshold for identifying rare cases."
   ]
  },
  {
   "cell_type": "code",
   "execution_count": 24,
   "metadata": {},
   "outputs": [
    {
     "data": {
      "image/png": "[encoded data removed]",
      "text/plain": [
       "<Figure size 432x288 with 1 Axes>"
      ]
     },
     "metadata": {
      "needs_background": "light"
     },
     "output_type": "display_data"
    }
   ],
   "source": [
    "def build_roc(model, XX, YY, plot = True):\n",
    "    \"\"\"Build and print a ROC curve without using metrics.roc_curve().\"\"\"\n",
    "    y = model.predict_proba(XX.values)[:, 1]\n",
    "    FPR, TPR = [], []\n",
    "    th = 0.0\n",
    "    while th <= 1.1:\n",
    "        predicted_YY = get_predicted_test_labels(model, XX, th)\n",
    "        labels_dict = {'Predicted': predicted_YY.astype(int),\n",
    "                       'Actual': YY.astype(int)\n",
    "                      }\n",
    "        predicted_vs_actuals_df = pd.DataFrame(labels_dict)\n",
    "        conf_matrix = metrics.confusion_matrix(predicted_vs_actuals_df.loc[:, \"Actual\"],\n",
    "                                               predicted_vs_actuals_df.loc[:, \"Predicted\"]\n",
    "                                              )\n",
    "        true_neg, false_pos, false_neg, true_pos = conf_matrix.ravel()\n",
    "        FPR.append(false_pos / (true_neg + false_pos)) \n",
    "        TPR.append(true_pos / (true_pos + false_neg))\n",
    "        th += 0.01\n",
    "    AUC = metrics.auc(FPR, TPR) \n",
    "    if plot:\n",
    "        plt.figure()\n",
    "        plt.title('Modified ROC curve')\n",
    "        plt.xlim([-0.1, 1.05])\n",
    "        plt.ylim([-0.1, 1.05])\n",
    "        plt.xlabel('FALSE Positive Rate')\n",
    "        plt.ylabel('TRUE Positive Rate')\n",
    "        plt.plot(FPR, TPR, label='ROC curve (area = %0.2f)' % AUC)\n",
    "        plt.plot(FPR, TPR, 'bo')\n",
    "        plt.legend(loc='lower right')\n",
    "        plt.show()\n",
    "    \n",
    "build_roc(logit_clf, XX, YY)"
   ]
  },
  {
   "cell_type": "markdown",
   "metadata": {},
   "source": [
    "### Adjust cutoff value<a id='threshold'></a>"
   ]
  },
  {
   "cell_type": "markdown",
   "metadata": {},
   "source": [
    "By trial, I set the probability threshold at 0.2. This allows the model to predict most bad connections correctly."
   ]
  },
  {
   "cell_type": "markdown",
   "metadata": {},
   "source": [
    "# 3. Determine your model accuracy<a id='accuracy'></a>"
   ]
  },
  {
   "cell_type": "markdown",
   "metadata": {},
   "source": [
    "I used scikit-learn's Logistic Regression model. I tried different solvers and threshold values to achieve the maximum recall rate (i.e. ability to predict the rare class). The model's recall on the test dataset is 0.89. One bad connection case was misclassified as a good connection. Its False Positive Rate (i.e. false alarms) is 0. "
   ]
  },
  {
   "cell_type": "markdown",
   "metadata": {},
   "source": [
    "# 4. Modify data by handling class imbalance<a id='rebalance'></a>"
   ]
  },
  {
   "cell_type": "code",
   "execution_count": 25,
   "metadata": {},
   "outputs": [],
   "source": [
    "from collections import Counter\n",
    "from imblearn.over_sampling import SMOTE "
   ]
  },
  {
   "cell_type": "code",
   "execution_count": 26,
   "metadata": {},
   "outputs": [
    {
     "name": "stdout",
     "output_type": "stream",
     "text": [
      "Original train dataset shape Counter({'0': 77825, '1': 21})\n",
      "Original test dataset shape Counter({'0': 19453, '1': 9})\n"
     ]
    }
   ],
   "source": [
    "print('Original train dataset shape {}'.format(Counter(Y)))\n",
    "print('Original test dataset shape {}'.format(Counter(YY)))"
   ]
  },
  {
   "cell_type": "code",
   "execution_count": 27,
   "metadata": {},
   "outputs": [
    {
     "name": "stdout",
     "output_type": "stream",
     "text": [
      "Resampled train dataset shape Counter({'0': 77825, '1': 77825})\n"
     ]
    }
   ],
   "source": [
    "# Re-sample training data\n",
    "sm = SMOTE(random_state=42)\n",
    "X_resample, Y_resample = sm.fit_sample(X, Y)\n",
    "print('Resampled train dataset shape {}'.format(Counter(Y_resample)))"
   ]
  },
  {
   "cell_type": "markdown",
   "metadata": {},
   "source": [
    "# 5. Use the same model on updated data<a id='retrain'></a>"
   ]
  },
  {
   "cell_type": "code",
   "execution_count": 28,
   "metadata": {},
   "outputs": [
    {
     "data": {
      "text/plain": [
       "LogisticRegression(C=1.0, class_weight=None, dual=False, fit_intercept=True,\n",
       "          intercept_scaling=1, max_iter=100, multi_class='warn',\n",
       "          n_jobs=None, penalty='l2', random_state=None, solver='liblinear',\n",
       "          tol=0.0001, verbose=0, warm_start=False)"
      ]
     },
     "execution_count": 28,
     "metadata": {},
     "output_type": "execute_result"
    }
   ],
   "source": [
    "# Instantiate the classifier class object. Note: the solver is different\n",
    "logit_clf_resample = LogisticRegression(solver = 'liblinear')\n",
    "# Train on re-sampled training dataset\n",
    "logit_clf_resample.fit(X_resample, Y_resample)"
   ]
  },
  {
   "cell_type": "code",
   "execution_count": 29,
   "metadata": {},
   "outputs": [],
   "source": [
    "# Set the probability threshold for classifying cases\n",
    "PROB_TH = 0.2\n",
    "# Get predictions for the testing cases\n",
    "logit_predicted_YY_resample = get_predicted_test_labels(logit_clf_resample, XX, PROB_TH)"
   ]
  },
  {
   "cell_type": "markdown",
   "metadata": {},
   "source": [
    "# 6. What is the accuracy?<a id='new_accuracy'></a>"
   ]
  },
  {
   "cell_type": "code",
   "execution_count": 30,
   "metadata": {},
   "outputs": [],
   "source": [
    "# Create a datframe of predicted and actual values\n",
    "labels_dict_resample = {'Predicted': logit_predicted_YY_resample.astype(int),\n",
    "                        'Actual': YY.astype(int)\n",
    "                       }\n",
    "predicted_vs_actuals_df_resample = pd.DataFrame(labels_dict_resample)"
   ]
  },
  {
   "cell_type": "code",
   "execution_count": 31,
   "metadata": {},
   "outputs": [
    {
     "name": "stdout",
     "output_type": "stream",
     "text": [
      "Confusion matrix:\n",
      "    Actual labels\n",
      "    Good\tBad connections\n",
      "    [[19433     0]\n",
      " [   20     9]] < Predicted labels\n",
      "    \n",
      "Metrics:\n",
      "    Accuracy (total correct predictions): 0.9990\n",
      "    Specificity (correctly labeled good connections): 0.9990\n",
      "    Recall (correctly labeled bad connections): 1.0000\n",
      "    False Positive Rate (false alarms): 0.0010\n",
      "    F1 score: : 0.4737\n",
      "    \n"
     ]
    }
   ],
   "source": [
    "# Set up a confusion matrix\n",
    "conf_matrix_resample = metrics.confusion_matrix(predicted_vs_actuals_df_resample.loc[:, \"Actual\"],\n",
    "                                       predicted_vs_actuals_df_resample.loc[:, \"Predicted\"])\n",
    "# Print metrics\n",
    "print_metrics(conf_matrix_resample)"
   ]
  },
  {
   "cell_type": "code",
   "execution_count": 32,
   "metadata": {},
   "outputs": [
    {
     "data": {
      "image/png": "[encoded data removed]",
      "text/plain": [
       "<Figure size 432x288 with 1 Axes>"
      ]
     },
     "metadata": {
      "needs_background": "light"
     },
     "output_type": "display_data"
    }
   ],
   "source": [
    "print_heatmap(conf_matrix_resample.T,\n",
    "              'Confusion matrix for resampled dataset', \n",
    "              ['Good\\nconnections', 'Bad\\nconnections']\n",
    "             )"
   ]
  },
  {
   "cell_type": "code",
   "execution_count": 33,
   "metadata": {},
   "outputs": [
    {
     "name": "stdout",
     "output_type": "stream",
     "text": [
      "\n",
      "ROC ANALYSIS\n",
      "First 10 prob.thresholds: [2.    1.    0.998 0.021 0.02  0.015 0.015 0.003 0.003 0.003]\n"
     ]
    },
    {
     "data": {
      "image/png": "[encoded data removed]",
      "text/plain": [
       "<Figure size 432x288 with 1 Axes>"
      ]
     },
     "metadata": {
      "needs_background": "light"
     },
     "output_type": "display_data"
    }
   ],
   "source": [
    "print(\"\\nROC ANALYSIS\")\n",
    "_, _ = do_roc_analysis(XX, YY, logit_clf_resample)"
   ]
  },
  {
   "cell_type": "markdown",
   "metadata": {},
   "source": [
    "The ROC/AUC analysis does not look helpful. Additional comments are in the [ROC analysis](#roc) section above. "
   ]
  },
  {
   "cell_type": "markdown",
   "metadata": {},
   "source": [
    "The accuracy of the model trained on the re-sampled data has improved. Its recall rate for the bad connections is 100%, with the false alarms rate (False Positive Rate) being 0.001. In absolute terms, the model correctly predicted all 9 bad connection cases and misclassified 20 good connections out of 19,453 as bad ones."
   ]
  },
  {
   "cell_type": "markdown",
   "metadata": {},
   "source": [
    "# 7. Describe your findings<a id='findings'></a>"
   ]
  },
  {
   "cell_type": "markdown",
   "metadata": {},
   "source": [
    "I used scikit-learn's Logistic Regression model to predict bad connections. \n",
    "\n",
    "By trying out different model solvers and probability thresholds, I achieved the recall rate (i.e. ability to predict the rare class) for the test dataset of 0.89. The model's False Positive Rate (i.e. false alarms rate) was 0. In absolute terms, one bad connection case was misclassified as a good connection, while all good connections were classified correctly.\n",
    "\n",
    "After applying a re-sampling technique to handle the data imbalance in the dataset and trying out different model solvers and probability thresholds, I achieved a 100% recall rate. At the same time, the model produced 20 false alarms by misclassifying 20 good connections out of 19,453 as bad ones.\n",
    "\n",
    "I believe that the re-sampling of the training data improved the model by reducing the amount of missed bad connections to 0. I consider a slight increase in false alarms to be negligible."
   ]
  },
  {
   "cell_type": "code",
   "execution_count": null,
   "metadata": {},
   "outputs": [],
   "source": []
  }
 ],
 "metadata": {
  "kernelspec": {
   "display_name": "Python 3",
   "language": "python",
   "name": "python3"
  },
  "language_info": {
   "codemirror_mode": {
    "name": "ipython",
    "version": 3
   },
   "file_extension": ".py",
   "mimetype": "text/x-python",
   "name": "python",
   "nbconvert_exporter": "python",
   "pygments_lexer": "ipython3",
   "version": "3.6.8"
  }
 },
 "nbformat": 4,
 "nbformat_minor": 2
}
