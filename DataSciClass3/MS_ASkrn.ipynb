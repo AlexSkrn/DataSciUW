{
 "cells": [
  {
   "cell_type": "markdown",
   "metadata": {},
   "source": [
    "# Milestones 1 & 2 & 3<a id='top'></a>\n",
    "\n",
    "\n",
    "### Dataset\n",
    "\n",
    "SECOM manufacturing Data Set from the UCI Machine Learning Repository\n",
    "https://archive.ics.uci.edu/ml/machine-learning-databases/secom/\n",
    "\n",
    "The dataset consists of two files:\n",
    "1. a dataset file <a href='https://archive.ics.uci.edu/ml/machine-learning-databases/secom/secom.data'>SECOM</a> containing 1567 examples, each with 591 features, 104 fails\n",
    "2. a <a href='https://archive.ics.uci.edu/ml/machine-learning-databases/secom/secom_labels.data'>labels</a> file listing the classifications and date time stamp for each example\n",
    "\n",
    "The dataset represents a selection of features where \n",
    "each example represents a single production entity with associated measured \n",
    "features and the labels represent a simple pass/fail yield for in house line \n",
    "testing and associated date time stamp.\n",
    "\n",
    "-1 corresponds to a pass and 1 corresponds to a fail and the data time stamp is for that specific test \n",
    "point.\n",
    "\n",
    "Null values are represented by the 'NaN' value.\n",
    "\n",
    "## Milestone 1 Instructions\n",
    "\n",
    "Assume the 591 attributes represent different sensors readings across the manufacturing process. \n",
    "\n",
    "Using the <a href='https://archive.ics.uci.edu/ml/machine-learning-databases/secom/secom.data'>SECOM dataset</a>, create a new notebook, and perform each of the following tasks and answer the related questions:\n",
    "\n",
    "1. Refine your data understanding and prepare a DFD of solving the manufacturing quality problem\n",
    "2. Read and merge data\n",
    "3. Clean and prepare data \n",
    "4. Visually explore data\n",
    "5. Handle class imbalance problem\n",
    "6. Apply feature selection techniques to reduce dimensionality of data\n",
    "7. What are your initial findings? Describe them in a [summary](#summary1) section\n",
    "\n",
    "## Milestone 2 Instructions\n",
    "\n",
    "1. Split prepared data from Milestone 1 into training and testing\n",
    "2. Build a <b>decision tree</b> model that detects faulty products\n",
    "3. Build an <b>ensemble model</b> that detects faulty products\n",
    "4. Build an <b>SVM</b> model\n",
    "5. Evaluate all three models\n",
    "6. Describe your [findings](#summary2)\n",
    "\n",
    "## Milestone 3 Instructions\n",
    "\n",
    "1. Build a simple neural networks model - see the [SLP section](#slp) \n",
    "2. Build a DNN model - see the [MLP section](#mlp)\n",
    "3. Build a RNN model - see the [RNN section](#rnn)\n",
    "4. Summarize your findings with examples. Explain what the manufacturer should focus on to optimize the manufacturing process - see the [Summary section](#summary3)"
   ]
  },
  {
   "cell_type": "code",
   "execution_count": 1,
   "metadata": {},
   "outputs": [],
   "source": [
    "# Uncomment the following line to run\n",
    "# !pip install mlxtend\n",
    "# !pip install imblearn"
   ]
  },
  {
   "cell_type": "code",
   "execution_count": 2,
   "metadata": {},
   "outputs": [
    {
     "name": "stderr",
     "output_type": "stream",
     "text": [
      "/anaconda3/lib/python3.6/site-packages/sklearn/externals/joblib/__init__.py:15: DeprecationWarning: sklearn.externals.joblib is deprecated in 0.21 and will be removed in 0.23. Please import this functionality directly from joblib, which can be installed with: pip install joblib. If this warning is raised when loading pickled models, you may need to re-serialize those models with scikit-learn 0.21+.\n",
      "  warnings.warn(msg, category=DeprecationWarning)\n",
      "/anaconda3/lib/python3.6/site-packages/sklearn/externals/six.py:31: DeprecationWarning: The module is deprecated in version 0.21 and will be removed in version 0.23 since we've dropped support for Python 2.7. Please rely on the official version of six (https://pypi.org/project/six/).\n",
      "  \"(https://pypi.org/project/six/).\", DeprecationWarning)\n"
     ]
    }
   ],
   "source": [
    "import pandas as pd\n",
    "import numpy as np\n",
    "\n",
    "from itertools import combinations\n",
    "from collections import Counter\n",
    "\n",
    "from sklearn import linear_model\n",
    "from sklearn import metrics\n",
    "from sklearn.metrics import confusion_matrix\n",
    "from sklearn.metrics import classification_report\n",
    "from sklearn.metrics import accuracy_score\n",
    "from sklearn.metrics import mutual_info_score\n",
    "from sklearn.preprocessing import StandardScaler\n",
    "from sklearn.feature_selection import VarianceThreshold\n",
    "from mlxtend.feature_selection import SequentialFeatureSelector as SFS\n",
    "from sklearn.datasets import make_friedman1\n",
    "from sklearn.feature_selection import RFE  # Recursive Feature Elimination\n",
    "from sklearn.ensemble import RandomForestClassifier\n",
    "from sklearn.tree import DecisionTreeClassifier\n",
    "from sklearn.model_selection import GridSearchCV\n",
    "from sklearn.model_selection import train_test_split\n",
    "from sklearn import svm\n",
    "\n",
    "from imblearn.over_sampling import SMOTE \n",
    "\n",
    "import matplotlib.pyplot as plt\n",
    "from mlxtend.plotting import plot_sequential_feature_selection as plot_sfs\n",
    "%matplotlib inline"
   ]
  },
  {
   "cell_type": "markdown",
   "metadata": {},
   "source": [
    "## Data Flow Diagram"
   ]
  },
  {
   "cell_type": "markdown",
   "metadata": {},
   "source": [
    "![PFD](pfd.png)"
   ]
  },
  {
   "cell_type": "markdown",
   "metadata": {},
   "source": [
    "## Read and merge data"
   ]
  },
  {
   "cell_type": "code",
   "execution_count": 3,
   "metadata": {},
   "outputs": [
    {
     "name": "stdout",
     "output_type": "stream",
     "text": [
      "Trying to load the data set from a local file if it exists...\n",
      "\tData loaded from local file\n",
      "Trying to load the data set from a local file if it exists...\n",
      "\tData loaded from local file\n"
     ]
    }
   ],
   "source": [
    "url_data = 'https://archive.ics.uci.edu/ml/machine-learning-databases/secom/secom.data'\n",
    "url_labels = 'https://archive.ics.uci.edu/ml/machine-learning-databases/secom/secom_labels.data'\n",
    "\n",
    "local_path_data = './secom.data'\n",
    "local_path_labels = './secom_labels.data'\n",
    "\n",
    "def load_data(a_url, path):\n",
    "    \"\"\"Return a DataFrame containing a dataset from url or local path.\"\"\"\n",
    "    print('Trying to load the data set from a local file if it exists...')\n",
    "    try:\n",
    "        data_set = pd.read_csv(path, sep = ' ', header = None)\n",
    "    except FileNotFoundError:\n",
    "        print('\\tFile not found, loading from Internet...')\n",
    "        data_set = pd.read_csv(a_url, sep = ' ', header = None)\n",
    "        print('\\t\\tData loaded from url')\n",
    "    else:\n",
    "        print('\\tData loaded from local file')\n",
    "    \n",
    "    return data_set\n",
    "\n",
    "data = load_data(url_data, local_path_data)\n",
    "labels = load_data(url_labels, local_path_labels)"
   ]
  },
  {
   "cell_type": "code",
   "execution_count": 4,
   "metadata": {
    "scrolled": true
   },
   "outputs": [
    {
     "name": "stdout",
     "output_type": "stream",
     "text": [
      "(1567, 590)\n"
     ]
    },
    {
     "data": {
      "text/html": [
       "<div>\n",
       "<style scoped>\n",
       "    .dataframe tbody tr th:only-of-type {\n",
       "        vertical-align: middle;\n",
       "    }\n",
       "\n",
       "    .dataframe tbody tr th {\n",
       "        vertical-align: top;\n",
       "    }\n",
       "\n",
       "    .dataframe thead th {\n",
       "        text-align: right;\n",
       "    }\n",
       "</style>\n",
       "<table border=\"1\" class=\"dataframe\">\n",
       "  <thead>\n",
       "    <tr style=\"text-align: right;\">\n",
       "      <th></th>\n",
       "      <th>0</th>\n",
       "      <th>1</th>\n",
       "      <th>2</th>\n",
       "      <th>3</th>\n",
       "      <th>4</th>\n",
       "      <th>5</th>\n",
       "      <th>6</th>\n",
       "      <th>7</th>\n",
       "      <th>8</th>\n",
       "      <th>9</th>\n",
       "      <th>...</th>\n",
       "      <th>580</th>\n",
       "      <th>581</th>\n",
       "      <th>582</th>\n",
       "      <th>583</th>\n",
       "      <th>584</th>\n",
       "      <th>585</th>\n",
       "      <th>586</th>\n",
       "      <th>587</th>\n",
       "      <th>588</th>\n",
       "      <th>589</th>\n",
       "    </tr>\n",
       "  </thead>\n",
       "  <tbody>\n",
       "    <tr>\n",
       "      <th>0</th>\n",
       "      <td>3030.93</td>\n",
       "      <td>2564.00</td>\n",
       "      <td>2187.7333</td>\n",
       "      <td>1411.1265</td>\n",
       "      <td>1.3602</td>\n",
       "      <td>100.0</td>\n",
       "      <td>97.6133</td>\n",
       "      <td>0.1242</td>\n",
       "      <td>1.5005</td>\n",
       "      <td>0.0162</td>\n",
       "      <td>...</td>\n",
       "      <td>NaN</td>\n",
       "      <td>NaN</td>\n",
       "      <td>0.5005</td>\n",
       "      <td>0.0118</td>\n",
       "      <td>0.0035</td>\n",
       "      <td>2.3630</td>\n",
       "      <td>NaN</td>\n",
       "      <td>NaN</td>\n",
       "      <td>NaN</td>\n",
       "      <td>NaN</td>\n",
       "    </tr>\n",
       "    <tr>\n",
       "      <th>1</th>\n",
       "      <td>3095.78</td>\n",
       "      <td>2465.14</td>\n",
       "      <td>2230.4222</td>\n",
       "      <td>1463.6606</td>\n",
       "      <td>0.8294</td>\n",
       "      <td>100.0</td>\n",
       "      <td>102.3433</td>\n",
       "      <td>0.1247</td>\n",
       "      <td>1.4966</td>\n",
       "      <td>-0.0005</td>\n",
       "      <td>...</td>\n",
       "      <td>0.006</td>\n",
       "      <td>208.2045</td>\n",
       "      <td>0.5019</td>\n",
       "      <td>0.0223</td>\n",
       "      <td>0.0055</td>\n",
       "      <td>4.4447</td>\n",
       "      <td>0.0096</td>\n",
       "      <td>0.0201</td>\n",
       "      <td>0.006</td>\n",
       "      <td>208.2045</td>\n",
       "    </tr>\n",
       "  </tbody>\n",
       "</table>\n",
       "<p>2 rows × 590 columns</p>\n",
       "</div>"
      ],
      "text/plain": [
       "       0        1          2          3       4      5         6       7    \\\n",
       "0  3030.93  2564.00  2187.7333  1411.1265  1.3602  100.0   97.6133  0.1242   \n",
       "1  3095.78  2465.14  2230.4222  1463.6606  0.8294  100.0  102.3433  0.1247   \n",
       "\n",
       "      8       9    ...    580       581     582     583     584     585  \\\n",
       "0  1.5005  0.0162  ...    NaN       NaN  0.5005  0.0118  0.0035  2.3630   \n",
       "1  1.4966 -0.0005  ...  0.006  208.2045  0.5019  0.0223  0.0055  4.4447   \n",
       "\n",
       "      586     587    588       589  \n",
       "0     NaN     NaN    NaN       NaN  \n",
       "1  0.0096  0.0201  0.006  208.2045  \n",
       "\n",
       "[2 rows x 590 columns]"
      ]
     },
     "execution_count": 4,
     "metadata": {},
     "output_type": "execute_result"
    }
   ],
   "source": [
    "print(data.shape)\n",
    "data.head(2)"
   ]
  },
  {
   "cell_type": "code",
   "execution_count": 5,
   "metadata": {},
   "outputs": [
    {
     "name": "stdout",
     "output_type": "stream",
     "text": [
      "(1567, 2)\n"
     ]
    },
    {
     "data": {
      "text/html": [
       "<div>\n",
       "<style scoped>\n",
       "    .dataframe tbody tr th:only-of-type {\n",
       "        vertical-align: middle;\n",
       "    }\n",
       "\n",
       "    .dataframe tbody tr th {\n",
       "        vertical-align: top;\n",
       "    }\n",
       "\n",
       "    .dataframe thead th {\n",
       "        text-align: right;\n",
       "    }\n",
       "</style>\n",
       "<table border=\"1\" class=\"dataframe\">\n",
       "  <thead>\n",
       "    <tr style=\"text-align: right;\">\n",
       "      <th></th>\n",
       "      <th>0</th>\n",
       "      <th>1</th>\n",
       "    </tr>\n",
       "  </thead>\n",
       "  <tbody>\n",
       "    <tr>\n",
       "      <th>0</th>\n",
       "      <td>-1</td>\n",
       "      <td>19/07/2008 11:55:00</td>\n",
       "    </tr>\n",
       "    <tr>\n",
       "      <th>1</th>\n",
       "      <td>-1</td>\n",
       "      <td>19/07/2008 12:32:00</td>\n",
       "    </tr>\n",
       "  </tbody>\n",
       "</table>\n",
       "</div>"
      ],
      "text/plain": [
       "   0                    1\n",
       "0 -1  19/07/2008 11:55:00\n",
       "1 -1  19/07/2008 12:32:00"
      ]
     },
     "execution_count": 5,
     "metadata": {},
     "output_type": "execute_result"
    }
   ],
   "source": [
    "print(labels.shape)\n",
    "labels.head(2)"
   ]
  },
  {
   "cell_type": "markdown",
   "metadata": {},
   "source": [
    "<b>Merge data and labels</b>"
   ]
  },
  {
   "cell_type": "code",
   "execution_count": 6,
   "metadata": {},
   "outputs": [
    {
     "name": "stdout",
     "output_type": "stream",
     "text": [
      "The size of the dataframe, rows by columns:\n",
      "(1567, 591)\n"
     ]
    },
    {
     "data": {
      "text/html": [
       "<div>\n",
       "<style scoped>\n",
       "    .dataframe tbody tr th:only-of-type {\n",
       "        vertical-align: middle;\n",
       "    }\n",
       "\n",
       "    .dataframe tbody tr th {\n",
       "        vertical-align: top;\n",
       "    }\n",
       "\n",
       "    .dataframe thead th {\n",
       "        text-align: right;\n",
       "    }\n",
       "</style>\n",
       "<table border=\"1\" class=\"dataframe\">\n",
       "  <thead>\n",
       "    <tr style=\"text-align: right;\">\n",
       "      <th></th>\n",
       "      <th>0</th>\n",
       "      <th>1</th>\n",
       "      <th>2</th>\n",
       "      <th>3</th>\n",
       "      <th>4</th>\n",
       "      <th>5</th>\n",
       "      <th>6</th>\n",
       "      <th>7</th>\n",
       "      <th>8</th>\n",
       "      <th>9</th>\n",
       "      <th>...</th>\n",
       "      <th>581</th>\n",
       "      <th>582</th>\n",
       "      <th>583</th>\n",
       "      <th>584</th>\n",
       "      <th>585</th>\n",
       "      <th>586</th>\n",
       "      <th>587</th>\n",
       "      <th>588</th>\n",
       "      <th>589</th>\n",
       "      <th>outcome</th>\n",
       "    </tr>\n",
       "  </thead>\n",
       "  <tbody>\n",
       "    <tr>\n",
       "      <th>0</th>\n",
       "      <td>3030.93</td>\n",
       "      <td>2564.00</td>\n",
       "      <td>2187.7333</td>\n",
       "      <td>1411.1265</td>\n",
       "      <td>1.3602</td>\n",
       "      <td>100.0</td>\n",
       "      <td>97.6133</td>\n",
       "      <td>0.1242</td>\n",
       "      <td>1.5005</td>\n",
       "      <td>0.0162</td>\n",
       "      <td>...</td>\n",
       "      <td>NaN</td>\n",
       "      <td>0.5005</td>\n",
       "      <td>0.0118</td>\n",
       "      <td>0.0035</td>\n",
       "      <td>2.3630</td>\n",
       "      <td>NaN</td>\n",
       "      <td>NaN</td>\n",
       "      <td>NaN</td>\n",
       "      <td>NaN</td>\n",
       "      <td>-1</td>\n",
       "    </tr>\n",
       "    <tr>\n",
       "      <th>1</th>\n",
       "      <td>3095.78</td>\n",
       "      <td>2465.14</td>\n",
       "      <td>2230.4222</td>\n",
       "      <td>1463.6606</td>\n",
       "      <td>0.8294</td>\n",
       "      <td>100.0</td>\n",
       "      <td>102.3433</td>\n",
       "      <td>0.1247</td>\n",
       "      <td>1.4966</td>\n",
       "      <td>-0.0005</td>\n",
       "      <td>...</td>\n",
       "      <td>208.2045</td>\n",
       "      <td>0.5019</td>\n",
       "      <td>0.0223</td>\n",
       "      <td>0.0055</td>\n",
       "      <td>4.4447</td>\n",
       "      <td>0.0096</td>\n",
       "      <td>0.0201</td>\n",
       "      <td>0.0060</td>\n",
       "      <td>208.2045</td>\n",
       "      <td>-1</td>\n",
       "    </tr>\n",
       "    <tr>\n",
       "      <th>2</th>\n",
       "      <td>2932.61</td>\n",
       "      <td>2559.94</td>\n",
       "      <td>2186.4111</td>\n",
       "      <td>1698.0172</td>\n",
       "      <td>1.5102</td>\n",
       "      <td>100.0</td>\n",
       "      <td>95.4878</td>\n",
       "      <td>0.1241</td>\n",
       "      <td>1.4436</td>\n",
       "      <td>0.0041</td>\n",
       "      <td>...</td>\n",
       "      <td>82.8602</td>\n",
       "      <td>0.4958</td>\n",
       "      <td>0.0157</td>\n",
       "      <td>0.0039</td>\n",
       "      <td>3.1745</td>\n",
       "      <td>0.0584</td>\n",
       "      <td>0.0484</td>\n",
       "      <td>0.0148</td>\n",
       "      <td>82.8602</td>\n",
       "      <td>1</td>\n",
       "    </tr>\n",
       "  </tbody>\n",
       "</table>\n",
       "<p>3 rows × 591 columns</p>\n",
       "</div>"
      ],
      "text/plain": [
       "         0        1          2          3       4      5         6       7  \\\n",
       "0  3030.93  2564.00  2187.7333  1411.1265  1.3602  100.0   97.6133  0.1242   \n",
       "1  3095.78  2465.14  2230.4222  1463.6606  0.8294  100.0  102.3433  0.1247   \n",
       "2  2932.61  2559.94  2186.4111  1698.0172  1.5102  100.0   95.4878  0.1241   \n",
       "\n",
       "        8       9  ...       581     582     583     584     585     586  \\\n",
       "0  1.5005  0.0162  ...       NaN  0.5005  0.0118  0.0035  2.3630     NaN   \n",
       "1  1.4966 -0.0005  ...  208.2045  0.5019  0.0223  0.0055  4.4447  0.0096   \n",
       "2  1.4436  0.0041  ...   82.8602  0.4958  0.0157  0.0039  3.1745  0.0584   \n",
       "\n",
       "      587     588       589  outcome  \n",
       "0     NaN     NaN       NaN       -1  \n",
       "1  0.0201  0.0060  208.2045       -1  \n",
       "2  0.0484  0.0148   82.8602        1  \n",
       "\n",
       "[3 rows x 591 columns]"
      ]
     },
     "execution_count": 6,
     "metadata": {},
     "output_type": "execute_result"
    }
   ],
   "source": [
    "production_df = data\n",
    "# production_df['timestamp'] = labels[1]  # DO I NEED THE TIMESTAMP?\n",
    "production_df['outcome'] = labels[0]\n",
    "print('The size of the dataframe, rows by columns:')\n",
    "print(production_df.shape)\n",
    "production_df.head(3)"
   ]
  },
  {
   "cell_type": "markdown",
   "metadata": {},
   "source": [
    "## Clean and prepare data"
   ]
  },
  {
   "cell_type": "markdown",
   "metadata": {},
   "source": [
    "<b>Split the dataset 80/20 into:</b> \n",
    "\n",
    "| 80% of records        | 20% of records      |\n",
    "|-----------------------|---------------------|\n",
    "| training data X dataframe | test data XX dataframe |\n",
    "| training label Y array   | test label YY array |\n"
   ]
  },
  {
   "cell_type": "code",
   "execution_count": 7,
   "metadata": {},
   "outputs": [],
   "source": [
    "y_prod = production_df.loc[:, 'outcome'].values.astype(str)\n",
    "x_prod = production_df.drop('outcome', axis = 1)\n",
    "X, XX, Y, YY = train_test_split(x_prod,\n",
    "                                y_prod,\n",
    "                                train_size = 0.8,\n",
    "                                test_size = 0.2,\n",
    "                                random_state = 0)"
   ]
  },
  {
   "cell_type": "markdown",
   "metadata": {},
   "source": [
    "### Replace -1 (indicating a pass) with 0 in the target variable"
   ]
  },
  {
   "cell_type": "code",
   "execution_count": 8,
   "metadata": {},
   "outputs": [],
   "source": [
    "# TRY THIS\n",
    "# tdf['Sex'] = tdf['Sex'].map({'male': 0, 'female': 1})"
   ]
  },
  {
   "cell_type": "code",
   "execution_count": 9,
   "metadata": {},
   "outputs": [
    {
     "name": "stdout",
     "output_type": "stream",
     "text": [
      "Distribution of pass/fail labels in the training set\n",
      "Pass labels -1: 1162 cases\n",
      "Fail labels 1: 91 cases\n"
     ]
    }
   ],
   "source": [
    "# Distribution of positive and negative cases in the train and test data\n",
    "Y = Y.astype(int)\n",
    "mask_neg_outcome = (Y == -1)  # --> bool array\n",
    "pos_outcome  = (Y == 1)\n",
    "print('Distribution of pass/fail labels in the training set')\n",
    "print('Pass labels -1:', sum(mask_neg_outcome), 'cases')\n",
    "print('Fail labels 1:', sum(pos_outcome), 'cases')"
   ]
  },
  {
   "cell_type": "code",
   "execution_count": 10,
   "metadata": {},
   "outputs": [
    {
     "name": "stdout",
     "output_type": "stream",
     "text": [
      "Pass labels 0: 1162 cases\n",
      "Fail labels 1: 91 cases\n"
     ]
    }
   ],
   "source": [
    "# Replace -1 with 0 in the train label Y array\n",
    "Y[mask_neg_outcome] = 0\n",
    "zero_outcome = (Y == 0)\n",
    "pos_outcome  = (Y == 1)\n",
    "print('Pass labels 0:', sum(zero_outcome), 'cases')\n",
    "print('Fail labels 1:', sum(pos_outcome), 'cases')"
   ]
  },
  {
   "cell_type": "code",
   "execution_count": 11,
   "metadata": {},
   "outputs": [
    {
     "name": "stdout",
     "output_type": "stream",
     "text": [
      "Distribution of pass/fail labels in the testing set\n",
      "Pass labels -1: 301 cases\n",
      "Fail labels 1: 13 cases\n"
     ]
    }
   ],
   "source": [
    "YY = YY.astype(int)\n",
    "mask_neg_outcome = (YY == -1)  # --> bool array\n",
    "pos_outcome  = (YY == 1)\n",
    "print('Distribution of pass/fail labels in the testing set')\n",
    "print('Pass labels -1:', sum(mask_neg_outcome), 'cases')\n",
    "print('Fail labels 1:', sum(pos_outcome), 'cases')"
   ]
  },
  {
   "cell_type": "code",
   "execution_count": 12,
   "metadata": {},
   "outputs": [
    {
     "name": "stdout",
     "output_type": "stream",
     "text": [
      "Pass labels 0: 301 cases\n",
      "Fail labels 1: 13 cases\n"
     ]
    }
   ],
   "source": [
    "# Replace -1 with 0 in the test label YY array\n",
    "YY[mask_neg_outcome] = 0\n",
    "zero_outcome = (YY == 0)\n",
    "pos_outcome  = (YY == 1)\n",
    "print('Pass labels 0:', sum(zero_outcome), 'cases')\n",
    "print('Fail labels 1:', sum(pos_outcome), 'cases')"
   ]
  },
  {
   "cell_type": "markdown",
   "metadata": {},
   "source": [
    "### Define functions to drop constant-valued columns"
   ]
  },
  {
   "cell_type": "code",
   "execution_count": 13,
   "metadata": {},
   "outputs": [
    {
     "name": "stdout",
     "output_type": "stream",
     "text": [
      "Testing the function\n",
      "REMOVING CONSTANT COLUMNS\n",
      "List of constant-valued columns to be removed:\n",
      "Index(['a', 'b'], dtype='object')\n",
      "Training set shape BEFORE dropping constant columns: (3, 3)\n",
      "Training set shape AFTER dropping constant columns: (3, 1)\n",
      "Testing set shape BEFORE dropping constant columns: (3, 3)\n",
      "Testing set shape AFTER dropping constant columns: (3, 1)\n"
     ]
    }
   ],
   "source": [
    "def drop_constant_columns(training_set_X, testing_set_XX):\n",
    "    \"\"\"Remove constant columns and return two updated datasets.\"\"\"\n",
    "    print('REMOVING CONSTANT COLUMNS')\n",
    "    std_filter = (training_set_X.std() == 0)  # Select columns for which st. dev. is 0\n",
    "    constant_column_names = std_filter[std_filter].index\n",
    "    print('List of constant-valued columns to be removed:')\n",
    "    print(constant_column_names)\n",
    "\n",
    "    # Drop constant columns in the traing set X\n",
    "    print('Training set shape BEFORE dropping constant columns:', training_set_X.shape)\n",
    "    training_set_X = training_set_X.drop(constant_column_names, axis = 1)\n",
    "    print('Training set shape AFTER dropping constant columns:', training_set_X.shape)\n",
    "\n",
    "    # Drop the same columns in the testing set XX\n",
    "    print('Testing set shape BEFORE dropping constant columns:', testing_set_XX.shape)\n",
    "    testing_set_XX = testing_set_XX.drop(constant_column_names, axis = 1)\n",
    "    print('Testing set shape AFTER dropping constant columns:', testing_set_XX.shape)\n",
    "    \n",
    "    return training_set_X, testing_set_XX\n",
    "\n",
    "# Function test\n",
    "print('Testing the function')\n",
    "test_dict = {'a': pd.Series([1, 1, 1]),\n",
    "          'b': pd.Series([0.5, float('nan'), 0.5]),\n",
    "          'c': pd.Series([0.1, 0.2, 0.2])}\n",
    "test_df = pd.DataFrame(test_dict)\n",
    "returned_df_one, returned_df_two = drop_constant_columns(test_df, test_df)\n",
    "assert returned_df_one.shape == (3, 1)\n",
    "assert returned_df_two.shape == (3, 1)"
   ]
  },
  {
   "cell_type": "markdown",
   "metadata": {},
   "source": [
    "### How to deal with missing values and outliers? \n",
    "\n",
    "For outliers:\n",
    "- Impute outlier values for the training set -- replace these values with a guess: median\n",
    "- Use the same median values to make replacements for outliers in the corresponding columns in the testing set\n",
    "- Check remaining columns in the testing set to see if there are any outliers there and replace them with medians\n",
    "\n",
    "For missing values:\n",
    "- Remove columns with more than half values missing\n",
    "- Impute other missing values using medians"
   ]
  },
  {
   "cell_type": "code",
   "execution_count": 14,
   "metadata": {},
   "outputs": [
    {
     "name": "stdout",
     "output_type": "stream",
     "text": [
      "There are 41951 missing values in both the training and testing data sets\n"
     ]
    }
   ],
   "source": [
    "miss_val_training = sum(X.isnull().sum())\n",
    "miss_val_testing = sum(XX.isnull().sum())\n",
    "ttl_missing = miss_val_training + miss_val_testing\n",
    "print('There are {} missing values in both the training and testing data sets'.format(ttl_missing))"
   ]
  },
  {
   "cell_type": "code",
   "execution_count": 15,
   "metadata": {},
   "outputs": [
    {
     "name": "stdout",
     "output_type": "stream",
     "text": [
      "Which columns in the training set have more than half values missing?\n"
     ]
    },
    {
     "data": {
      "text/plain": [
       "Index([ 72,  73,  85, 109, 110, 111, 157, 158, 220, 244, 245, 246, 292, 293,\n",
       "       345, 346, 358, 382, 383, 384, 492, 516, 517, 518, 578, 579, 580, 581],\n",
       "      dtype='object')"
      ]
     },
     "execution_count": 15,
     "metadata": {},
     "output_type": "execute_result"
    }
   ],
   "source": [
    "print('Which columns in the training set have more than half values missing?')\n",
    "filter_nan = (X.isna().sum() > X.shape[0]/2)\n",
    "col_to_remove = X.columns[filter_nan]\n",
    "col_to_remove"
   ]
  },
  {
   "cell_type": "code",
   "execution_count": 16,
   "metadata": {},
   "outputs": [
    {
     "name": "stdout",
     "output_type": "stream",
     "text": [
      "I will remove these columns from both the training and testing sets.\n",
      "X shape before: (1253, 590)\n",
      "X shape after: (1253, 562)\n",
      "XX shape before: (314, 590)\n",
      "X shape after: (314, 562)\n"
     ]
    }
   ],
   "source": [
    "print('I will remove these columns from both the training and testing sets.')\n",
    "# col_to_remove = \n",
    "print('X shape before:', X.shape)\n",
    "X = X.drop(col_to_remove, axis = 1)\n",
    "print('X shape after:', X.shape)\n",
    "print('XX shape before:', XX.shape)\n",
    "XX = XX.drop(col_to_remove, axis = 1)\n",
    "print('X shape after:', XX.shape)"
   ]
  },
  {
   "cell_type": "code",
   "execution_count": 17,
   "metadata": {},
   "outputs": [
    {
     "name": "stdout",
     "output_type": "stream",
     "text": [
      "That removed 30268 missing values, with 11683 remaining missing values to be imputed\n"
     ]
    }
   ],
   "source": [
    "miss_val_training = sum(X.isnull().sum())\n",
    "miss_val_testing = sum(XX.isnull().sum())\n",
    "updated_ttl_missing = miss_val_training + miss_val_testing\n",
    "diff = ttl_missing - updated_ttl_missing\n",
    "print('That removed {} missing values, with {} remaining missing values to be imputed'\n",
    "      .format(diff, updated_ttl_missing))"
   ]
  },
  {
   "cell_type": "markdown",
   "metadata": {},
   "source": [
    "### Define functions to impute outliers and missing values"
   ]
  },
  {
   "cell_type": "code",
   "execution_count": 18,
   "metadata": {},
   "outputs": [
    {
     "name": "stdout",
     "output_type": "stream",
     "text": [
      "Testing the function\n",
      "IMPUTING OUTLIERS\n",
      "Done\n",
      "IMPUTING OUTLIERS\n",
      "Done\n"
     ]
    }
   ],
   "source": [
    "def impute_outliers(a_dataframe, col_value_pairs_dict = None):\n",
    "    \"\"\"Return a dataset with outliers replaced by imputed values.\"\"\"\n",
    "    print('IMPUTING OUTLIERS')\n",
    "    col_value_pairs = {}  # {column_index_#: imputed_replacement_value}\n",
    "    a_dataframe = a_dataframe.copy()\n",
    "    for column_name in a_dataframe.dtypes.keys():\n",
    "        try:\n",
    "            column_data = a_dataframe.loc[:, column_name]\n",
    "            mean = np.nanmean(column_data)  # non-numeric columns will be skipped\n",
    "        except TypeError:\n",
    "            pass\n",
    "        else:\n",
    "            st_dev = np.nanstd(column_data)\n",
    "            limit_hi = mean + 2 * st_dev\n",
    "            limit_lo = mean - 2 * st_dev\n",
    "            # True for outliers, False if within limits\n",
    "            flag_bad = (column_data < limit_lo) | (column_data > limit_hi)\n",
    "            replacement_median = np.nanmedian(column_data)\n",
    "            if col_value_pairs_dict:  # Try to replace from dict first\n",
    "                try:\n",
    "                    column_data[flag_bad] = col_value_pairs_dict[column_name]\n",
    "                except KeyError:\n",
    "                    column_data[flag_bad] = replacement_median\n",
    "            else:\n",
    "                column_data[flag_bad] = replacement_median\n",
    "            a_dataframe[column_name] = column_data\n",
    "            # Keep column # and replacement value\n",
    "            col_value_pairs[column_name] = replacement_median\n",
    "    print('Done')\n",
    "    return a_dataframe, col_value_pairs\n",
    "\n",
    "# Function test\n",
    "print('Testing the function')\n",
    "test_dict = {'a': [71, 70, 73, 70, 70, 69, 70, 72, float('nan'), 300, 71, 69]}\n",
    "test_df = pd.DataFrame(test_dict)\n",
    "expected_median = 70.0  # np.nanmedian(test_dict['a']) --> 70.0\n",
    "# Replace outlier from data alone or replace from the provided dict with col name & value\n",
    "arguments = ((test_df, None), (test_df, {'a': 70.0}))\n",
    "for arg in arguments:\n",
    "    returned_data, returned_dict = impute_outliers(*arg)\n",
    "    assert returned_data['a'][9] == expected_median\n",
    "    assert returned_dict['a'] == expected_median"
   ]
  },
  {
   "cell_type": "code",
   "execution_count": 19,
   "metadata": {},
   "outputs": [
    {
     "name": "stdout",
     "output_type": "stream",
     "text": [
      "Testing the function\n",
      "IMPUTING MISSING VALUES\n",
      "IMPUTING MISSING VALUES\n"
     ]
    }
   ],
   "source": [
    "def impute_missing(a_dataframe, fill_value):\n",
    "    \"\"\"Return a dataset with NaN values replaced by values from list.\"\"\"\n",
    "    print('IMPUTING MISSING VALUES')\n",
    "    a_dataframe = a_dataframe.copy()\n",
    "    for fill_val, column_name in zip(fill_value, a_dataframe.dtypes.keys()):\n",
    "        try:\n",
    "            column_data = a_dataframe.loc[:, column_name]\n",
    "            median = np.nanmedian(column_data)  # non-numeric columns will be skipped\n",
    "        except TypeError:\n",
    "            pass\n",
    "        else:\n",
    "            # True for NaN, False otherwise\n",
    "            has_nan = np.isnan(column_data)\n",
    "            column_data[has_nan] = fill_val\n",
    "            a_dataframe[column_name] = column_data\n",
    "\n",
    "    return a_dataframe\n",
    "\n",
    "# Test function\n",
    "print('Testing the function')\n",
    "test_dict = {'a': [71, 70, 73, 70, 70, 69, 70, 72, 71, float('nan'), 71, 69]}\n",
    "test_df = pd.DataFrame(test_dict)\n",
    "expected_median = 70.0  # np.nanmedian(test_dict['a']) --> 70.0\n",
    "assert impute_missing(test_df, [expected_median])['a'][9] == expected_median\n",
    "assert isinstance(impute_missing(test_df, [expected_median]), pd.core.frame.DataFrame)"
   ]
  },
  {
   "cell_type": "markdown",
   "metadata": {},
   "source": [
    "### Define functions to drop almost constant-valued columns"
   ]
  },
  {
   "cell_type": "code",
   "execution_count": 20,
   "metadata": {},
   "outputs": [],
   "source": [
    "def drop_quasi_constant_columns(X_training, XX_testing):\n",
    "    \"\"\"Return datasets with almost constant columns removed.\"\"\"\n",
    "    print('DROPPING ALMOST CONSTANT-VALUED COLUMNS')\n",
    "    # Use VarianceThreshold method from sklearn.feature_selection\n",
    "    # Drop features whose variance is below a threshold of 0.01\n",
    "    th = 0.01\n",
    "    quasi_constant_filter = VarianceThreshold(threshold = th)\n",
    "    quasi_constant_filter.fit(X_training)\n",
    "    # A list of almost constant features\n",
    "    quasi_constant_columns = [column for column in X_training.columns  \n",
    "                        if column not in X_training.columns[quasi_constant_filter.get_support()]]\n",
    "    print('Number of features below the threshold of {} is {}'\n",
    "          .format(th, len(quasi_constant_columns)))\n",
    "    print('List of almost constant features:')\n",
    "    print(quasi_constant_columns)\n",
    "    # Drop almost constant features from both the training and testing sets\n",
    "    X_training = X_training.drop(quasi_constant_columns, axis = 1)\n",
    "    XX_testing = XX_testing.drop(quasi_constant_columns, axis = 1)\n",
    "    print('Training set shape after dropping almost constant columns:',\n",
    "          X_training.shape)\n",
    "    print('Testing set shape after dropping almost constant columns:',\n",
    "          XX_testing.shape)\n",
    "    return X_training, XX_testing"
   ]
  },
  {
   "cell_type": "markdown",
   "metadata": {},
   "source": [
    "### How to deal with highly correlated features?\n",
    "- For the training set:\n",
    "    - Find pairs of highly correlated features\n",
    "    - In each pair, keep one feature that is more correlated with the target variable\n",
    "- Then drop the same features in the testing set"
   ]
  },
  {
   "cell_type": "markdown",
   "metadata": {},
   "source": [
    "### Define functions to drop linearly correlated columns"
   ]
  },
  {
   "cell_type": "code",
   "execution_count": 21,
   "metadata": {},
   "outputs": [],
   "source": [
    "def choose_lower_corr(X_dataframe, Y_dataframe, a_tuple):\n",
    "    \"\"\"Return one of two column names in a_tuple with lower corr.coef with Y label.\"\"\"\n",
    "    col_num0 = a_tuple[0]\n",
    "    col_num1 = a_tuple[1]\n",
    "    coef0 = np.corrcoef(X_dataframe[col_num0], Y_dataframe)[0][1]\n",
    "    coef1 = np.corrcoef(X_dataframe[col_num1], Y_dataframe)[0][1]\n",
    "    if coef0 <= coef1:\n",
    "        return col_num0\n",
    "    return col_num1"
   ]
  },
  {
   "cell_type": "code",
   "execution_count": 22,
   "metadata": {},
   "outputs": [],
   "source": [
    "def drop_lin_corr_columns(training_set_X, testing_set_XX):\n",
    "    \"\"\"Return two datasets with linearly correlated features removed.\"\"\"\n",
    "    # Use a correlation matrix to identify highly correlated features\n",
    "    correlation_matrix = training_set_X.corr()\n",
    "    # Use a transpose of the corr. matrix to extract column names that a given column is correlated with\n",
    "    correlation_matrix_T = correlation_matrix.T\n",
    "    correlated_feature_pairs = []\n",
    "    threshold_corrcoef = 0.8 # the choice is arbitrary, just closer to 1\n",
    "    for i in range(len(correlation_matrix.columns)):  \n",
    "        for j in range(i):\n",
    "            if abs(correlation_matrix.iloc[i, j]) > threshold_corrcoef:\n",
    "                colname = correlation_matrix.columns[i]\n",
    "                correlated_feature_pairs.append((correlation_matrix_T.columns[j],\n",
    "                                                 correlation_matrix.columns[i]))\n",
    "    print('Number of pairs of correlated features identified:',\n",
    "          len(correlated_feature_pairs))\n",
    "    print('First three pairs:', correlated_feature_pairs[:3])\n",
    "    \n",
    "    corr_columns_to_drop = set()\n",
    "    for feature_pair in correlated_feature_pairs:\n",
    "        corr_columns_to_drop.add(choose_lower_corr(training_set_X, Y, feature_pair))\n",
    "        \n",
    "    print('The first pair of columns in <correlated_feature_pairs> list:',\n",
    "          correlated_feature_pairs[0])\n",
    "    print('Their corr. coef. is:',\n",
    "          np.corrcoef(training_set_X[correlated_feature_pairs[0][0]],\n",
    "                      training_set_X[correlated_feature_pairs[0][1]])[0][1])\n",
    "    print('{} and label Y corr. coef.: {}'\n",
    "          .format(correlated_feature_pairs[0][0],\n",
    "                  np.corrcoef(training_set_X[correlated_feature_pairs[0][0]], Y)[0][1]))\n",
    "    print('{} and label Y corr. coef. {}:'\n",
    "          .format(correlated_feature_pairs[0][1],\n",
    "                  np.corrcoef(training_set_X[correlated_feature_pairs[0][1]], Y)[0][1]))\n",
    "    col_to_drop = choose_lower_corr(training_set_X, Y, correlated_feature_pairs[0])\n",
    "    print('Function choose_lower_corr() returns', col_to_drop, 'which will be dropped')\n",
    "    \n",
    "    print('Number and names of correlated features which will be removed:')\n",
    "    print(len(corr_columns_to_drop))\n",
    "    print(sorted(list(corr_columns_to_drop)))\n",
    "    \n",
    "    # Drop linearly correlated columns\n",
    "    training_set_X = training_set_X.drop(corr_columns_to_drop, axis = 1)\n",
    "    print('Training set shape after removing correlated features:',\n",
    "          training_set_X.shape)\n",
    "    testing_set_XX = testing_set_XX.drop(corr_columns_to_drop, axis = 1)\n",
    "    print('Testing set shape after removing correlated features:',\n",
    "          testing_set_XX.shape)\n",
    "    \n",
    "    return training_set_X, testing_set_XX"
   ]
  },
  {
   "cell_type": "markdown",
   "metadata": {},
   "source": [
    "### Define functions to drop columns with a high mutual information score"
   ]
  },
  {
   "cell_type": "code",
   "execution_count": 23,
   "metadata": {},
   "outputs": [],
   "source": [
    "def calc_MI(x, y, bins):\n",
    "    \"\"\"Return a mutual information score for two features.\"\"\"\n",
    "    c_xy = np.histogram2d(x, y, bins)[0]\n",
    "    mi = mutual_info_score(None, None, contingency=c_xy)\n",
    "    return mi"
   ]
  },
  {
   "cell_type": "code",
   "execution_count": 24,
   "metadata": {},
   "outputs": [],
   "source": [
    "def choose_lower_mi(X_dataframe, Y_data, a_tuple):\n",
    "    \"\"\"Return one of two column names in a_tuple with a lower MI score with Y label.\"\"\"\n",
    "    col_num0 = a_tuple[0]\n",
    "    col_num1 = a_tuple[1]\n",
    "    mi0 = calc_MI(X_dataframe[col_num0], Y_data, 20)\n",
    "    mi1 = calc_MI(X_dataframe[col_num1], Y_data, 20)\n",
    "    if mi0 <= mi1:\n",
    "        return col_num0\n",
    "    return col_num1"
   ]
  },
  {
   "cell_type": "code",
   "execution_count": 25,
   "metadata": {},
   "outputs": [],
   "source": [
    "def calc_high_mi_pairs(training_set_X, testing_set_XX):\n",
    "    \"\"\"Return a list of pairs of columns with a high mutual information score.\"\"\"\n",
    "    current_columns = list(training_set_X.columns)\n",
    "    # All possible combinations of columns by using itertools\n",
    "    column_combinations = combinations(current_columns, 2)\n",
    "    # List of columns with high mutual information score - I chose 0.9 as a threshold\n",
    "    mutual_info_columns_pairs = []\n",
    "    bins = 20\n",
    "    for column_pair in column_combinations:\n",
    "        mi = calc_MI(training_set_X[column_pair[0]], \n",
    "                     training_set_X[column_pair[1]],\n",
    "                     bins)\n",
    "        if mi > 0.9:\n",
    "            mutual_info_columns_pairs.append((column_pair[0], column_pair[1]))\n",
    "    return mutual_info_columns_pairs"
   ]
  },
  {
   "cell_type": "code",
   "execution_count": 26,
   "metadata": {},
   "outputs": [],
   "source": [
    "def drop_high_mi_columns(training_set_X, testing_set_XX):\n",
    "    \"\"\"Return two datasets with removed columns with a high mutual information score.\"\"\"\n",
    "    mutual_info_columns_pairs = calc_high_mi_pairs(training_set_X, testing_set_XX)\n",
    "    print('Number of pairs of features with high mutual information score identified:')\n",
    "    print(len(mutual_info_columns_pairs))\n",
    "    print(mutual_info_columns_pairs)\n",
    "    mi_based_columns_to_drop = set()\n",
    "    for feature_pair in mutual_info_columns_pairs:\n",
    "        mi_based_columns_to_drop.add(choose_lower_mi(training_set_X, Y, feature_pair))\n",
    "    print('Number and names of features with a high MI score to be removed:')\n",
    "    print(len(mi_based_columns_to_drop))\n",
    "    print(mi_based_columns_to_drop)\n",
    "    \n",
    "    # Drop columns with high mutual information score\n",
    "    training_set_X = training_set_X.drop(mi_based_columns_to_drop, axis = 1)\n",
    "    print('Training set shape after removing features with a high mutual correlation score',\n",
    "          training_set_X.shape)\n",
    "    testing_set_XX = testing_set_XX.drop(mi_based_columns_to_drop, axis = 1)\n",
    "    print('Testing set shape after removing features with a high mutual correlation score',\n",
    "          testing_set_XX.shape)\n",
    "    \n",
    "    return training_set_X, testing_set_XX"
   ]
  },
  {
   "cell_type": "markdown",
   "metadata": {},
   "source": [
    "### Define a function that calls all data preparation functions"
   ]
  },
  {
   "cell_type": "code",
   "execution_count": 27,
   "metadata": {
    "scrolled": true
   },
   "outputs": [],
   "source": [
    "def prepare_data(transformations_list, training_set_X, testing_set_XX):\n",
    "    \"\"\"Define a function that calls all data preparate functions in the transformation list.\"\"\"\n",
    "    for transformation in transformations_list:\n",
    "        if transformation == 'drop_constant_columns':\n",
    "            training_set_X, testing_set_XX = drop_constant_columns(training_set_X,\n",
    "                                                                   testing_set_XX)\n",
    "        if transformation == 'impute_outliers':\n",
    "            training_set_X, replacement_values = impute_outliers(training_set_X)\n",
    "            testing_set_XX, _ = impute_outliers(testing_set_XX,\n",
    "                                                 replacement_values)\n",
    "        if transformation == 'impute_missing':\n",
    "            fill_val = training_set_X.median()  # replacement value\n",
    "            print('Number of missing values in training set X:',\n",
    "                  sum(training_set_X.isnull().sum()))\n",
    "            training_set_X = impute_missing(training_set_X, fill_val)\n",
    "            print('Number of missing values in training set X:',\n",
    "                  sum(training_set_X.isnull().sum()))\n",
    "            print('Number of missing values in testing set XX:',\n",
    "                  sum(testing_set_XX.isnull().sum()))\n",
    "            testing_set_XX = impute_missing(testing_set_XX, fill_val)\n",
    "            print('Number of missing values in testing set XX:',\n",
    "                  sum(testing_set_XX.isnull().sum()))\n",
    "        if transformation == 'drop_quasi_constant_columns':\n",
    "            training_set_X, testing_set_XX = drop_quasi_constant_columns(training_set_X,\n",
    "                                                                         testing_set_XX)\n",
    "        if transformation == 'drop_lin_corr_columns':\n",
    "            training_set_X, testing_set_XX = drop_lin_corr_columns(training_set_X,\n",
    "                                                                   testing_set_XX)\n",
    "        if transformation == 'drop_high_mi_columns':\n",
    "            training_set_X, testing_set_XX = drop_high_mi_columns(training_set_X,\n",
    "                                                                   testing_set_XX)\n",
    "            \n",
    "    return training_set_X, testing_set_XX"
   ]
  },
  {
   "cell_type": "markdown",
   "metadata": {},
   "source": [
    "### Remove constant columns, impute outliers, impute missing values, remove almost constant columns"
   ]
  },
  {
   "cell_type": "code",
   "execution_count": 28,
   "metadata": {},
   "outputs": [
    {
     "name": "stdout",
     "output_type": "stream",
     "text": [
      "REMOVING CONSTANT COLUMNS\n",
      "List of constant-valued columns to be removed:\n",
      "Index([  5,  13,  42,  49,  52,  69,  97, 141, 149, 178,\n",
      "       ...\n",
      "       529, 530, 531, 532, 533, 534, 535, 536, 537, 538],\n",
      "      dtype='object', length=116)\n",
      "Training set shape BEFORE dropping constant columns: (1253, 562)\n",
      "Training set shape AFTER dropping constant columns: (1253, 446)\n",
      "Testing set shape BEFORE dropping constant columns: (314, 562)\n",
      "Testing set shape AFTER dropping constant columns: (314, 446)\n",
      "IMPUTING OUTLIERS\n",
      "Done\n",
      "IMPUTING OUTLIERS\n",
      "Done\n",
      "Number of missing values in training set X: 8662\n",
      "IMPUTING MISSING VALUES\n",
      "Number of missing values in training set X: 0\n",
      "Number of missing values in testing set XX: 2206\n",
      "IMPUTING MISSING VALUES\n",
      "Number of missing values in testing set XX: 0\n",
      "DROPPING ALMOST CONSTANT-VALUED COLUMNS\n",
      "Number of features below the threshold of 0.01 is 171\n",
      "List of almost constant features:\n",
      "[7, 8, 9, 10, 11, 17, 19, 20, 26, 30, 53, 54, 56, 57, 58, 74, 75, 76, 77, 78, 79, 80, 81, 82, 84, 86, 87, 89, 91, 92, 93, 94, 95, 99, 100, 101, 102, 103, 104, 105, 106, 107, 108, 112, 113, 114, 116, 118, 119, 120, 121, 123, 124, 130, 131, 132, 143, 144, 145, 146, 147, 153, 156, 163, 164, 165, 168, 171, 172, 173, 174, 175, 176, 184, 195, 206, 209, 210, 211, 212, 213, 214, 215, 216, 217, 219, 221, 222, 224, 227, 228, 238, 239, 247, 248, 249, 251, 253, 254, 267, 278, 279, 280, 281, 282, 288, 290, 291, 298, 299, 300, 303, 304, 305, 306, 307, 308, 309, 310, 311, 312, 317, 320, 331, 334, 340, 342, 347, 348, 349, 350, 351, 352, 353, 354, 355, 357, 359, 360, 362, 365, 366, 367, 368, 376, 377, 385, 386, 387, 389, 391, 392, 393, 405, 447, 478, 542, 543, 544, 558, 560, 563, 565, 567, 575, 582, 583, 584, 586, 587, 588]\n",
      "Training set shape after dropping almost constant columns: (1253, 275)\n",
      "Testing set shape after dropping almost constant columns: (314, 275)\n"
     ]
    }
   ],
   "source": [
    "X, XX = prepare_data(['drop_constant_columns',\n",
    "                      'impute_outliers',\n",
    "                      'impute_missing',\n",
    "                      'drop_quasi_constant_columns'],\n",
    "                     X,\n",
    "                     XX)"
   ]
  },
  {
   "cell_type": "markdown",
   "metadata": {},
   "source": [
    "### Remove linearly correlated columns and columns with a high mutual information score"
   ]
  },
  {
   "cell_type": "markdown",
   "metadata": {},
   "source": [
    "First I select pairs of columns which have a correlation coefficient above 0.8 and pairs of columns which have a mutual information score above 0.9. Then I compare each column in the pairs to the target variable Y and remove that column which has a smaller impact on Y (either a smaller correlation coefficient or a smaller mutual information score, respectively). "
   ]
  },
  {
   "cell_type": "code",
   "execution_count": 29,
   "metadata": {},
   "outputs": [
    {
     "name": "stdout",
     "output_type": "stream",
     "text": [
      "Number of pairs of correlated features identified: 148\n",
      "First three pairs: [(12, 18), (21, 25), (21, 27)]\n",
      "The first pair of columns in <correlated_feature_pairs> list: (12, 18)\n",
      "Their corr. coef. is: 0.9221783717196761\n",
      "12 and label Y corr. coef.: -0.010873669258071251\n",
      "18 and label Y corr. coef. -0.02293316971370265:\n",
      "Function choose_lower_corr() returns 18 which will be dropped\n",
      "Number and names of correlated features which will be removed:\n",
      "98\n",
      "[18, 25, 27, 31, 34, 43, 50, 64, 70, 127, 135, 136, 137, 138, 139, 142, 148, 150, 151, 152, 154, 159, 160, 161, 166, 167, 169, 177, 182, 183, 185, 187, 196, 197, 198, 199, 202, 203, 205, 207, 218, 223, 225, 252, 255, 269, 270, 273, 275, 283, 286, 287, 289, 297, 301, 318, 321, 323, 324, 332, 335, 337, 338, 339, 341, 344, 356, 363, 388, 390, 406, 409, 410, 413, 415, 427, 428, 430, 438, 441, 445, 452, 453, 455, 469, 479, 495, 522, 540, 541, 549, 550, 551, 553, 557, 561, 564, 566]\n",
      "Training set shape after removing correlated features: (1253, 177)\n",
      "Testing set shape after removing correlated features: (314, 177)\n",
      "Number of pairs of features with high mutual information score identified:\n",
      "4\n",
      "[(295, 431), (296, 432), (552, 555), (573, 577)]\n",
      "Number and names of features with a high MI score to be removed:\n",
      "4\n",
      "{432, 577, 555, 431}\n",
      "Training set shape after removing features with a high mutual correlation score (1253, 173)\n",
      "Testing set shape after removing features with a high mutual correlation score (314, 173)\n"
     ]
    }
   ],
   "source": [
    "X, XX = prepare_data(['drop_lin_corr_columns',\n",
    "                      'drop_high_mi_columns'],\n",
    "                     X,\n",
    "                     XX)"
   ]
  },
  {
   "cell_type": "markdown",
   "metadata": {},
   "source": [
    "### Apply wrapper methods of feature selection"
   ]
  },
  {
   "cell_type": "code",
   "execution_count": 30,
   "metadata": {},
   "outputs": [],
   "source": [
    "# # Commented out and hardcoded the results to save on the running time\n",
    "# # Forward Stepwise Feature Selection\n",
    "# lr = linear_model.LinearRegression()\n",
    "\n",
    "# sfs = SFS(lr, \n",
    "#           k_features = X.shape[1], # k_features has to be smaller or equal to the number of features. \n",
    "#                             # If equal to, it starts from\n",
    "#                             # intercept to the full model\n",
    "#           forward = True,\n",
    "#           floating = False, \n",
    "#           scoring = 'neg_mean_squared_error',\n",
    "#           cv = 10)  # cross validation\n",
    "\n",
    "# sfs = sfs.fit(X, Y)"
   ]
  },
  {
   "cell_type": "code",
   "execution_count": 31,
   "metadata": {},
   "outputs": [],
   "source": [
    "# fig = plot_sfs(sfs.get_metric_dict(), kind = 'std_err')\n",
    "# # Wide blue band --  different combinations of each number of features\n",
    "# # Dark blue dots -- average performance\n",
    "# fig.set_size_inches(18.5, 4, forward=True)\n",
    "# plt.title('Sequential Forward Selection (w. StdErr)')\n",
    "# plt.xticks(fontsize = 'small', rotation = 90)\n",
    "# plt.axvline(x = 36)\n",
    "# plt.grid()\n",
    "# plt.show()"
   ]
  },
  {
   "cell_type": "markdown",
   "metadata": {},
   "source": [
    "From the above plot, it seems that when the number of features is about 36 the performance stops increasing."
   ]
  },
  {
   "cell_type": "code",
   "execution_count": 32,
   "metadata": {},
   "outputs": [
    {
     "name": "stdout",
     "output_type": "stream",
     "text": [
      "Features selected by Forward Stepwise Feature Selection:\n",
      "(0, 2, 6, 21, 28, 35, 45, 47, 48, 59, 62, 63, 68, 71, 90, 125, 129, 133, 180, 271, 319, 333, 407, 408, 417, 434, 446, 448, 470, 476, 477, 480, 487, 511, 519, 573)\n"
     ]
    }
   ],
   "source": [
    "# # If I took only 36 features, what would be the features selected\n",
    "# num_feat = 36\n",
    "# scores = sfs.get_metric_dict()[num_feat]\n",
    "# # Selected features\n",
    "print('Features selected by Forward Stepwise Feature Selection:')\n",
    "# farward_selected_features = scores['feature_names']\n",
    "\n",
    "# Hard-code selected features so that not to re-compute them in development\n",
    "farward_selected_features = (0, 2, 6, 21, 28, 35, 45, 47, 48, 59, 62, 63, 68, 71, 90,\n",
    "                             125, 129, 133, 180, 271, 319, 333, 407, 408, 417, 434,\n",
    "                             446, 448, 470, 476, 477, 480, 487, 511, 519, 573)\n",
    "print(farward_selected_features)"
   ]
  },
  {
   "cell_type": "code",
   "execution_count": 33,
   "metadata": {},
   "outputs": [
    {
     "name": "stdout",
     "output_type": "stream",
     "text": [
      "Features selected by Backward Variables Selection:\n",
      "[29, 33, 35, 44, 47, 61, 67, 96, 98, 117, 125, 126, 128, 129, 170, 181, 204, 302, 316, 333, 343, 407, 416, 443, 444, 446, 448, 459, 475, 477, 552, 559, 568, 571, 573, 585]\n"
     ]
    }
   ],
   "source": [
    "# # Recursive Feature Elimination for backward model selection\n",
    "# estimator = linear_model.LinearRegression()\n",
    "# selector = RFE(estimator, num_feat, step=1)#select 36 features. Step=1 means each step only remove 1 variable from the model\n",
    "# selector = selector.fit(X, Y)  # learn from dataset and do backward variable selection\n",
    "\n",
    "print('Features selected by Backward Variables Selection:')\n",
    "# backward_selected_features = X.columns[selector.support_]\n",
    "\n",
    "# Hard-code selected features so that not to re-compute them in development\n",
    "backward_selected_features = [ 29,  33,  35,  44,  47,  61,  67,  96,  98, 117, 125, 126, 128, 129,\n",
    "                              170, 181, 204, 302, 316, 333, 343, 407, 416, 443, 444, 446, 448, 459,\n",
    "                              475, 477, 552, 559, 568, 571, 573, 585]\n",
    "print(backward_selected_features)"
   ]
  },
  {
   "cell_type": "markdown",
   "metadata": {},
   "source": [
    "### Apply the LASSO regression method of feature selection "
   ]
  },
  {
   "cell_type": "code",
   "execution_count": 34,
   "metadata": {},
   "outputs": [
    {
     "name": "stdout",
     "output_type": "stream",
     "text": [
      "Feature names selected by LASSO:\n",
      "[0, 1, 2, 3, 21, 22, 23, 24, 55, 59, 88, 90, 162, 250, 271, 274, 294, 295, 296, 418, 419, 433, 439, 468, 482, 483, 484, 485, 486, 487, 488, 499, 500, 510, 511, 589]\n",
      "Number of features selected: 36\n"
     ]
    }
   ],
   "source": [
    "# # LASSO\n",
    "# alpha = 0.19 # Increasing alpha can shrink more variable coefficients to 0\n",
    "# clf = linear_model.Lasso(alpha=alpha)\n",
    "# clf.fit(X, Y)\n",
    "\n",
    "print('Feature names selected by LASSO:')\n",
    "# mask = (clf.coef_ != 0)\n",
    "# lasso_features = X.columns[mask]\n",
    "\n",
    "# Hard-code selected features so that not to re-compute them in development\n",
    "lasso_features = [  0,   1,   2,   3,  21,  22,  23,  24,  55,  59,  88,  90, 162, 250,\n",
    "                  271, 274, 294, 295, 296, 418, 419, 433, 439, 468, 482, 483, 484, 485,\n",
    "                  486, 487, 488, 499, 500, 510, 511, 589]\n",
    "print(lasso_features)\n",
    "print('Number of features selected:', len(lasso_features))"
   ]
  },
  {
   "cell_type": "markdown",
   "metadata": {},
   "source": [
    "### Take a set of the resulting three lists of selected features to get rid of duplicates"
   ]
  },
  {
   "cell_type": "code",
   "execution_count": 35,
   "metadata": {},
   "outputs": [
    {
     "name": "stdout",
     "output_type": "stream",
     "text": [
      "Number of unique features across the three lists: 90\n"
     ]
    }
   ],
   "source": [
    "final_features = set()\n",
    "for features_list in (backward_selected_features, farward_selected_features, lasso_features):\n",
    "    for feature_name in features_list:\n",
    "        final_features.add(feature_name)\n",
    "print('Number of unique features across the three lists:', len(final_features))"
   ]
  },
  {
   "cell_type": "code",
   "execution_count": 36,
   "metadata": {},
   "outputs": [
    {
     "name": "stdout",
     "output_type": "stream",
     "text": [
      "Training set shape after feature selection: (1253, 90)\n",
      "Testing set shape after feature selection: (314, 90)\n"
     ]
    }
   ],
   "source": [
    "final_features_list = list(final_features)\n",
    "X = X[final_features_list]\n",
    "XX = XX[final_features_list]\n",
    "print('Training set shape after feature selection:', X.shape)\n",
    "print('Testing set shape after feature selection:', XX.shape)"
   ]
  },
  {
   "cell_type": "markdown",
   "metadata": {},
   "source": [
    "### Standardize"
   ]
  },
  {
   "cell_type": "code",
   "execution_count": 37,
   "metadata": {},
   "outputs": [],
   "source": [
    "# z-scale the training and the testing sets\n",
    "scaler = StandardScaler()\n",
    "scaler.fit(X)  # Fit to training set X\n",
    "# X_scaled = scaler.transform(X) # --> array\n",
    "X_scaled = pd.DataFrame(scaler.transform(X), \n",
    "                        index = X.index,\n",
    "                        columns = X.columns)\n",
    "# XX_scaled = scaler.transform(XX)  # --> array\n",
    "XX_scaled = pd.DataFrame(scaler.transform(XX),\n",
    "                         index = XX.index,\n",
    "                         columns = XX.columns)"
   ]
  },
  {
   "cell_type": "markdown",
   "metadata": {},
   "source": [
    "### Handle the class imbalance problem\n",
    "\n",
    "Oversample the training set only, so that to avoid using information from the testing set to create synthetic observations."
   ]
  },
  {
   "cell_type": "code",
   "execution_count": 38,
   "metadata": {},
   "outputs": [
    {
     "name": "stdout",
     "output_type": "stream",
     "text": [
      "Distribution of target labels, 0s and 1s\n",
      "Training set shape Counter({0: 1162, 1: 91})\n",
      "Testing set shape Counter({0: 301, 1: 13})\n"
     ]
    }
   ],
   "source": [
    "print('Distribution of target labels, 0s and 1s')\n",
    "print('Training set shape {}'.format(Counter(Y)))\n",
    "print('Testing set shape {}'.format(Counter(YY)))"
   ]
  },
  {
   "cell_type": "code",
   "execution_count": 39,
   "metadata": {},
   "outputs": [
    {
     "data": {
      "text/plain": [
       "pandas.core.frame.DataFrame"
      ]
     },
     "execution_count": 39,
     "metadata": {},
     "output_type": "execute_result"
    }
   ],
   "source": [
    "type(X_scaled)"
   ]
  },
  {
   "cell_type": "code",
   "execution_count": 40,
   "metadata": {},
   "outputs": [
    {
     "name": "stdout",
     "output_type": "stream",
     "text": [
      "Distribution of target labels, 0s and 1s\n",
      "Resampled training set shape Counter({0: 1162, 1: 1162})\n"
     ]
    }
   ],
   "source": [
    "# Re-sample training data\n",
    "sm = SMOTE(random_state = 42)\n",
    "X_resample, Y_resample = sm.fit_sample(X_scaled, Y)\n",
    "print('Distribution of target labels, 0s and 1s')\n",
    "print('Resampled training set shape {}'.format(Counter(Y_resample)))"
   ]
  },
  {
   "cell_type": "markdown",
   "metadata": {},
   "source": [
    "### Final dataset"
   ]
  },
  {
   "cell_type": "code",
   "execution_count": 41,
   "metadata": {},
   "outputs": [
    {
     "name": "stdout",
     "output_type": "stream",
     "text": [
      "X scaled and over-sampled: <class 'numpy.ndarray'> (2324, 90)\n",
      "Y over-sampled: <class 'numpy.ndarray'> (2324,)\n",
      "XX scaled: <class 'pandas.core.frame.DataFrame'> (314, 90)\n",
      "YY: <class 'numpy.ndarray'> (314,)\n"
     ]
    }
   ],
   "source": [
    "# Training: X_resample, Y_resample\n",
    "# Testing: XX_scaled, YY\n",
    "print('X scaled and over-sampled:', type(X_resample), X_resample.shape)\n",
    "print('Y over-sampled:', type(Y_resample), Y_resample.shape)\n",
    "print('XX scaled:', type(XX_scaled), XX_scaled.shape)\n",
    "print('YY:', type(YY), YY.shape)"
   ]
  },
  {
   "cell_type": "markdown",
   "metadata": {},
   "source": [
    "## Milestone 1 Summary <a id='summary1'></a>"
   ]
  },
  {
   "cell_type": "markdown",
   "metadata": {},
   "source": [
    "The <b>initial dataset</b> contained <b>590 features</b>. After <b>removal of features with more than half values missing</b>, the number of features <b>reduced to 562</b>. The remaining missing values were imputed by using medians. Then I <b>removed constant-valued columns</b> (with standard deviation = 0) and <b>almost constant-valued columns</b> (with variance < 0.01). That reduced the number of features <b>to 275</b>.\n",
    "\n",
    "For <b>highly correlated features</b> and <b>features with a high mutual information score</b>, first I selected pairs of columns which had a correlation coefficient above 0.8 and pairs of columns which had a mutual information score above 0.9. Then I compared each column in the pairs to the target variable Y and removed that column which had a smaller impact on Y (either a smaller correlation coefficient or a smaller mutual information score, respectively). That <b>reduced the number of features to 173</b>.\n",
    "\n",
    "After that I applied <b>three feature selection methods</b> — Forward Stepwise Feature Selection, Backward Features Selection, and LASSO regression. By using these methods, I obtained three lists each containing 36 features. By taking a set of these three lists to remove duplicates I arrived at the <b>final dataset of 90 features</b> which are probably relevant for predicting the target label Y and which will be used in later models.\n",
    "\n",
    "[Back to top](#top)"
   ]
  },
  {
   "cell_type": "markdown",
   "metadata": {},
   "source": [
    "## Decision Tree"
   ]
  },
  {
   "cell_type": "code",
   "execution_count": 42,
   "metadata": {},
   "outputs": [],
   "source": [
    "# Re-name references to the training dataset for convenience\n",
    "X_train, y_train = X_resample, Y_resample\n",
    "# # Search for optimal model parameters for the decision tree\n",
    "# dt_parameters = {'criterion': ('gini', 'entropy'),\n",
    "#                  'max_depth': [2, 3, 4, 5, 6, 7, 8, 9, 10],\n",
    "#                  'min_samples_leaf': [4, 5, 6, 7],\n",
    "#                  'min_samples_split': [2, 3, 4, 5],\n",
    "#                 }\n",
    "# dtc = DecisionTreeClassifier()\n",
    "# gridsearch_dt_clf = GridSearchCV(dtc, dt_parameters, cv=5, scoring='recall_macro')\n",
    "# gridsearch_dt_clf.fit(X_train, y_train)\n",
    "# gridsearch_dt_clf.best_params_"
   ]
  },
  {
   "cell_type": "markdown",
   "metadata": {},
   "source": [
    "OUTPUT:\n",
    "\n",
    "default scoring\n",
    "\n",
    "{'criterion': 'entropy',<br/>\n",
    " 'max_depth': 10,<br/>\n",
    " 'min_samples_leaf': 7,<br/>\n",
    " 'min_samples_split': 2}\n",
    " \n",
    " scoring='recall_macro'\n",
    " \n",
    " {'criterion': 'entropy',<br/>\n",
    " 'max_depth': 10,<br/>\n",
    " 'min_samples_leaf': 6,<br/>\n",
    " 'min_samples_split': 4}"
   ]
  },
  {
   "cell_type": "markdown",
   "metadata": {},
   "source": [
    "## Random Forest"
   ]
  },
  {
   "cell_type": "code",
   "execution_count": 43,
   "metadata": {},
   "outputs": [],
   "source": [
    "# # Search for optimal model parameters for the random forest\n",
    "# rf_parameters = {'n_estimators': [10, 30, 50, 70, 90, 110],\n",
    "#                  'max_depth': [4, 5, 6, 7, 8, 9, 10, None],\n",
    "#                  'min_samples_leaf': [1, 3, 4, 5, 6, 7],\n",
    "#                  'min_samples_split': [2, 3, 4, 5],\n",
    "#                  'max_features': [2, 3, 4],\n",
    "#                 }\n",
    "# rfc = RandomForestClassifier()\n",
    "# gridsearch_rf_clf = GridSearchCV(rfc, rf_parameters, cv=5)\n",
    "# gridsearch_rf_clf.fit(X_train, y_train)\n",
    "# gridsearch_rf_clf.best_params_"
   ]
  },
  {
   "cell_type": "markdown",
   "metadata": {},
   "source": [
    "OUTPUT:\n",
    "    \n",
    "scoring='recall_macro'\n",
    "\n",
    "{'max_depth': None,<br/>\n",
    " 'max_features': 3,<br/>\n",
    " 'min_samples_leaf': 1,<br/>\n",
    " 'min_samples_split': 3,<br/>\n",
    " 'n_estimators': 90}\n",
    "\n",
    "default scoring\n",
    "\n",
    "{'max_depth': None,<br/>\n",
    " 'max_features': 2,<br/>\n",
    " 'min_samples_leaf': 1,<br/>\n",
    " 'min_samples_split': 2,<br/>\n",
    " 'n_estimators': 110}"
   ]
  },
  {
   "cell_type": "code",
   "execution_count": 44,
   "metadata": {},
   "outputs": [],
   "source": [
    "# # Search for optimal model parameters for the random forest\n",
    "# rf_parameters = {'n_estimators': [110, 120, 200],\n",
    "#                  'max_depth': [4, 5, 6, 7, 8, 9, 10, None],\n",
    "#                  'min_samples_leaf': [1, 3,  6, 7],\n",
    "#                  'min_samples_split': [2,  5],\n",
    "#                  'max_features': [2, 3, 4],\n",
    "#                 }\n",
    "# rfc = RandomForestClassifier()\n",
    "# gridsearch_rf_clf = GridSearchCV(rfc, rf_parameters, cv=5, scoring='recall_macro')\n",
    "# gridsearch_rf_clf.fit(X_train, y_train)\n",
    "# gridsearch_rf_clf.best_params_"
   ]
  },
  {
   "cell_type": "markdown",
   "metadata": {},
   "source": [
    "OUTPUT:\n",
    "\n",
    "scoring='recall_macro'\n",
    "\n",
    " {'max_depth': None,<br/>\n",
    " 'max_features': 2,<br/>\n",
    " 'min_samples_leaf': 1,<br/>\n",
    " 'min_samples_split': 2,<br/>\n",
    " 'n_estimators': 120}"
   ]
  },
  {
   "cell_type": "markdown",
   "metadata": {},
   "source": [
    "## Support Vector Classifier"
   ]
  },
  {
   "cell_type": "code",
   "execution_count": 45,
   "metadata": {
    "scrolled": true
   },
   "outputs": [],
   "source": [
    "# # Search for parameters\n",
    "\n",
    "# # LinearSVC\n",
    "# lin_svc_params = {'C': (0.01, 0.1, 1, 10, 100, 1000)} \n",
    "# lin_svc = svm.LinearSVC(class_weight = 'balanced', max_iter=3000)\n",
    "# gridseacrh_lin_svc = GridSearchCV(lin_svc, lin_svc_params, cv = 5)\n",
    "# gridseacrh_lin_svc.fit(X_train, y_train)\n",
    "# gridseacrh_lin_svc.best_params_"
   ]
  },
  {
   "cell_type": "markdown",
   "metadata": {},
   "source": [
    "OUTPUT: {'C': 10} but issued a failed-to-converge warning"
   ]
  },
  {
   "cell_type": "code",
   "execution_count": 46,
   "metadata": {},
   "outputs": [],
   "source": [
    "# # Parameters for SVC with kernel='linear'\n",
    "# svc_params = {'C': (0.01, 0.1, 1, 10, 100, 1000),\n",
    "#              'gamma': (0.001, 0.01, 1, 10, 100, 1000, 'scale')\n",
    "#              }\n",
    "# svc = svm.SVC(kernel='linear')\n",
    "# gridsearch_svc = GridSearchCV(svc, svc_params, cv = 5)\n",
    "# gridsearch_svc.fit(X_train, y_train)\n",
    "# gridsearch_svc.best_params_\n",
    "\n",
    "# THIS CODE SEEMS TO NEVER STOP"
   ]
  },
  {
   "cell_type": "code",
   "execution_count": 47,
   "metadata": {},
   "outputs": [],
   "source": [
    "# # Parameters for poly and rbf SVC\n",
    "# svc_params = {'C': (0.01, 0.1, 1, 10, 100, 1000),\n",
    "#               'kernel': ('poly', 'rbf'),\n",
    "#              'degree': (2, 3, 4),\n",
    "#              'gamma': (0.001, 0.01, 1, 10, 100, 1000, 'scale')\n",
    "#              }\n",
    "# svc = svm.SVC()\n",
    "# gridsearch_svc = GridSearchCV(svc, svc_params, cv = 5)\n",
    "# gridsearch_svc.fit(X_train, y_train)\n",
    "# gridsearch_svc.best_params_"
   ]
  },
  {
   "cell_type": "markdown",
   "metadata": {},
   "source": [
    "OUTPUT: \n",
    "\n",
    "default scoring and scoring='recall_macro'\n",
    "\n",
    "{'C': 1, 'degree': 4, 'gamma': 'scale', 'kernel': 'poly'}"
   ]
  },
  {
   "cell_type": "code",
   "execution_count": 48,
   "metadata": {},
   "outputs": [],
   "source": [
    "# # Try a higher degree for poly SVC\n",
    "# svc_params = {'C': (1, 1000),\n",
    "#              'degree': (4, 5),\n",
    "#              'gamma': (0.001, 1000, 'scale')\n",
    "#              }\n",
    "# svc = svm.SVC(kernel='poly')\n",
    "# gridsearch_svc = GridSearchCV(svc, svc_params, cv = 5)\n",
    "# gridsearch_svc.fit(X_train, y_train)\n",
    "# gridsearch_svc.best_params_"
   ]
  },
  {
   "cell_type": "markdown",
   "metadata": {},
   "source": [
    "OUTPUT: {'C': 1, 'degree': 4, 'gamma': 'scale'}"
   ]
  },
  {
   "cell_type": "markdown",
   "metadata": {},
   "source": [
    "### Train the models by using the parameters found by grid search"
   ]
  },
  {
   "cell_type": "code",
   "execution_count": 49,
   "metadata": {},
   "outputs": [],
   "source": [
    "# Decision tree\n",
    "np.random.seed(101) # Ensure the decision tree is deterministic\n",
    "dec_tree = DecisionTreeClassifier(criterion = 'entropy',\n",
    "                                       max_depth = 10,  # Limit the # of decision levels\n",
    "                                       min_samples_leaf = 6,  # Limit the # of examples for a leaf\n",
    "                                       min_samples_split = 4,  # Limit the # of examples for a split\n",
    "                                      ).fit(X_train, y_train)  \n",
    "\n",
    "# Random forest\n",
    "rf_clf = RandomForestClassifier(n_estimators = 110,  # Number of trees\n",
    "                                max_depth = None,\n",
    "                                min_samples_split = 2,  # Limit the # of examples for a split\n",
    "                                max_features = 2,  # Consider x features at each split\n",
    "                                random_state = 0,\n",
    "                                verbose = 0,\n",
    "                                min_samples_leaf = 1,\n",
    "                               ).fit(X_train, y_train)"
   ]
  },
  {
   "cell_type": "code",
   "execution_count": 50,
   "metadata": {},
   "outputs": [],
   "source": [
    "# Support vector classifier\n",
    "svc_clf = svm.SVC(kernel = 'poly',\n",
    "                  C = 1,\n",
    "                  gamma = 'scale',\n",
    "                  degree = 4,\n",
    "                  probability = True  # To enable predict_proba() method\n",
    "                 ).fit(X_train, y_train)"
   ]
  },
  {
   "cell_type": "markdown",
   "metadata": {},
   "source": [
    "### Make predictions and evaluate on the testing data"
   ]
  },
  {
   "cell_type": "code",
   "execution_count": 51,
   "metadata": {},
   "outputs": [],
   "source": [
    "# Re-name references to the testing set for convenience\n",
    "X_test, y_test = XX_scaled, YY\n",
    "# Make predictions\n",
    "y_dc_pred = dec_tree.predict(X_test)\n",
    "y_rf_pred = rf_clf.predict(X_test)\n",
    "y_svc_pred = svc_clf.predict(X_test)"
   ]
  },
  {
   "cell_type": "code",
   "execution_count": 52,
   "metadata": {},
   "outputs": [
    {
     "name": "stdout",
     "output_type": "stream",
     "text": [
      "Decision tree model's accuracy on testing data is: 83.12%\n"
     ]
    }
   ],
   "source": [
    "# Generate the accuracy score for the decision tree model on testing data\n",
    "acc_dec_tree = accuracy_score(y_test, y_dc_pred) * 100\n",
    "print(\"Decision tree model's accuracy on testing data is: {:.2f}%\".format(acc_dec_tree))"
   ]
  },
  {
   "cell_type": "code",
   "execution_count": 53,
   "metadata": {},
   "outputs": [
    {
     "name": "stdout",
     "output_type": "stream",
     "text": [
      "Random forest model's accuracy on testing data is: 95.54%\n"
     ]
    }
   ],
   "source": [
    "# Generate the accuracy score for the random forest model on testing data\n",
    "acc_random_forest = accuracy_score(y_test, y_rf_pred) * 100\n",
    "print(\"Random forest model's accuracy on testing data is: {:.2f}%\".format(acc_random_forest))"
   ]
  },
  {
   "cell_type": "code",
   "execution_count": 54,
   "metadata": {},
   "outputs": [
    {
     "name": "stdout",
     "output_type": "stream",
     "text": [
      "SVC's accuracy on testing data is: 95.54%\n"
     ]
    }
   ],
   "source": [
    "# Generate the accuracy score for the SVC model on testing data\n",
    "acc_svc = accuracy_score(y_test, y_svc_pred) * 100\n",
    "print(\"SVC's accuracy on testing data is: {:.2f}%\".format(acc_svc))"
   ]
  },
  {
   "cell_type": "markdown",
   "metadata": {},
   "source": [
    "### ... but Accuracy is not an appropriate measure to assess the model's performance in case of imbalanced datasets  "
   ]
  },
  {
   "cell_type": "markdown",
   "metadata": {},
   "source": [
    "### Print confusion matrices -- poor results on the rare positive class "
   ]
  },
  {
   "cell_type": "code",
   "execution_count": 55,
   "metadata": {},
   "outputs": [
    {
     "name": "stdout",
     "output_type": "stream",
     "text": [
      "Decision tree model confusion matrix\n"
     ]
    },
    {
     "data": {
      "text/html": [
       "<div>\n",
       "<style scoped>\n",
       "    .dataframe tbody tr th:only-of-type {\n",
       "        vertical-align: middle;\n",
       "    }\n",
       "\n",
       "    .dataframe tbody tr th {\n",
       "        vertical-align: top;\n",
       "    }\n",
       "\n",
       "    .dataframe thead th {\n",
       "        text-align: right;\n",
       "    }\n",
       "</style>\n",
       "<table border=\"1\" class=\"dataframe\">\n",
       "  <thead>\n",
       "    <tr style=\"text-align: right;\">\n",
       "      <th></th>\n",
       "      <th>Predicted 0</th>\n",
       "      <th>Predicted 1</th>\n",
       "    </tr>\n",
       "  </thead>\n",
       "  <tbody>\n",
       "    <tr>\n",
       "      <th>True 0</th>\n",
       "      <td>256</td>\n",
       "      <td>45</td>\n",
       "    </tr>\n",
       "    <tr>\n",
       "      <th>True 1</th>\n",
       "      <td>8</td>\n",
       "      <td>5</td>\n",
       "    </tr>\n",
       "  </tbody>\n",
       "</table>\n",
       "</div>"
      ],
      "text/plain": [
       "        Predicted 0  Predicted 1\n",
       "True 0          256           45\n",
       "True 1            8            5"
      ]
     },
     "execution_count": 55,
     "metadata": {},
     "output_type": "execute_result"
    }
   ],
   "source": [
    "print('Decision tree model confusion matrix')\n",
    "dec_tree_conf_matrix_obj = confusion_matrix(y_test, y_dc_pred)\n",
    "conf_matrix_dec_tree = pd.DataFrame(dec_tree_conf_matrix_obj,\n",
    "                                    columns = ['Predicted 0', 'Predicted 1'],\n",
    "                                    index = ['True 0', 'True 1']\n",
    "                                   )\n",
    "conf_matrix_dec_tree"
   ]
  },
  {
   "cell_type": "code",
   "execution_count": 56,
   "metadata": {},
   "outputs": [
    {
     "name": "stdout",
     "output_type": "stream",
     "text": [
      "Random forest model confusion matrix\n"
     ]
    },
    {
     "data": {
      "text/html": [
       "<div>\n",
       "<style scoped>\n",
       "    .dataframe tbody tr th:only-of-type {\n",
       "        vertical-align: middle;\n",
       "    }\n",
       "\n",
       "    .dataframe tbody tr th {\n",
       "        vertical-align: top;\n",
       "    }\n",
       "\n",
       "    .dataframe thead th {\n",
       "        text-align: right;\n",
       "    }\n",
       "</style>\n",
       "<table border=\"1\" class=\"dataframe\">\n",
       "  <thead>\n",
       "    <tr style=\"text-align: right;\">\n",
       "      <th></th>\n",
       "      <th>Predicted 0</th>\n",
       "      <th>Predicted 1</th>\n",
       "    </tr>\n",
       "  </thead>\n",
       "  <tbody>\n",
       "    <tr>\n",
       "      <th>True 0</th>\n",
       "      <td>300</td>\n",
       "      <td>1</td>\n",
       "    </tr>\n",
       "    <tr>\n",
       "      <th>True 1</th>\n",
       "      <td>13</td>\n",
       "      <td>0</td>\n",
       "    </tr>\n",
       "  </tbody>\n",
       "</table>\n",
       "</div>"
      ],
      "text/plain": [
       "        Predicted 0  Predicted 1\n",
       "True 0          300            1\n",
       "True 1           13            0"
      ]
     },
     "execution_count": 56,
     "metadata": {},
     "output_type": "execute_result"
    }
   ],
   "source": [
    "print('Random forest model confusion matrix')\n",
    "rf_conf_matrix_obj = confusion_matrix(y_test, y_rf_pred)\n",
    "conf_matrix_rf = pd.DataFrame(rf_conf_matrix_obj,\n",
    "                              columns = ['Predicted 0', 'Predicted 1'],\n",
    "                              index = ['True 0', 'True 1']\n",
    "                             )\n",
    "conf_matrix_rf"
   ]
  },
  {
   "cell_type": "code",
   "execution_count": 57,
   "metadata": {},
   "outputs": [
    {
     "name": "stdout",
     "output_type": "stream",
     "text": [
      "SVC confusion matrix\n"
     ]
    },
    {
     "data": {
      "text/html": [
       "<div>\n",
       "<style scoped>\n",
       "    .dataframe tbody tr th:only-of-type {\n",
       "        vertical-align: middle;\n",
       "    }\n",
       "\n",
       "    .dataframe tbody tr th {\n",
       "        vertical-align: top;\n",
       "    }\n",
       "\n",
       "    .dataframe thead th {\n",
       "        text-align: right;\n",
       "    }\n",
       "</style>\n",
       "<table border=\"1\" class=\"dataframe\">\n",
       "  <thead>\n",
       "    <tr style=\"text-align: right;\">\n",
       "      <th></th>\n",
       "      <th>Predicted 0</th>\n",
       "      <th>Predicted 1</th>\n",
       "    </tr>\n",
       "  </thead>\n",
       "  <tbody>\n",
       "    <tr>\n",
       "      <th>True 0</th>\n",
       "      <td>300</td>\n",
       "      <td>1</td>\n",
       "    </tr>\n",
       "    <tr>\n",
       "      <th>True 1</th>\n",
       "      <td>13</td>\n",
       "      <td>0</td>\n",
       "    </tr>\n",
       "  </tbody>\n",
       "</table>\n",
       "</div>"
      ],
      "text/plain": [
       "        Predicted 0  Predicted 1\n",
       "True 0          300            1\n",
       "True 1           13            0"
      ]
     },
     "execution_count": 57,
     "metadata": {},
     "output_type": "execute_result"
    }
   ],
   "source": [
    "print('SVC confusion matrix')\n",
    "svc_conf_matrix_obj = confusion_matrix(y_test, y_svc_pred)\n",
    "conf_matrix_svc = pd.DataFrame(svc_conf_matrix_obj,\n",
    "                              columns = ['Predicted 0', 'Predicted 1'],\n",
    "                              index = ['True 0', 'True 1']\n",
    "                             )\n",
    "conf_matrix_svc"
   ]
  },
  {
   "cell_type": "markdown",
   "metadata": {},
   "source": [
    "### Classification reports"
   ]
  },
  {
   "cell_type": "code",
   "execution_count": 58,
   "metadata": {
    "scrolled": false
   },
   "outputs": [
    {
     "name": "stdout",
     "output_type": "stream",
     "text": [
      "Decision tree report\n",
      "              precision    recall  f1-score   support\n",
      "\n",
      "           0       0.97      0.85      0.91       301\n",
      "           1       0.10      0.38      0.16        13\n",
      "\n",
      "    accuracy                           0.83       314\n",
      "   macro avg       0.53      0.62      0.53       314\n",
      "weighted avg       0.93      0.83      0.88       314\n",
      "\n"
     ]
    }
   ],
   "source": [
    "print('Decision tree report')\n",
    "print(classification_report(y_test, y_dc_pred))"
   ]
  },
  {
   "cell_type": "code",
   "execution_count": 59,
   "metadata": {
    "scrolled": true
   },
   "outputs": [
    {
     "name": "stdout",
     "output_type": "stream",
     "text": [
      "Random forest report\n",
      "              precision    recall  f1-score   support\n",
      "\n",
      "           0       0.96      1.00      0.98       301\n",
      "           1       0.00      0.00      0.00        13\n",
      "\n",
      "    accuracy                           0.96       314\n",
      "   macro avg       0.48      0.50      0.49       314\n",
      "weighted avg       0.92      0.96      0.94       314\n",
      "\n"
     ]
    }
   ],
   "source": [
    "print('Random forest report')\n",
    "print(classification_report(y_test, y_rf_pred))"
   ]
  },
  {
   "cell_type": "code",
   "execution_count": 60,
   "metadata": {},
   "outputs": [
    {
     "name": "stdout",
     "output_type": "stream",
     "text": [
      "SVC report\n",
      "              precision    recall  f1-score   support\n",
      "\n",
      "           0       0.96      1.00      0.98       301\n",
      "           1       0.00      0.00      0.00        13\n",
      "\n",
      "    accuracy                           0.96       314\n",
      "   macro avg       0.48      0.50      0.49       314\n",
      "weighted avg       0.92      0.96      0.94       314\n",
      "\n"
     ]
    }
   ],
   "source": [
    "print('SVC report')\n",
    "print(classification_report(y_test, y_svc_pred))"
   ]
  },
  {
   "cell_type": "markdown",
   "metadata": {},
   "source": [
    "### Plot the ROC curve to compare the models"
   ]
  },
  {
   "cell_type": "code",
   "execution_count": 61,
   "metadata": {
    "scrolled": true
   },
   "outputs": [
    {
     "data": {
      "image/png": "[encoded data removed]",
      "text/plain": [
       "<Figure size 432x288 with 1 Axes>"
      ]
     },
     "metadata": {
      "needs_background": "light"
     },
     "output_type": "display_data"
    }
   ],
   "source": [
    "# Decision tree\n",
    "y_pred_dt = dec_tree.predict_proba(X_test.values)[:, 1]\n",
    "fpr_dt, tpr_dt, _ = metrics.roc_curve(y_test.astype(int), y_pred_dt)\n",
    "auc_dt = metrics.auc(fpr_dt, tpr_dt)\n",
    "\n",
    "# Random forest\n",
    "y_pred_rf = rf_clf.predict_proba(X_test.values)[:, 1]  # proba for positive class\n",
    "fpr_rf, tpr_rf, _ = metrics.roc_curve(y_test.astype(int), y_pred_rf)\n",
    "auc_rf = metrics.auc(fpr_rf, tpr_rf)\n",
    "\n",
    "# Support vector classifier\n",
    "y_pred_svc = svc_clf.predict_proba(X_test.values)[:, 1]\n",
    "fpr_svc, tpr_svc, _ = metrics.roc_curve(y_test.astype(int), y_pred_svc)\n",
    "auc_svc = metrics.auc(fpr_svc, tpr_svc)\n",
    "\n",
    "plt.figure()\n",
    "# reference line for random classifier\n",
    "plt.plot([0, 1], [0, 1], color='navy', linestyle='--', label = 'Random classifier')\n",
    "plt.plot(fpr_dt, tpr_dt, label='Decision tree, AUC={:.2f}'.format(auc_dt))\n",
    "plt.plot(fpr_rf, tpr_rf, label='Random forest, AUC={:.2f}'.format(auc_rf))\n",
    "plt.plot(fpr_svc, tpr_svc, label='SVC, AUC={:.2f}'.format(auc_svc))\n",
    "plt.xlabel('FALSE Positive Rate')\n",
    "plt.ylabel('TRUE Positive Rate')\n",
    "plt.title('ROC curves')\n",
    "plt.legend(loc='lower right')\n",
    "plt.show()"
   ]
  },
  {
   "cell_type": "markdown",
   "metadata": {},
   "source": [
    "## Milestone 2 Summary <a id='summary2'></a>\n",
    "\n",
    "I built three models - a Decision Tree, a Random Forest, and an SVC, to predict faulty products, that is the rare positive class in the dataset. I have commented out some code in the notebook and hard-coded the results of calculations because otherwise the execution time is too long.\n",
    "\n",
    "Parameters for the models were found by grid search.\n",
    "\n",
    "The ability of the models to correctly predict the rare class on the testing data is very low. The Decision Tree has recall of 0.38 (by correctly predicting 5 positive cases out of 13), while both the Random Forest and the SVC fail to predict correctly any positive cases. \n",
    "\n",
    "As can be seen on the ROC curve chart above, the areas under curve of all the three models are not very different from each other and the curves are only slightly higher than the reference line for a random classifier.\n",
    "\n",
    "I suppose there can be many reasons for this poor performance, from methodological errors to the inappropriateness of the data itself.\n",
    "\n",
    "[Back to top](#top)"
   ]
  },
  {
   "cell_type": "markdown",
   "metadata": {},
   "source": [
    "# Milestone 3\n",
    "\n",
    "## Simple Neural Networks Model - Single-layer Perceptron <a id='slp'></a>"
   ]
  },
  {
   "cell_type": "markdown",
   "metadata": {},
   "source": [
    "Useful links:\n",
    "\n",
    "https://www.tensorflow.org/guide/keras\n",
    "\n",
    "https://keras.io/getting-started/sequential-model-guide/\n",
    "\n",
    "Multilayer Perceptron (MLP) for binary classification\n",
    "\n",
    "https://www.tensorflow.org/tutorials/keras/overfit_and_underfit"
   ]
  },
  {
   "cell_type": "code",
   "execution_count": 62,
   "metadata": {},
   "outputs": [],
   "source": [
    "import numpy as np\n",
    "import tensorflow as tf\n",
    "from tensorflow import keras"
   ]
  },
  {
   "cell_type": "markdown",
   "metadata": {},
   "source": [
    "A reminder regarding the shape of my data:\n",
    "```\n",
    "X_train (2324, 90) <class 'numpy.ndarray'>\n",
    "y_train (2324,) <class 'numpy.ndarray'> Counter({0: 1162, 1: 1162})\n",
    "X_test (314, 90) <class 'pandas.core.frame.DataFrame'>\n",
    "y_test (314,) <class 'numpy.ndarray'> Counter({0: 301, 1: 13})\n",
    "```"
   ]
  },
  {
   "cell_type": "markdown",
   "metadata": {},
   "source": [
    "A limited grid search can be done as follows:\n",
    "```python\n",
    "def create_model():\n",
    "    \"\"\"Return a model for grid search.\"\"\"\n",
    "    slp_model = keras.models.Sequential([\n",
    "        keras.layers.Dense(64, input_dim=90, activation='relu'),  # one input layer\n",
    "        keras.layers.Dropout(0.1),\n",
    "        keras.layers.Dense(1, activation=tf.nn.sigmoid)           # one output layer\n",
    "    ])\n",
    "    \n",
    "    slp_model.compile(optimizer='adam',\n",
    "                  loss='binary_crossentropy',\n",
    "                  metrics=['accuracy', 'binary_crossentropy'])\n",
    "    \n",
    "    return slp_model\n",
    "\n",
    "model = keras.wrappers.scikit_learn.KerasClassifier(build_fn=create_model)\n",
    "param_grid = dict(epochs=[20,30,40], batch_size=[10, 20, 40, 60, 80, 100])\n",
    "grid = GridSearchCV(estimator=model, param_grid=param_grid)\n",
    "grid_result = grid.fit(X_train, y_train, verbose=0)\n",
    "grid_result.best_params_\n",
    "\n",
    "{'batch_size': 10, 'epochs': 40}\n",
    "```"
   ]
  },
  {
   "cell_type": "code",
   "execution_count": 63,
   "metadata": {},
   "outputs": [],
   "source": [
    "def run_slp():\n",
    "    \"\"\"Return predictions from a single run of perceptron.\"\"\"\n",
    "    slp_model = keras.models.Sequential([\n",
    "        keras.layers.Dense(64, input_dim=90, activation='relu'),  # one input layer\n",
    "        keras.layers.Dense(1, activation=tf.nn.sigmoid)           # one output layer\n",
    "    ])\n",
    "\n",
    "    slp_model.compile(optimizer='adam',\n",
    "                      loss='binary_crossentropy',\n",
    "                      metrics=['accuracy', 'binary_crossentropy'])\n",
    "\n",
    "    slp_model.fit(X_train, \n",
    "                  y_train,\n",
    "                  epochs=40,\n",
    "                  batch_size=10,\n",
    "                  validation_split=0.1,\n",
    "                  verbose=0\n",
    "                 )\n",
    "\n",
    "    slp_predictions = slp_model.predict(X_test)\n",
    "    \n",
    "    return slp_predictions"
   ]
  },
  {
   "cell_type": "code",
   "execution_count": 64,
   "metadata": {
    "scrolled": true
   },
   "outputs": [
    {
     "name": "stdout",
     "output_type": "stream",
     "text": [
      "WARNING:tensorflow:From /anaconda3/lib/python3.6/site-packages/tensorflow/python/ops/resource_variable_ops.py:435: colocate_with (from tensorflow.python.framework.ops) is deprecated and will be removed in a future version.\n",
      "Instructions for updating:\n",
      "Colocations handled automatically by placer.\n",
      "WARNING:tensorflow:From /anaconda3/lib/python3.6/site-packages/tensorflow/python/ops/math_ops.py:3066: to_int32 (from tensorflow.python.ops.math_ops) is deprecated and will be removed in a future version.\n",
      "Instructions for updating:\n",
      "Use tf.cast instead.\n",
      "              0          mean\n",
      "0  5.215406e-06  5.215406e-06\n",
      "1  5.960464e-08  5.960464e-08\n",
      "2  2.533197e-06  2.533197e-06\n",
      "3  2.129972e-04  2.129972e-04\n",
      "4  3.784895e-06  3.784895e-06\n",
      "SLP classification report\n",
      "              precision    recall  f1-score   support\n",
      "\n",
      "           0       0.96      0.94      0.95       301\n",
      "           1       0.05      0.08      0.06        13\n",
      "\n",
      "    accuracy                           0.90       314\n",
      "   macro avg       0.51      0.51      0.51       314\n",
      "weighted avg       0.92      0.90      0.91       314\n",
      "\n",
      "SLP confusion matrix\n"
     ]
    },
    {
     "data": {
      "text/html": [
       "<div>\n",
       "<style scoped>\n",
       "    .dataframe tbody tr th:only-of-type {\n",
       "        vertical-align: middle;\n",
       "    }\n",
       "\n",
       "    .dataframe tbody tr th {\n",
       "        vertical-align: top;\n",
       "    }\n",
       "\n",
       "    .dataframe thead th {\n",
       "        text-align: right;\n",
       "    }\n",
       "</style>\n",
       "<table border=\"1\" class=\"dataframe\">\n",
       "  <thead>\n",
       "    <tr style=\"text-align: right;\">\n",
       "      <th></th>\n",
       "      <th>Predicted 0</th>\n",
       "      <th>Predicted 1</th>\n",
       "    </tr>\n",
       "  </thead>\n",
       "  <tbody>\n",
       "    <tr>\n",
       "      <th>True 0</th>\n",
       "      <td>283</td>\n",
       "      <td>18</td>\n",
       "    </tr>\n",
       "    <tr>\n",
       "      <th>True 1</th>\n",
       "      <td>12</td>\n",
       "      <td>1</td>\n",
       "    </tr>\n",
       "  </tbody>\n",
       "</table>\n",
       "</div>"
      ],
      "text/plain": [
       "        Predicted 0  Predicted 1\n",
       "True 0          283           18\n",
       "True 1           12            1"
      ]
     },
     "execution_count": 64,
     "metadata": {},
     "output_type": "execute_result"
    }
   ],
   "source": [
    "# Generate several arrays of predictions -- see results for 10 runs below\n",
    "slp_predictions = []\n",
    "num_runs = 1  # make it 1 for submission so that the code runs fast\n",
    "for i in range(num_runs):\n",
    "    slp_predictions.append(run_slp())\n",
    "\n",
    "# Calculate the mean of the predictions\n",
    "all_predictions = np.concatenate(slp_predictions, axis=1)\n",
    "slp_pred_df = pd.DataFrame(data=all_predictions,\n",
    "                           index=np.arange(all_predictions.shape[0]),\n",
    "                           columns=np.arange(all_predictions.shape[1])\n",
    "                          )\n",
    "slp_pred_df['mean'] = np.mean(slp_pred_df.loc[:, :], axis=1)\n",
    "print(slp_pred_df.head())\n",
    "\n",
    "# Get classifications\n",
    "slp_classifications = np.where(slp_pred_df['mean'] >= 0.5, 1, 0)\n",
    "\n",
    "print('SLP classification report')\n",
    "print(classification_report(y_test, slp_classifications))\n",
    "\n",
    "print('SLP confusion matrix')\n",
    "slp_conf_matrix_obj = confusion_matrix(y_test, slp_classifications)\n",
    "conf_matrix_slp = pd.DataFrame(slp_conf_matrix_obj,\n",
    "                              columns = ['Predicted 0', 'Predicted 1'],\n",
    "                              index = ['True 0', 'True 1']\n",
    "                             )\n",
    "conf_matrix_slp"
   ]
  },
  {
   "cell_type": "markdown",
   "metadata": {},
   "source": [
    "<b>Average results for 10 runs for an SLP model</b>:\n",
    "\n",
    "                   precision    recall  f1-score   support\n",
    "\n",
    "               0       0.96      0.95      0.96       301\n",
    "               1       0.12      0.15      0.13        13\n",
    "\n",
    "        accuracy                           0.92       314\n",
    "       macro avg       0.54      0.55      0.54       314\n",
    "    weighted avg       0.93      0.92      0.92       314\n",
    "\n",
    "SLP confusion matrix\n",
    "\n",
    "    Predicted 0\tPredicted 1\n",
    "\n",
    "    True 0\t286\t15\n",
    "\n",
    "    True 1\t11\t2"
   ]
  },
  {
   "cell_type": "markdown",
   "metadata": {},
   "source": [
    "##  Deep Neural Network (DNN) model - Multilayer Perceptron (MLP) <a id='mlp'></a>"
   ]
  },
  {
   "cell_type": "code",
   "execution_count": 65,
   "metadata": {},
   "outputs": [],
   "source": [
    "def run_mlp():\n",
    "    \"\"\"Return predictions from a single run of MLP.\"\"\"\n",
    "    mlp_model = keras.models.Sequential([\n",
    "        keras.layers.Dense(64, input_dim=90, activation='relu'),  # Input layer\n",
    "#         keras.layers.Dropout(0.5),                                \n",
    "        keras.layers.Dense(64, activation='relu'),                # Hidden layer\n",
    "        keras.layers.Dense(1, activation=tf.nn.sigmoid)           # Output layer\n",
    "    ])\n",
    "\n",
    "    mlp_model.compile(optimizer='adam',\n",
    "                      loss='binary_crossentropy',\n",
    "                      metrics=['accuracy', 'binary_crossentropy'])\n",
    "\n",
    "    mlp_model.fit(X_train, \n",
    "                  y_train,\n",
    "                  epochs=20,\n",
    "                  batch_size=32,\n",
    "                  validation_split=0.1,\n",
    "                  verbose=0\n",
    "                 )\n",
    "\n",
    "    mlp_predictions = mlp_model.predict(X_test)\n",
    "    \n",
    "    return mlp_predictions"
   ]
  },
  {
   "cell_type": "code",
   "execution_count": 81,
   "metadata": {
    "scrolled": true
   },
   "outputs": [
    {
     "name": "stdout",
     "output_type": "stream",
     "text": [
      "              0             1         2             3         4             5  \\\n",
      "0  1.478791e-04  1.648068e-05  0.000016  2.125204e-04  0.000022  4.280508e-04   \n",
      "1  0.000000e+00  5.960464e-08  0.000000  8.940697e-08  0.000000  0.000000e+00   \n",
      "2  2.564579e-03  2.583861e-05  0.008973  1.657605e-04  0.000181  6.854534e-07   \n",
      "3  5.662441e-07  1.400709e-06  0.003397  5.725026e-05  0.001931  5.453825e-06   \n",
      "4  1.192093e-07  0.000000e+00  0.000003  3.334880e-05  0.013774  2.834797e-04   \n",
      "\n",
      "              6             7             8             9          mean  \n",
      "0  3.039837e-06  2.682209e-07  3.206730e-05  6.526709e-05  9.430051e-05  \n",
      "1  5.960464e-08  0.000000e+00  1.192093e-07  1.788139e-07  5.066395e-08  \n",
      "2  6.341934e-05  6.854534e-07  3.081560e-05  4.231930e-06  1.200923e-03  \n",
      "3  5.203992e-03  1.117885e-04  3.856421e-05  9.199083e-04  1.166731e-03  \n",
      "4  7.465482e-05  6.347895e-06  4.226565e-04  1.475215e-05  1.461187e-03  \n",
      "MLP classification report\n",
      "              precision    recall  f1-score   support\n",
      "\n",
      "           0       0.96      0.95      0.95       301\n",
      "           1       0.11      0.15      0.13        13\n",
      "\n",
      "    accuracy                           0.91       314\n",
      "   macro avg       0.54      0.55      0.54       314\n",
      "weighted avg       0.93      0.91      0.92       314\n",
      "\n",
      "MLP confusion matrix\n"
     ]
    },
    {
     "data": {
      "text/html": [
       "<div>\n",
       "<style scoped>\n",
       "    .dataframe tbody tr th:only-of-type {\n",
       "        vertical-align: middle;\n",
       "    }\n",
       "\n",
       "    .dataframe tbody tr th {\n",
       "        vertical-align: top;\n",
       "    }\n",
       "\n",
       "    .dataframe thead th {\n",
       "        text-align: right;\n",
       "    }\n",
       "</style>\n",
       "<table border=\"1\" class=\"dataframe\">\n",
       "  <thead>\n",
       "    <tr style=\"text-align: right;\">\n",
       "      <th></th>\n",
       "      <th>Predicted 0</th>\n",
       "      <th>Predicted 1</th>\n",
       "    </tr>\n",
       "  </thead>\n",
       "  <tbody>\n",
       "    <tr>\n",
       "      <th>True 0</th>\n",
       "      <td>285</td>\n",
       "      <td>16</td>\n",
       "    </tr>\n",
       "    <tr>\n",
       "      <th>True 1</th>\n",
       "      <td>11</td>\n",
       "      <td>2</td>\n",
       "    </tr>\n",
       "  </tbody>\n",
       "</table>\n",
       "</div>"
      ],
      "text/plain": [
       "        Predicted 0  Predicted 1\n",
       "True 0          285           16\n",
       "True 1           11            2"
      ]
     },
     "execution_count": 81,
     "metadata": {},
     "output_type": "execute_result"
    }
   ],
   "source": [
    "# Generate several arrays of predictions -- see average results for 10 runs below\n",
    "mlp_predictions = []\n",
    "num_runs = 1  # make it 1 for submission so that the code runs fast\n",
    "for i in range(num_runs):\n",
    "    mlp_predictions.append(run_mlp())\n",
    "\n",
    "# Calculate the mean of the predictions\n",
    "all_predictions_mlp = np.concatenate(mlp_predictions, axis=1)\n",
    "mlp_pred_df = pd.DataFrame(data=all_predictions_mlp,\n",
    "                           index=np.arange(all_predictions_mlp.shape[0]),\n",
    "                           columns=np.arange(all_predictions_mlp.shape[1])\n",
    "                          )\n",
    "mlp_pred_df['mean'] = np.mean(mlp_pred_df.loc[:, :], axis=1)\n",
    "print(mlp_pred_df.head())\n",
    "\n",
    "# Get classifications\n",
    "mlp_classifications = np.where(mlp_pred_df['mean'] >= 0.5, 1, 0)\n",
    "\n",
    "print('MLP classification report')\n",
    "print(classification_report(y_test, mlp_classifications))\n",
    "\n",
    "print('MLP confusion matrix')\n",
    "mlp_conf_matrix_obj = confusion_matrix(y_test, mlp_classifications)\n",
    "conf_matrix_mlp = pd.DataFrame(mlp_conf_matrix_obj,\n",
    "                              columns = ['Predicted 0', 'Predicted 1'],\n",
    "                              index = ['True 0', 'True 1']\n",
    "                             )\n",
    "conf_matrix_mlp"
   ]
  },
  {
   "cell_type": "markdown",
   "metadata": {},
   "source": [
    "<b>Average results for 10 runs of an MLP model</b>\n",
    "\n",
    "MLP classification report\n",
    "\n",
    "                      precision    recall  f1-score   support\n",
    "\n",
    "               0       0.96      0.95      0.96       301\n",
    "               1       0.12      0.15      0.13        13\n",
    "    \n",
    "        accuracy                           0.92       314\n",
    "       macro avg       0.54      0.55      0.54       314\n",
    "    weighted avg       0.93      0.92      0.92       314\n",
    "\n",
    "MLP confusion matrix\n",
    "\n",
    "    Predicted 0\tPredicted 1\n",
    "\n",
    "    True 0\t286\t15\n",
    "\n",
    "    True 1\t11\t2\n"
   ]
  },
  {
   "cell_type": "markdown",
   "metadata": {},
   "source": [
    "## RNN model <a id='rnn'></a>"
   ]
  },
  {
   "cell_type": "markdown",
   "metadata": {},
   "source": [
    "References re. how to transform data for RNN modeling:\n",
    "\n",
    "https://www.kaggle.com/amirrezaeian/time-series-data-analysis-using-lstm-tutorial\n",
    "\n",
    "https://machinelearningmastery.com/convert-time-series-supervised-learning-problem-python/"
   ]
  },
  {
   "cell_type": "code",
   "execution_count": 67,
   "metadata": {},
   "outputs": [],
   "source": [
    "# Split the data containing the selected features into training & testing \n",
    "reduced_prod_df = production_df[final_features_list]\n",
    "train_X, test_X = reduced_prod_df.iloc[:1200, :], reduced_prod_df.iloc[1200:, :]"
   ]
  },
  {
   "cell_type": "code",
   "execution_count": 68,
   "metadata": {},
   "outputs": [
    {
     "name": "stdout",
     "output_type": "stream",
     "text": [
      "IMPUTING OUTLIERS\n",
      "Done\n",
      "IMPUTING OUTLIERS\n",
      "Done\n",
      "Number of missing values in training set X: 1144\n",
      "IMPUTING MISSING VALUES\n",
      "Number of missing values in training set X: 0\n",
      "Number of missing values in testing set XX: 640\n",
      "IMPUTING MISSING VALUES\n",
      "Number of missing values in testing set XX: 0\n",
      "(1200, 90) (367, 90)\n"
     ]
    }
   ],
   "source": [
    "# Impute outliers and missing values\n",
    "train_X, test_X = prepare_data(['impute_outliers', 'impute_missing'],\n",
    "                               train_X,\n",
    "                               test_X)\n",
    "print(train_X.shape, test_X.shape) "
   ]
  },
  {
   "cell_type": "code",
   "execution_count": 69,
   "metadata": {},
   "outputs": [],
   "source": [
    "# z-scale the training and the testing sets\n",
    "scaler = StandardScaler()\n",
    "scaler.fit(train_X)  # Fit to training set X\n",
    "train_X = pd.DataFrame(scaler.transform(train_X),\n",
    "                       index = train_X.index,\n",
    "                       columns = train_X.columns)\n",
    "test_X = pd.DataFrame(scaler.transform(test_X),\n",
    "                      index = test_X.index,\n",
    "                      columns = test_X.columns)"
   ]
  },
  {
   "cell_type": "code",
   "execution_count": 70,
   "metadata": {},
   "outputs": [],
   "source": [
    "from pandas import DataFrame\n",
    "from pandas import concat\n",
    "\n",
    "# Source: see above\n",
    "\n",
    "def series_to_supervised(data, n_in=1, n_out=1, dropnan=True):\n",
    "    \"\"\"\n",
    "    Frame a time series as a supervised learning dataset.\n",
    "    Arguments:\n",
    "        data: Sequence of observations as a list or NumPy array.\n",
    "        n_in: Number of lag observations as input (X).\n",
    "        n_out: Number of observations as output (y).\n",
    "        dropnan: Boolean whether or not to drop rows with NaN values.\n",
    "    Returns:\n",
    "        Pandas DataFrame of series framed for supervised learning.\n",
    "    \"\"\"\n",
    "    n_vars = 1 if type(data) is list else data.shape[1]\n",
    "    df = DataFrame(data)\n",
    "    cols, names = list(), list()\n",
    "    # input sequence (t-n, ... t-1)\n",
    "    for i in range(n_in, 0, -1):\n",
    "        cols.append(df.shift(i))\n",
    "        names += [('var%d(t-%d)' % (j+1, i)) for j in range(n_vars)]\n",
    "    # forecast sequence (t, t+1, ... t+n)\n",
    "    for i in range(0, n_out):\n",
    "        cols.append(df.shift(-i))\n",
    "        if i == 0:\n",
    "            names += [('var%d(t)' % (j+1)) for j in range(n_vars)]\n",
    "        else:\n",
    "            names += [('var%d(t+%d)' % (j+1, i)) for j in range(n_vars)]\n",
    "    # put it all together\n",
    "    agg = concat(cols, axis=1)\n",
    "    agg.columns = names\n",
    "    # drop rows with NaN values\n",
    "    if dropnan:\n",
    "        agg.dropna(inplace=True)\n",
    "    return agg"
   ]
  },
  {
   "cell_type": "code",
   "execution_count": 71,
   "metadata": {},
   "outputs": [],
   "source": [
    "# Tranform data to a format appropriate for RNN\n",
    "train_X = series_to_supervised(train_X.values, 1, 1)\n",
    "test_X = series_to_supervised(test_X.values, 1, 1)"
   ]
  },
  {
   "cell_type": "code",
   "execution_count": 72,
   "metadata": {},
   "outputs": [
    {
     "name": "stdout",
     "output_type": "stream",
     "text": [
      "(1199, 180) (1200,) (366, 180) (367,)\n"
     ]
    }
   ],
   "source": [
    "# Split labels into training & testing sets\n",
    "train_y, test_y = production_df.iloc[:1200, -1], production_df.iloc[1200:, -1]\n",
    "print(train_X.shape, train_y.shape, test_X.shape, test_y.shape) "
   ]
  },
  {
   "cell_type": "code",
   "execution_count": 73,
   "metadata": {},
   "outputs": [
    {
     "name": "stdout",
     "output_type": "stream",
     "text": [
      "Distribution of pass/fail labels in the training set\n",
      "Pass labels -1: 1118 cases\n",
      "Fail labels 1: 82 cases\n",
      "Distribution of pass/fail labels in the testing set\n",
      "Pass labels -1: 345 cases\n",
      "Fail labels 1: 22 cases\n"
     ]
    }
   ],
   "source": [
    "# Distribution of positive and negative cases in the train and test data\n",
    "train_y = train_y.astype(int)\n",
    "mask_neg_outcome_Y = (train_y == -1)  # --> bool array\n",
    "pos_outcome  = (train_y == 1)\n",
    "print('Distribution of pass/fail labels in the training set')\n",
    "print('Pass labels -1:', sum(mask_neg_outcome_Y), 'cases')\n",
    "print('Fail labels 1:', sum(pos_outcome), 'cases')\n",
    "\n",
    "test_y = test_y.astype(int)\n",
    "mask_neg_outcome_y = (test_y == -1)  # --> bool array\n",
    "pos_outcome  = (test_y == 1)\n",
    "print('Distribution of pass/fail labels in the testing set')\n",
    "print('Pass labels -1:', sum(mask_neg_outcome_y), 'cases')\n",
    "print('Fail labels 1:', sum(pos_outcome), 'cases')"
   ]
  },
  {
   "cell_type": "code",
   "execution_count": 74,
   "metadata": {},
   "outputs": [
    {
     "name": "stdout",
     "output_type": "stream",
     "text": [
      "Pass labels 0: 1118 cases\n",
      "Fail labels 1: 82 cases\n",
      "Pass labels 0: 345 cases\n",
      "Fail labels 1: 22 cases\n"
     ]
    }
   ],
   "source": [
    "# Replace -1 with 0\n",
    "train_y[mask_neg_outcome_Y] = 0\n",
    "zero_outcome = (train_y == 0)\n",
    "pos_outcome  = (train_y == 1)\n",
    "print('Pass labels 0:', sum(zero_outcome), 'cases')\n",
    "print('Fail labels 1:', sum(pos_outcome), 'cases')\n",
    "\n",
    "test_y[mask_neg_outcome_y] = 0\n",
    "zero_outcome = (test_y == 0)\n",
    "pos_outcome  = (test_y == 1)\n",
    "print('Pass labels 0:', sum(zero_outcome), 'cases')\n",
    "print('Fail labels 1:', sum(pos_outcome), 'cases')"
   ]
  },
  {
   "cell_type": "code",
   "execution_count": 75,
   "metadata": {},
   "outputs": [
    {
     "name": "stdout",
     "output_type": "stream",
     "text": [
      "(1199, 180) (1200,) (366, 180) (367,)\n"
     ]
    }
   ],
   "source": [
    "# To arrays\n",
    "train_X, train_y = train_X.values, train_y.values\n",
    "test_X, test_y = test_X.values, test_y.values\n",
    "print(train_X.shape, train_y.shape, test_X.shape, test_y.shape) "
   ]
  },
  {
   "cell_type": "code",
   "execution_count": 76,
   "metadata": {},
   "outputs": [
    {
     "name": "stdout",
     "output_type": "stream",
     "text": [
      "(1199, 1, 180) (1200,) (366, 1, 180) (367,)\n"
     ]
    }
   ],
   "source": [
    "# reshape input to be 3D [samples, timesteps, features]\n",
    "train_X = train_X.reshape((train_X.shape[0], 1, train_X.shape[1]))\n",
    "test_X = test_X.reshape((test_X.shape[0], 1, test_X.shape[1]))\n",
    "print(train_X.shape, train_y.shape, test_X.shape, test_y.shape) "
   ]
  },
  {
   "cell_type": "code",
   "execution_count": 77,
   "metadata": {},
   "outputs": [
    {
     "data": {
      "text/plain": [
       "[numpy.ndarray, numpy.ndarray, numpy.ndarray, numpy.ndarray]"
      ]
     },
     "execution_count": 77,
     "metadata": {},
     "output_type": "execute_result"
    }
   ],
   "source": [
    "# Check data structure types\n",
    "[type(i) for i in (train_X, train_y,  test_X, test_y)] "
   ]
  },
  {
   "cell_type": "code",
   "execution_count": 78,
   "metadata": {},
   "outputs": [],
   "source": [
    "# Delete the first rows in y-sets corresponding to the removed rows with NaN values \n",
    "# in the x-sets because of the pd.shift operation\n",
    "# train_X = np.delete(train_X, (0), axis=0)  # already deleted\n",
    "train_y = np.delete(train_y, (0), axis=0)\n",
    "# test_X = np.delete(test_X, (0), axis=0)  # already deleted\n",
    "test_y = np.delete(test_y, (0), axis=0)"
   ]
  },
  {
   "cell_type": "code",
   "execution_count": 79,
   "metadata": {},
   "outputs": [],
   "source": [
    "def run_rnn():\n",
    "    \"\"\"Return predictions from a single run of RNN.\"\"\"\n",
    "    rnn_model = keras.models.Sequential()\n",
    "    rnn_model.add(keras.layers.LSTM(100, input_shape=(train_X.shape[1], train_X.shape[2])))\n",
    "    rnn_model.add(keras.layers.Dropout(0.2))\n",
    "    #    model.add(keras.layers.LSTM(70))\n",
    "    #    model.add(keras.layers.Dropout(0.3))\n",
    "    rnn_model.add(keras.layers.Dense(1, activation=tf.nn.sigmoid))\n",
    "\n",
    "    # rnn_model.compile(loss='mean_squared_error', optimizer='adam')\n",
    "\n",
    "    rnn_model.compile(optimizer='adam',\n",
    "                          loss='binary_crossentropy',\n",
    "                          metrics=['accuracy', 'binary_crossentropy'])\n",
    "    rnn_model.fit(train_X,\n",
    "                  train_y,\n",
    "                  epochs=4,\n",
    "                  batch_size=70, \n",
    "#                     validation_data=(test_X, test_y),\n",
    "                  validation_split=0.1,\n",
    "                  verbose=2,\n",
    "                  shuffle=False)\n",
    "    rnn_predictions = rnn_model.predict(test_X)\n",
    "    return rnn_predictions"
   ]
  },
  {
   "cell_type": "code",
   "execution_count": 80,
   "metadata": {},
   "outputs": [
    {
     "name": "stdout",
     "output_type": "stream",
     "text": [
      "WARNING:tensorflow:From /anaconda3/lib/python3.6/site-packages/tensorflow/python/keras/layers/core.py:143: calling dropout (from tensorflow.python.ops.nn_ops) with keep_prob is deprecated and will be removed in a future version.\n",
      "Instructions for updating:\n",
      "Please use `rate` instead of `keep_prob`. Rate should be set to `rate = 1 - keep_prob`.\n",
      "Train on 1079 samples, validate on 120 samples\n",
      "Epoch 1/4\n",
      " - 1s - loss: 0.7079 - acc: 0.4940 - binary_crossentropy: 0.7079 - val_loss: 0.8576 - val_acc: 0.0667 - val_binary_crossentropy: 0.8576\n",
      "Epoch 2/4\n",
      " - 0s - loss: 0.5637 - acc: 0.8109 - binary_crossentropy: 0.5637 - val_loss: 0.7513 - val_acc: 0.2583 - val_binary_crossentropy: 0.7513\n",
      "Epoch 3/4\n",
      " - 0s - loss: 0.4788 - acc: 0.9231 - binary_crossentropy: 0.4788 - val_loss: 0.6541 - val_acc: 0.6833 - val_binary_crossentropy: 0.6541\n",
      "Epoch 4/4\n",
      " - 0s - loss: 0.4017 - acc: 0.9286 - binary_crossentropy: 0.4017 - val_loss: 0.5659 - val_acc: 0.9000 - val_binary_crossentropy: 0.5659\n",
      "          0      mean\n",
      "0  0.460808  0.460808\n",
      "1  0.486073  0.486073\n",
      "2  0.397704  0.397704\n",
      "3  0.431037  0.431037\n",
      "4  0.359273  0.359273\n",
      "RNN classification report\n",
      "              precision    recall  f1-score   support\n",
      "\n",
      "           0       0.94      0.99      0.97       344\n",
      "           1       0.00      0.00      0.00        22\n",
      "\n",
      "    accuracy                           0.93       366\n",
      "   macro avg       0.47      0.50      0.48       366\n",
      "weighted avg       0.88      0.93      0.91       366\n",
      "\n",
      "RNN confusion matrix\n"
     ]
    },
    {
     "data": {
      "text/html": [
       "<div>\n",
       "<style scoped>\n",
       "    .dataframe tbody tr th:only-of-type {\n",
       "        vertical-align: middle;\n",
       "    }\n",
       "\n",
       "    .dataframe tbody tr th {\n",
       "        vertical-align: top;\n",
       "    }\n",
       "\n",
       "    .dataframe thead th {\n",
       "        text-align: right;\n",
       "    }\n",
       "</style>\n",
       "<table border=\"1\" class=\"dataframe\">\n",
       "  <thead>\n",
       "    <tr style=\"text-align: right;\">\n",
       "      <th></th>\n",
       "      <th>Predicted 0</th>\n",
       "      <th>Predicted 1</th>\n",
       "    </tr>\n",
       "  </thead>\n",
       "  <tbody>\n",
       "    <tr>\n",
       "      <th>True 0</th>\n",
       "      <td>342</td>\n",
       "      <td>2</td>\n",
       "    </tr>\n",
       "    <tr>\n",
       "      <th>True 1</th>\n",
       "      <td>22</td>\n",
       "      <td>0</td>\n",
       "    </tr>\n",
       "  </tbody>\n",
       "</table>\n",
       "</div>"
      ],
      "text/plain": [
       "        Predicted 0  Predicted 1\n",
       "True 0          342            2\n",
       "True 1           22            0"
      ]
     },
     "execution_count": 80,
     "metadata": {},
     "output_type": "execute_result"
    }
   ],
   "source": [
    "# Generate several arrays of predictions -- see average results for 10 runs below\n",
    "rnn_predictions = []\n",
    "num_runs = 1  # make it 1 for submission so that the code runs fast\n",
    "for i in range(num_runs):\n",
    "    rnn_predictions.append(run_rnn())\n",
    "\n",
    "# Calculate the mean of the predictions\n",
    "all_predictions_rnn = np.concatenate(rnn_predictions, axis=1)\n",
    "rnn_pred_df = pd.DataFrame(data=all_predictions_rnn,\n",
    "                           index=np.arange(all_predictions_rnn.shape[0]),\n",
    "                           columns=np.arange(all_predictions_rnn.shape[1])\n",
    "                          )\n",
    "rnn_pred_df['mean'] = np.mean(rnn_pred_df.loc[:, :], axis=1)\n",
    "print(rnn_pred_df.head())\n",
    "\n",
    "# Get classifications\n",
    "rnn_classifications = np.where(rnn_pred_df['mean'] >= 0.5, 1, 0)\n",
    "print('RNN classification report')\n",
    "print(classification_report(test_y, rnn_classifications))\n",
    "\n",
    "print('RNN confusion matrix')\n",
    "rnn_conf_matrix_obj = confusion_matrix(test_y, rnn_classifications)\n",
    "conf_matrix_rnn = pd.DataFrame(rnn_conf_matrix_obj,\n",
    "                               columns = ['Predicted 0', 'Predicted 1'],\n",
    "                               index = ['True 0', 'True 1']\n",
    "                              )\n",
    "conf_matrix_rnn"
   ]
  },
  {
   "cell_type": "markdown",
   "metadata": {},
   "source": [
    "<b>Average results for 10 runs of the RNN model</b>\n",
    "```\n",
    "RNN classification report\n",
    "\n",
    "              precision    recall  f1-score   support\n",
    "\n",
    "           0       0.94      1.00      0.97       344\n",
    "           1       0.00      0.00      0.00        22\n",
    "\n",
    "    accuracy                           0.94       366\n",
    "   macro avg       0.47      0.50      0.48       366\n",
    "weighted avg       0.88      0.94      0.91       366\n",
    "\n",
    "RNN confusion matrix\n",
    "\n",
    "Predicted 0\tPredicted 1\n",
    "True 0\t344\t0\n",
    "True 1\t22\t0\n",
    "```"
   ]
  },
  {
   "cell_type": "markdown",
   "metadata": {},
   "source": [
    "## Milestone 3 summary <a id='summary3'></a>"
   ]
  },
  {
   "cell_type": "markdown",
   "metadata": {},
   "source": [
    "In this part, I built three models - a simple perceptron model, a multi-layer perceptron and a recurrent neural network model (RNN). The RNN model required futher data processing in addition to that done in Milestone 1. \n",
    "\n",
    "All models perform very badly on the testing data by almost completely failing to predict correctly the rare positive class targets.\n",
    "\n",
    "Compared to the other models, only the Decision Tree model looks promising. \n",
    "\n",
    "In general,  based on the results of these models, I think it is not possible to draw any relevant conclusions about the relationship of the features and the product quality. "
   ]
  },
  {
   "cell_type": "code",
   "execution_count": null,
   "metadata": {},
   "outputs": [],
   "source": []
  }
 ],
 "metadata": {
  "kernelspec": {
   "display_name": "Python 3",
   "language": "python",
   "name": "python3"
  },
  "language_info": {
   "codemirror_mode": {
    "name": "ipython",
    "version": 3
   },
   "file_extension": ".py",
   "mimetype": "text/x-python",
   "name": "python",
   "nbconvert_exporter": "python",
   "pygments_lexer": "ipython3",
   "version": "3.6.8"
  }
 },
 "nbformat": 4,
 "nbformat_minor": 2
}
